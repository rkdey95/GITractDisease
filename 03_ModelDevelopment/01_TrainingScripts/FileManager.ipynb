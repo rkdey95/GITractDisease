{
 "cells": [
  {
   "cell_type": "markdown",
   "id": "bc32304b-7e99-4335-b01a-fb384473cb7f",
   "metadata": {},
   "source": [
    "## File Manager\n",
    "\n",
    "Written By: Rupesh Kumar Dey\n",
    "Notebook for file management"
   ]
  },
  {
   "cell_type": "code",
   "execution_count": 1,
   "id": "9f4d5874-aecc-42d9-a90f-8be1492bd72e",
   "metadata": {
    "execution": {
     "iopub.execute_input": "2022-08-28T04:51:29.694357Z",
     "iopub.status.busy": "2022-08-28T04:51:29.693608Z",
     "iopub.status.idle": "2022-08-28T04:51:32.671680Z",
     "shell.execute_reply": "2022-08-28T04:51:32.670700Z",
     "shell.execute_reply.started": "2022-08-28T04:51:29.694276Z"
    }
   },
   "outputs": [
    {
     "name": "stdout",
     "output_type": "stream",
     "text": [
      "Collecting openpyxl\n",
      "  Downloading openpyxl-3.0.10-py2.py3-none-any.whl (242 kB)\n",
      "\u001b[2K     \u001b[90m━━━━━━━━━━━━━━━━━━━━━━━━━━━━━━━━━━━━━━\u001b[0m \u001b[32m242.1/242.1 KB\u001b[0m \u001b[31m20.7 MB/s\u001b[0m eta \u001b[36m0:00:00\u001b[0m\n",
      "\u001b[?25hCollecting et-xmlfile\n",
      "  Downloading et_xmlfile-1.1.0-py3-none-any.whl (4.7 kB)\n",
      "Installing collected packages: et-xmlfile, openpyxl\n",
      "Successfully installed et-xmlfile-1.1.0 openpyxl-3.0.10\n",
      "\u001b[33mWARNING: Running pip as the 'root' user can result in broken permissions and conflicting behaviour with the system package manager. It is recommended to use a virtual environment instead: https://pip.pypa.io/warnings/venv\u001b[0m\u001b[33m\n",
      "\u001b[0m\u001b[33mWARNING: You are using pip version 22.0.3; however, version 22.2.2 is available.\n",
      "You should consider upgrading via the '/usr/bin/python -m pip install --upgrade pip' command.\u001b[0m\u001b[33m\n",
      "\u001b[0m"
     ]
    }
   ],
   "source": [
    "# importing required modules\n",
    "from zipfile import ZipFile\n",
    "import os \n",
    "import sys\n",
    "import shutil\n",
    "!pip install openpyxl\n",
    "# rm -r .Trash-0"
   ]
  },
  {
   "cell_type": "markdown",
   "id": "13e3f281-6601-42c5-ba31-2636da12a15e",
   "metadata": {},
   "source": [
    "## Section to unzip files"
   ]
  },
  {
   "cell_type": "code",
   "execution_count": 2,
   "id": "06714c55-f426-4366-87a8-25cdb5978a6b",
   "metadata": {
    "execution": {
     "iopub.execute_input": "2022-08-28T04:51:39.592148Z",
     "iopub.status.busy": "2022-08-28T04:51:39.591897Z",
     "iopub.status.idle": "2022-08-28T04:51:39.605816Z",
     "shell.execute_reply": "2022-08-28T04:51:39.605027Z",
     "shell.execute_reply.started": "2022-08-28T04:51:39.592119Z"
    }
   },
   "outputs": [
    {
     "data": {
      "text/plain": [
       "True"
      ]
     },
     "execution_count": 2,
     "metadata": {},
     "output_type": "execute_result"
    }
   ],
   "source": [
    "# Insert File Location\n",
    "root_path = \"/notebooks\"\n",
    "\n",
    "# Insert file location here\n",
    "path_data = root_path + \"/DatasetAug.zip\"\n",
    "\n",
    "# Checking if filepath or zipfile exists\n",
    "os.path.isfile(path_data)"
   ]
  },
  {
   "cell_type": "code",
   "execution_count": 3,
   "id": "551e82d4-3c07-4c24-a8bd-98df2fc76568",
   "metadata": {
    "execution": {
     "iopub.execute_input": "2022-08-28T04:51:43.359842Z",
     "iopub.status.busy": "2022-08-28T04:51:43.359189Z",
     "iopub.status.idle": "2022-08-28T04:52:40.120648Z",
     "shell.execute_reply": "2022-08-28T04:52:40.119272Z",
     "shell.execute_reply.started": "2022-08-28T04:51:43.359814Z"
    }
   },
   "outputs": [
    {
     "name": "stdout",
     "output_type": "stream",
     "text": [
      "Extracting all the files now...\n",
      "Done!\n"
     ]
    }
   ],
   "source": [
    "# opening the zip file in READ mode\n",
    "with ZipFile(path_data, 'r') as zip:\n",
    "    \"\"\"\n",
    "    Function to unzip files from a zip file folder\n",
    "    \"\"\"\n",
    "    # printing all the contents of the zip file\n",
    "    # zip.printdir()\n",
    "    # extracting all the files\n",
    "    print('Extracting all the files now...')\n",
    "    zip.extractall()\n",
    "    print('Done!')"
   ]
  },
  {
   "cell_type": "markdown",
   "id": "a808f64b-0bc4-4a1f-8519-eb78f6913b8d",
   "metadata": {},
   "source": [
    "## Section to Move Folder from one location to another"
   ]
  },
  {
   "cell_type": "code",
   "execution_count": 4,
   "id": "91389cae-61bc-48ba-80e8-04bca13611fb",
   "metadata": {
    "execution": {
     "iopub.execute_input": "2022-07-26T13:07:00.204679Z",
     "iopub.status.busy": "2022-07-26T13:07:00.204285Z",
     "iopub.status.idle": "2022-07-26T13:07:00.237864Z",
     "shell.execute_reply": "2022-07-26T13:07:00.236807Z",
     "shell.execute_reply.started": "2022-07-26T13:07:00.204635Z"
    }
   },
   "outputs": [
    {
     "data": {
      "text/plain": [
       "'/notebooks/11_FinalAugmentationModelsTest.ipynb'"
      ]
     },
     "execution_count": 4,
     "metadata": {},
     "output_type": "execute_result"
    }
   ],
   "source": [
    "source = root_path + \"/TrainedResultsAugTuned/11_FinalAugmentationModelsTest.ipynb\"\n",
    "destination = root_path + \"/11_FinalAugmentationModelsTest.ipynb\"\n",
    "  \n",
    "shutil.move(source, destination)"
   ]
  },
  {
   "cell_type": "markdown",
   "id": "e2b3cf2c-b4d8-4f9b-ad87-8fa117b395f6",
   "metadata": {},
   "source": [
    "## Section to Delete Files in folder"
   ]
  },
  {
   "cell_type": "code",
   "execution_count": null,
   "id": "1f824a3a-537f-4361-97f7-c077b3e774d1",
   "metadata": {},
   "outputs": [],
   "source": [
    "import os\n",
    "file_path = \"/notebooks/testing/Dataset_CLAHE/train/0_normal_CLAHE/\"\n",
    "shutil.rmtree('dir_path')"
   ]
  },
  {
   "cell_type": "markdown",
   "id": "4b5d4335-5fcd-4248-babd-8a64b6fcf536",
   "metadata": {},
   "source": [
    "## Section to zip files"
   ]
  },
  {
   "cell_type": "code",
   "execution_count": 9,
   "id": "2c654b70-488e-4019-a7c2-40777921463f",
   "metadata": {
    "execution": {
     "iopub.execute_input": "2022-08-02T06:29:38.936812Z",
     "iopub.status.busy": "2022-08-02T06:29:38.936510Z",
     "iopub.status.idle": "2022-08-02T06:29:38.949397Z",
     "shell.execute_reply": "2022-08-02T06:29:38.948452Z",
     "shell.execute_reply.started": "2022-08-02T06:29:38.936769Z"
    }
   },
   "outputs": [
    {
     "name": "stdout",
     "output_type": "stream",
     "text": [
      "DONE\n"
     ]
    }
   ],
   "source": [
    "import shutil\n",
    "shutil.make_archive(\"13B_AugVotingModels\", 'zip', \"ValResults/13B_AugVotingModels\")\n",
    "print(\"DONE\")"
   ]
  },
  {
   "cell_type": "code",
   "execution_count": 23,
   "id": "dcef2d73-c968-4ae9-a4d2-d7f8c63cb898",
   "metadata": {
    "execution": {
     "iopub.execute_input": "2022-06-26T02:14:39.521624Z",
     "iopub.status.busy": "2022-06-26T02:14:39.521397Z",
     "iopub.status.idle": "2022-06-26T02:14:39.529925Z",
     "shell.execute_reply": "2022-06-26T02:14:39.528949Z",
     "shell.execute_reply.started": "2022-06-26T02:14:39.521602Z"
    }
   },
   "outputs": [
    {
     "data": {
      "text/plain": [
       "(1.0, 0.853333333, 0.8, 0.993333333)"
      ]
     },
     "execution_count": 23,
     "metadata": {},
     "output_type": "execute_result"
    }
   ],
   "source": [
    "# For checking purposes\n",
    "\"\"\"\n",
    "df[\"ModelName\"][0], df[\"ModelID\"][0], df[\"macro avg\"][1],df[\"macro avg\"][0], df[\"macro avg\"][2]\n",
    "df[df.columns[1]][1], df[df.columns[2]][1], df[df.columns[3]][1], df[df.columns[4]][1]\n",
    "\"\"\""
   ]
  },
  {
   "cell_type": "markdown",
   "id": "73ce39c6",
   "metadata": {},
   "source": [
    "## Section to extract and summarize classification report for analysis"
   ]
  },
  {
   "cell_type": "code",
   "execution_count": 3,
   "id": "a7bf3529-4cbc-4c16-92ee-ff2bbf09a7e5",
   "metadata": {
    "execution": {
     "iopub.execute_input": "2022-08-02T06:38:33.837286Z",
     "iopub.status.busy": "2022-08-02T06:38:33.836886Z",
     "iopub.status.idle": "2022-08-02T06:38:33.855653Z",
     "shell.execute_reply": "2022-08-02T06:38:33.854467Z",
     "shell.execute_reply.started": "2022-08-02T06:38:33.837274Z"
    }
   },
   "outputs": [],
   "source": [
    "def extractClassificationReport(reportsPath):\n",
    "    \"\"\"\n",
    "    Python function file to extract test and validation data from results folders with classification reports and summarize the results in a single CSV file.\n",
    "    Inputs:\n",
    "        a) reportsPath - Location where classification reports are stored\n",
    "\n",
    "\n",
    "    Outputs:\n",
    "        a) dfResults - summarized results\n",
    "    \"\"\"\n",
    "    import os\n",
    "    import pandas as pd\n",
    "\n",
    "    # Create template dataframe\n",
    "    dfResults = pd.DataFrame(columns=['modelName', 'modelGroup', 'inputSize', 'optimizer', 'lrType',\n",
    "                                      'transferLearning', 'featureExtraction', 'fineTuning', 'augmentation',\n",
    "                                      'valAccuracy', 'valPrecision', 'valF1Score', 'testAccuracy', 'testPrecision',\n",
    "                                      'testF1Score',\n",
    "                                      'normal_recall_val', 'ulcerative_colitis_recall_val', 'polyps_recall_val',\n",
    "                                      'esophagitis_recall_val',\n",
    "                                      'normal_recall_test', 'ulcerative_colitis_recall_test', 'polyps_recall_test',\n",
    "                                      'esophagitis_recall_test', 'ValTestAverage'])\n",
    "\n",
    "    # Specify location of test and validation files\n",
    "    fileListVal = os.listdir(reportsPath + \"val/\")\n",
    "    fileListTest = os.listdir(reportsPath + \"test/\")\n",
    "\n",
    "    # Ensure that the same number of files for validation and test are saved\n",
    "    assert len(fileListVal) == len(\n",
    "        fileListTest), \"Please check file directory and ensure both test and val folders have a complete set of data\"\n",
    "\n",
    "    # Process each file\n",
    "    for i in range(len(fileListVal)):\n",
    "        # Filename\n",
    "        filename, file_extension = os.path.splitext(fileListVal[i])\n",
    "\n",
    "        # Test and validation file to read data from to summarize\n",
    "        dfVal = pd.read_csv(reportsPath + \"val/\" + fileListVal[i])\n",
    "        dfTest = pd.read_csv(reportsPath + \"test/\" + filename + \"_TEST.csv\")\n",
    "\n",
    "        # Print path to check\n",
    "        print(reportsPath + \"val/\" + fileListVal[i])\n",
    "        print(reportsPath + \"test/\" + filename + \"_TEST.csv\")\n",
    "        print(\"\\n\")\n",
    "\n",
    "        # Extract data\n",
    "        modelName = os.path.splitext(fileListVal[i])[0]\n",
    "        modelID = dfVal[\"modelTag\"][0]\n",
    "\n",
    "        # Input size\n",
    "        if \"basemodel1\" in modelName.lower():\n",
    "            inputSize = 100\n",
    "        else:\n",
    "            inputSize = 224\n",
    "\n",
    "        # optimizer\n",
    "        if \"adam\" in modelName.lower():\n",
    "            optimizer = \"ADAM\"\n",
    "        else:\n",
    "            optimizer = \"SGD\"\n",
    "\n",
    "        # Learning rate regime\n",
    "        if \"lrscheduler\" in modelName.lower():\n",
    "            lrType = \"DYNAMIC\"\n",
    "        else:\n",
    "            lrType = \"STATIC\"\n",
    "\n",
    "        # Transfer learning implemented or not\n",
    "        if \"transferlearning\" in modelName.lower():\n",
    "            transferLearning = True\n",
    "        else:\n",
    "            transferLearning = False\n",
    "\n",
    "        # Is transfer learning type a feature extraction type\n",
    "        if \"transferlearningfeatureextraction\" in modelName.lower() and transferLearning == True:\n",
    "            featureExtraction = True\n",
    "        else:\n",
    "            featureExtraction = False\n",
    "\n",
    "        # Is transfer learning type a fine tuning type\n",
    "        if \"transferlearningfinetuning\" in modelName.lower() and transferLearning == True:\n",
    "            fineTuning = True\n",
    "        else:\n",
    "            fineTuning = False\n",
    "\n",
    "        # Is the model trained on augmented data\n",
    "        if \"11_\" in modelName.lower():\n",
    "            augmentation = True\n",
    "        else:\n",
    "            augmentation = False\n",
    "        \n",
    "        # Extract results. \n",
    "        valAccuracy = dfVal[\"macro avg\"][1]\n",
    "        valPrecision = dfVal[\"macro avg\"][0]\n",
    "        valF1Score = dfVal[\"macro avg\"][2]\n",
    "\n",
    "        testAccuracy = dfTest[\"macro avg\"][1]\n",
    "        testPrecision = dfTest[\"macro avg\"][0]\n",
    "        testF1Score = dfTest[\"macro avg\"][2]\n",
    "\n",
    "        normal_recall_val = dfVal[dfVal.columns[1]][1]\n",
    "        ulcerative_colitis_recall_val = dfVal[dfVal.columns[2]][1]\n",
    "        polyps_recall_val = dfVal[dfVal.columns[3]][1]\n",
    "        esophagitis_recall_val = dfVal[dfVal.columns[4]][1]\n",
    "\n",
    "        normal_recall_test = dfTest[dfTest.columns[1]][1]\n",
    "        ulcerative_colitis_recall_test = dfTest[dfTest.columns[2]][1]\n",
    "        polyps_recall_test = dfTest[dfTest.columns[3]][1]\n",
    "        esophagitis_recall_test = dfTest[dfTest.columns[4]][1]\n",
    "        \n",
    "        # Append data to dataframe\n",
    "        dfResults = dfResults.append({\n",
    "            'modelName': modelName,\n",
    "            'modelGroup': modelID,\n",
    "            'inputSize': inputSize,\n",
    "            'optimizer': optimizer,\n",
    "            'lrType': lrType,\n",
    "            'transferLearning': transferLearning,\n",
    "            'featureExtraction': featureExtraction,\n",
    "            'fineTuning': fineTuning,\n",
    "            'augmentation': augmentation,\n",
    "            'valAccuracy': valAccuracy,\n",
    "            'valPrecision': valPrecision,\n",
    "            'valF1Score': valF1Score,\n",
    "            'testAccuracy': testAccuracy,\n",
    "            'testPrecision': testPrecision,\n",
    "            'testF1Score': testF1Score,\n",
    "            'normal_recall_val': normal_recall_val,\n",
    "            'ulcerative_colitis_recall_val': ulcerative_colitis_recall_val,\n",
    "            'polyps_recall_val': polyps_recall_val,\n",
    "            'esophagitis_recall_val': esophagitis_recall_val,\n",
    "            'normal_recall_test': normal_recall_test,\n",
    "            'ulcerative_colitis_recall_test': ulcerative_colitis_recall_test,\n",
    "            'polyps_recall_test': polyps_recall_test,\n",
    "            'esophagitis_recall_test': esophagitis_recall_test,\n",
    "            'ValTestAverage': 0.5 * (valAccuracy + testAccuracy)},\n",
    "            ignore_index=True)\n",
    "    \n",
    "    return dfResults"
   ]
  },
  {
   "cell_type": "code",
   "execution_count": 5,
   "id": "5369bfd0-2911-41bb-a15f-c1bcea9bf288",
   "metadata": {
    "execution": {
     "iopub.execute_input": "2022-08-02T06:40:17.428626Z",
     "iopub.status.busy": "2022-08-02T06:40:17.428372Z",
     "iopub.status.idle": "2022-08-02T06:40:17.819947Z",
     "shell.execute_reply": "2022-08-02T06:40:17.819274Z",
     "shell.execute_reply.started": "2022-08-02T06:40:17.428597Z"
    }
   },
   "outputs": [
    {
     "name": "stdout",
     "output_type": "stream",
     "text": [
      "classificationReportExtraction/val/13A_TransferLearningFeatureExtraction_ResNet50V2_NORMAL_tunedAdamLrScheduler.csv\n",
      "classificationReportExtraction/test/13A_TransferLearningFeatureExtraction_ResNet50V2_NORMAL_tunedAdamLrScheduler_TEST.csv\n",
      "\n",
      "\n",
      "classificationReportExtraction/val/13A_TransferLearningFeatureExtraction_MobileNetV1_NORMAL_tunedAdamLrScheduler.csv\n",
      "classificationReportExtraction/test/13A_TransferLearningFeatureExtraction_MobileNetV1_NORMAL_tunedAdamLrScheduler_TEST.csv\n",
      "\n",
      "\n",
      "classificationReportExtraction/val/13A_TransferLearningFeatureExtraction_ResNet50V1_MULTISCALE_tunedAdamLrScheduler.csv\n",
      "classificationReportExtraction/test/13A_TransferLearningFeatureExtraction_ResNet50V1_MULTISCALE_tunedAdamLrScheduler_TEST.csv\n",
      "\n",
      "\n",
      "classificationReportExtraction/val/13A_TransferLearningFineTuning_ResNet50V2_RAYLEIGH.csv\n",
      "classificationReportExtraction/test/13A_TransferLearningFineTuning_ResNet50V2_RAYLEIGH_TEST.csv\n",
      "\n",
      "\n",
      "classificationReportExtraction/val/13_BaseModel2_MULTISCALE_tunedAdamLrScheduler.csv\n",
      "classificationReportExtraction/test/13_BaseModel2_MULTISCALE_tunedAdamLrScheduler_TEST.csv\n",
      "\n",
      "\n",
      "classificationReportExtraction/val/13A_TransferLearningFineTuning_MobileNetV2_NORMAL.csv\n",
      "classificationReportExtraction/test/13A_TransferLearningFineTuning_MobileNetV2_NORMAL_TEST.csv\n",
      "\n",
      "\n",
      "classificationReportExtraction/val/13_TransferLearningFineTuning_MobileNetV2_NORMAL.csv\n",
      "classificationReportExtraction/test/13_TransferLearningFineTuning_MobileNetV2_NORMAL_TEST.csv\n",
      "\n",
      "\n",
      "classificationReportExtraction/val/13A_BaseModel1_CLAHE.csv\n",
      "classificationReportExtraction/test/13A_BaseModel1_CLAHE_TEST.csv\n",
      "\n",
      "\n",
      "classificationReportExtraction/val/13_TransferLearningFeatureExtraction_ResNet50V2_NORMAL_tunedAdamLrScheduler.csv\n",
      "classificationReportExtraction/test/13_TransferLearningFeatureExtraction_ResNet50V2_NORMAL_tunedAdamLrScheduler_TEST.csv\n",
      "\n",
      "\n",
      "classificationReportExtraction/val/13_BaseModel1_CLAHE.csv\n",
      "classificationReportExtraction/test/13_BaseModel1_CLAHE_TEST.csv\n",
      "\n",
      "\n",
      "classificationReportExtraction/val/13_TransferLearningFineTuning_MobileNetV1_NORMAL.csv\n",
      "classificationReportExtraction/test/13_TransferLearningFineTuning_MobileNetV1_NORMAL_TEST.csv\n",
      "\n",
      "\n",
      "classificationReportExtraction/val/13B_AugVotingModels.csv\n",
      "classificationReportExtraction/test/13B_AugVotingModels_TEST.csv\n",
      "\n",
      "\n",
      "classificationReportExtraction/val/13_TransferLearningFeatureExtraction_MobileNetV2_CLAHE_tunedAdamLrScheduler.csv\n",
      "classificationReportExtraction/test/13_TransferLearningFeatureExtraction_MobileNetV2_CLAHE_tunedAdamLrScheduler_TEST.csv\n",
      "\n",
      "\n",
      "classificationReportExtraction/val/13A_TransferLearningFeatureExtraction_MobileNetV2_CLAHE_tunedAdamLrScheduler.csv\n",
      "classificationReportExtraction/test/13A_TransferLearningFeatureExtraction_MobileNetV2_CLAHE_tunedAdamLrScheduler_TEST.csv\n",
      "\n",
      "\n",
      "classificationReportExtraction/val/13_TransferLearningFineTuning_ResNet50V2_RAYLEIGH.csv\n",
      "classificationReportExtraction/test/13_TransferLearningFineTuning_ResNet50V2_RAYLEIGH_TEST.csv\n",
      "\n",
      "\n",
      "classificationReportExtraction/val/13A_TransferLearningFineTuning_ResNet50V1_CLAHE_tunedAdamLrScheduler.csv\n",
      "classificationReportExtraction/test/13A_TransferLearningFineTuning_ResNet50V1_CLAHE_tunedAdamLrScheduler_TEST.csv\n",
      "\n",
      "\n",
      "classificationReportExtraction/val/13_TransferLearningFeatureExtraction_MobileNetV1_NORMAL_tunedAdamLrScheduler.csv\n",
      "classificationReportExtraction/test/13_TransferLearningFeatureExtraction_MobileNetV1_NORMAL_tunedAdamLrScheduler_TEST.csv\n",
      "\n",
      "\n",
      "classificationReportExtraction/val/13A_BaseModel2_MULTISCALE_tunedAdamLrScheduler.csv\n",
      "classificationReportExtraction/test/13A_BaseModel2_MULTISCALE_tunedAdamLrScheduler_TEST.csv\n",
      "\n",
      "\n",
      "classificationReportExtraction/val/13A_TransferLearningFineTuning_MobileNetV1_NORMAL.csv\n",
      "classificationReportExtraction/test/13A_TransferLearningFineTuning_MobileNetV1_NORMAL_TEST.csv\n",
      "\n",
      "\n",
      "classificationReportExtraction/val/13_TransferLearningFeatureExtraction_ResNet50V1_MULTISCALE_tunedAdamLrScheduler.csv\n",
      "classificationReportExtraction/test/13_TransferLearningFeatureExtraction_ResNet50V1_MULTISCALE_tunedAdamLrScheduler_TEST.csv\n",
      "\n",
      "\n",
      "classificationReportExtraction/val/13_TransferLearningFineTuning_ResNet50V1_CLAHE_tunedAdamLrScheduler.csv\n",
      "classificationReportExtraction/test/13_TransferLearningFineTuning_ResNet50V1_CLAHE_tunedAdamLrScheduler_TEST.csv\n",
      "\n",
      "\n"
     ]
    }
   ],
   "source": [
    "# Perform classification report summary \n",
    "dfResults = extractClassificationReport(\"classificationReportExtraction/\")"
   ]
  },
  {
   "cell_type": "code",
   "execution_count": 6,
   "id": "c107aa8c-e1ad-489a-9993-8f8fb1a22ed3",
   "metadata": {
    "execution": {
     "iopub.execute_input": "2022-08-02T06:40:23.251037Z",
     "iopub.status.busy": "2022-08-02T06:40:23.250135Z",
     "iopub.status.idle": "2022-08-02T06:40:23.626380Z",
     "shell.execute_reply": "2022-08-02T06:40:23.625575Z",
     "shell.execute_reply.started": "2022-08-02T06:40:23.250997Z"
    }
   },
   "outputs": [],
   "source": [
    "# Convert results to csv and excel and save to directory. \n",
    "dfResults.to_csv(\"classificationReportExtraction13.csv\")\n",
    "dfResults.to_excel(r\"classificationReportExtraction13.xlsx\", index = False, header=True)"
   ]
  },
  {
   "cell_type": "code",
   "execution_count": 8,
   "id": "b02e2fd0-9ed7-48a7-9c1d-18cc5eb8ca19",
   "metadata": {
    "execution": {
     "iopub.execute_input": "2022-07-29T17:51:53.016261Z",
     "iopub.status.busy": "2022-07-29T17:51:53.015930Z",
     "iopub.status.idle": "2022-07-29T17:51:55.602357Z",
     "shell.execute_reply": "2022-07-29T17:51:55.601553Z",
     "shell.execute_reply.started": "2022-07-29T17:51:53.016229Z"
    }
   },
   "outputs": [
    {
     "name": "stdout",
     "output_type": "stream",
     "text": [
      "Collecting openpyxl\n",
      "  Downloading openpyxl-3.0.10-py2.py3-none-any.whl (242 kB)\n",
      "\u001b[2K     \u001b[90m━━━━━━━━━━━━━━━━━━━━━━━━━━━━━━━━━━━━━━\u001b[0m \u001b[32m242.1/242.1 KB\u001b[0m \u001b[31m16.4 MB/s\u001b[0m eta \u001b[36m0:00:00\u001b[0m\n",
      "\u001b[?25hCollecting et-xmlfile\n",
      "  Downloading et_xmlfile-1.1.0-py3-none-any.whl (4.7 kB)\n",
      "Installing collected packages: et-xmlfile, openpyxl\n",
      "Successfully installed et-xmlfile-1.1.0 openpyxl-3.0.10\n",
      "\u001b[33mWARNING: Running pip as the 'root' user can result in broken permissions and conflicting behaviour with the system package manager. It is recommended to use a virtual environment instead: https://pip.pypa.io/warnings/venv\u001b[0m\u001b[33m\n",
      "\u001b[0m\u001b[33mWARNING: You are using pip version 22.0.3; however, version 22.2.1 is available.\n",
      "You should consider upgrading via the '/usr/bin/python -m pip install --upgrade pip' command.\u001b[0m\u001b[33m\n",
      "\u001b[0m"
     ]
    }
   ],
   "source": []
  },
  {
   "cell_type": "code",
   "execution_count": null,
   "id": "943a1dbd-c3ab-44c6-a97c-7b2975ccc694",
   "metadata": {},
   "outputs": [],
   "source": []
  },
  {
   "cell_type": "code",
   "execution_count": null,
   "id": "2196d5f0-5987-4a43-9f67-46d9ec1989c6",
   "metadata": {},
   "outputs": [],
   "source": []
  }
 ],
 "metadata": {
  "kernelspec": {
   "display_name": "Python 3 (ipykernel)",
   "language": "python",
   "name": "python3"
  },
  "language_info": {
   "codemirror_mode": {
    "name": "ipython",
    "version": 3
   },
   "file_extension": ".py",
   "mimetype": "text/x-python",
   "name": "python",
   "nbconvert_exporter": "python",
   "pygments_lexer": "ipython3",
   "version": "3.8.10"
  }
 },
 "nbformat": 4,
 "nbformat_minor": 5
}
