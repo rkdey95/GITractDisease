{
 "cells": [
  {
   "cell_type": "markdown",
   "metadata": {
    "id": "w_PE4HTj4pGK"
   },
   "source": [
    "# 12_AugModelsMaxVotingTest (Ensemble of Models Testing)\n",
    "\n",
    "Written by: Rupesh Kumar Dey\n",
    "\n",
    "Notebook used for model testing for Ensemble of Aug Models"
   ]
  },
  {
   "cell_type": "markdown",
   "metadata": {
    "id": "nH61wJjmxaQJ"
   },
   "source": [
    "## Importing required Libraries"
   ]
  },
  {
   "cell_type": "code",
   "execution_count": 1,
   "metadata": {
    "execution": {
     "iopub.execute_input": "2022-08-31T14:11:20.529608Z",
     "iopub.status.busy": "2022-08-31T14:11:20.529274Z",
     "iopub.status.idle": "2022-08-31T14:11:26.306227Z",
     "shell.execute_reply": "2022-08-31T14:11:26.305283Z",
     "shell.execute_reply.started": "2022-08-31T14:11:20.529529Z"
    },
    "id": "cf_6GDu_4jgC",
    "outputId": "36e7ae8b-04d4-44bb-c2b0-580013d23899"
   },
   "outputs": [
    {
     "name": "stdout",
     "output_type": "stream",
     "text": [
      "Requirement already satisfied: tensorflow_hub in /usr/local/lib/python3.8/dist-packages (0.12.0)\n",
      "Requirement already satisfied: protobuf>=3.8.0 in /usr/local/lib/python3.8/dist-packages (from tensorflow_hub) (3.17.3)\n",
      "Requirement already satisfied: numpy>=1.12.0 in /usr/local/lib/python3.8/dist-packages (from tensorflow_hub) (1.19.4)\n",
      "Requirement already satisfied: six>=1.9 in /usr/local/lib/python3.8/dist-packages (from protobuf>=3.8.0->tensorflow_hub) (1.15.0)\n",
      "\u001b[33mWARNING: Running pip as the 'root' user can result in broken permissions and conflicting behaviour with the system package manager. It is recommended to use a virtual environment instead: https://pip.pypa.io/warnings/venv\u001b[0m\u001b[33m\n",
      "\u001b[0m\u001b[33mWARNING: You are using pip version 22.0.3; however, version 22.2.2 is available.\n",
      "You should consider upgrading via the '/usr/bin/python -m pip install --upgrade pip' command.\u001b[0m\u001b[33m\n",
      "\u001b[0mRequirement already satisfied: seaborn in /usr/local/lib/python3.8/dist-packages (0.11.2)\n",
      "Requirement already satisfied: pandas>=0.23 in /usr/local/lib/python3.8/dist-packages (from seaborn) (1.2.5)\n",
      "Requirement already satisfied: matplotlib>=2.2 in /usr/local/lib/python3.8/dist-packages (from seaborn) (3.5.0)\n",
      "Requirement already satisfied: numpy>=1.15 in /usr/local/lib/python3.8/dist-packages (from seaborn) (1.19.4)\n",
      "Requirement already satisfied: scipy>=1.0 in /usr/local/lib/python3.8/dist-packages (from seaborn) (1.4.1)\n",
      "Requirement already satisfied: pillow>=6.2.0 in /usr/local/lib/python3.8/dist-packages (from matplotlib>=2.2->seaborn) (9.0.1)\n",
      "Requirement already satisfied: python-dateutil>=2.7 in /usr/local/lib/python3.8/dist-packages (from matplotlib>=2.2->seaborn) (2.8.2)\n",
      "Requirement already satisfied: kiwisolver>=1.0.1 in /usr/local/lib/python3.8/dist-packages (from matplotlib>=2.2->seaborn) (1.3.2)\n",
      "Requirement already satisfied: pyparsing>=2.2.1 in /usr/local/lib/python3.8/dist-packages (from matplotlib>=2.2->seaborn) (3.0.7)\n",
      "Requirement already satisfied: packaging>=20.0 in /usr/local/lib/python3.8/dist-packages (from matplotlib>=2.2->seaborn) (21.3)\n",
      "Requirement already satisfied: cycler>=0.10 in /usr/local/lib/python3.8/dist-packages (from matplotlib>=2.2->seaborn) (0.11.0)\n",
      "Requirement already satisfied: fonttools>=4.22.0 in /usr/local/lib/python3.8/dist-packages (from matplotlib>=2.2->seaborn) (4.29.1)\n",
      "Requirement already satisfied: setuptools-scm>=4 in /usr/local/lib/python3.8/dist-packages (from matplotlib>=2.2->seaborn) (6.4.2)\n",
      "Requirement already satisfied: pytz>=2017.3 in /usr/local/lib/python3.8/dist-packages (from pandas>=0.23->seaborn) (2021.3)\n",
      "Requirement already satisfied: six>=1.5 in /usr/local/lib/python3.8/dist-packages (from python-dateutil>=2.7->matplotlib>=2.2->seaborn) (1.15.0)\n",
      "Requirement already satisfied: tomli>=1.0.0 in /usr/local/lib/python3.8/dist-packages (from setuptools-scm>=4->matplotlib>=2.2->seaborn) (2.0.1)\n",
      "Requirement already satisfied: setuptools in /usr/local/lib/python3.8/dist-packages (from setuptools-scm>=4->matplotlib>=2.2->seaborn) (59.4.0)\n",
      "\u001b[33mWARNING: Running pip as the 'root' user can result in broken permissions and conflicting behaviour with the system package manager. It is recommended to use a virtual environment instead: https://pip.pypa.io/warnings/venv\u001b[0m\u001b[33m\n",
      "\u001b[0m\u001b[33mWARNING: You are using pip version 22.0.3; however, version 22.2.2 is available.\n",
      "You should consider upgrading via the '/usr/bin/python -m pip install --upgrade pip' command.\u001b[0m\u001b[33m\n",
      "\u001b[0m"
     ]
    }
   ],
   "source": [
    "!pip install tensorflow_hub\n",
    "!pip install seaborn"
   ]
  },
  {
   "cell_type": "code",
   "execution_count": 2,
   "metadata": {
    "execution": {
     "iopub.execute_input": "2022-08-31T14:11:26.308594Z",
     "iopub.status.busy": "2022-08-31T14:11:26.308329Z",
     "iopub.status.idle": "2022-08-31T14:11:30.187790Z",
     "shell.execute_reply": "2022-08-31T14:11:30.186821Z",
     "shell.execute_reply.started": "2022-08-31T14:11:26.308559Z"
    },
    "id": "2qCIAWyFLjHz"
   },
   "outputs": [],
   "source": [
    "# Importing python Libraries\n",
    "# General / plotting libraries\n",
    "import pandas as pd\n",
    "import numpy\n",
    "import matplotlib.pyplot as plt\n",
    "import seaborn as sns\n",
    "from sklearn.metrics import confusion_matrix, classification_report\n",
    "\n",
    "# Image Libraries\n",
    "from PIL import Image\n",
    "\n",
    "# File System Libraries\n",
    "import os\n",
    "import sys\n",
    "import copy\n",
    "from copy import deepcopy\n",
    "\n",
    "# Tensorflow libraries\n",
    "import tensorflow as tf\n",
    "from tensorflow import keras\n",
    "from tensorflow.keras import layers, metrics, callbacks\n",
    "from tensorflow.keras.layers.experimental import preprocessing\n",
    "from tensorflow.keras.preprocessing.image import ImageDataGenerator\n",
    "\n",
    "from HelperFunctions import *"
   ]
  },
  {
   "cell_type": "code",
   "execution_count": 3,
   "metadata": {
    "execution": {
     "iopub.execute_input": "2022-08-31T14:11:30.189587Z",
     "iopub.status.busy": "2022-08-31T14:11:30.189365Z",
     "iopub.status.idle": "2022-08-31T14:11:30.193645Z",
     "shell.execute_reply": "2022-08-31T14:11:30.192866Z",
     "shell.execute_reply.started": "2022-08-31T14:11:30.189560Z"
    },
    "id": "6n-mgJeoLPue"
   },
   "outputs": [],
   "source": [
    "# Setting project parent directory path \n",
    "projectPath = \"/notebooks\""
   ]
  },
  {
   "cell_type": "markdown",
   "metadata": {
    "id": "3KoK6oW6633o"
   },
   "source": [
    "## Model Development - Ensemble of AugModels (Testing)"
   ]
  },
  {
   "cell_type": "markdown",
   "metadata": {
    "id": "0s-Tonb8Ab50"
   },
   "source": [
    "#### Dataset Loading "
   ]
  },
  {
   "cell_type": "markdown",
   "metadata": {
    "id": "6IbZW06m4jgU"
   },
   "source": [
    "### 12_BaseModel1_CLAHE: Base Model 1 with Image Processing CLAHE"
   ]
  },
  {
   "cell_type": "markdown",
   "metadata": {
    "id": "zqTM0j0UqzM_"
   },
   "source": [
    "#### Dataset Loading "
   ]
  },
  {
   "cell_type": "code",
   "execution_count": 4,
   "metadata": {
    "execution": {
     "iopub.execute_input": "2022-08-31T14:11:30.195801Z",
     "iopub.status.busy": "2022-08-31T14:11:30.195598Z",
     "iopub.status.idle": "2022-08-31T14:11:30.607868Z",
     "shell.execute_reply": "2022-08-31T14:11:30.606951Z",
     "shell.execute_reply.started": "2022-08-31T14:11:30.195776Z"
    },
    "id": "yboVFyApSYbL",
    "outputId": "cb19a346-207e-4554-83bf-f363331e6607"
   },
   "outputs": [
    {
     "name": "stdout",
     "output_type": "stream",
     "text": [
      "Found 16800 images belonging to 4 classes.\n",
      "Found 1200 images belonging to 4 classes.\n",
      "Found 1200 images belonging to 4 classes.\n"
     ]
    }
   ],
   "source": [
    "# Defining path of dataset\n",
    "train_path = \"/DatasetAug/train\"\n",
    "test_path = \"/DatasetAug/test\"\n",
    "# Create dataset using Model Helper Function (datagen_flow)\n",
    "train_data, valid_data, test_data = datagen_flow(projectPath, train_path, test_path,image_size = (100,100))"
   ]
  },
  {
   "cell_type": "markdown",
   "metadata": {
    "id": "aI6Ro-zMqhVi"
   },
   "source": [
    "#### Loading Checkpoint & Prediction & Results"
   ]
  },
  {
   "cell_type": "code",
   "execution_count": 5,
   "metadata": {
    "execution": {
     "iopub.execute_input": "2022-08-31T14:11:30.609551Z",
     "iopub.status.busy": "2022-08-31T14:11:30.609352Z",
     "iopub.status.idle": "2022-08-31T14:11:45.780714Z",
     "shell.execute_reply": "2022-08-31T14:11:45.779585Z",
     "shell.execute_reply.started": "2022-08-31T14:11:30.609527Z"
    },
    "id": "w7y2L8EgqcJD"
   },
   "outputs": [
    {
     "name": "stderr",
     "output_type": "stream",
     "text": [
      "2022-08-31 14:11:30.658439: I tensorflow/stream_executor/cuda/cuda_gpu_executor.cc:1052] successful NUMA node read from SysFS had negative value (-1), but there must be at least one NUMA node, so returning NUMA node zero\n",
      "2022-08-31 14:11:30.708660: I tensorflow/stream_executor/cuda/cuda_gpu_executor.cc:1052] successful NUMA node read from SysFS had negative value (-1), but there must be at least one NUMA node, so returning NUMA node zero\n",
      "2022-08-31 14:11:30.709119: I tensorflow/stream_executor/cuda/cuda_gpu_executor.cc:1052] successful NUMA node read from SysFS had negative value (-1), but there must be at least one NUMA node, so returning NUMA node zero\n",
      "2022-08-31 14:11:30.712118: I tensorflow/stream_executor/cuda/cuda_gpu_executor.cc:1052] successful NUMA node read from SysFS had negative value (-1), but there must be at least one NUMA node, so returning NUMA node zero\n",
      "2022-08-31 14:11:30.712696: I tensorflow/stream_executor/cuda/cuda_gpu_executor.cc:1052] successful NUMA node read from SysFS had negative value (-1), but there must be at least one NUMA node, so returning NUMA node zero\n",
      "2022-08-31 14:11:30.713105: I tensorflow/stream_executor/cuda/cuda_gpu_executor.cc:1052] successful NUMA node read from SysFS had negative value (-1), but there must be at least one NUMA node, so returning NUMA node zero\n",
      "2022-08-31 14:11:31.614073: I tensorflow/stream_executor/cuda/cuda_gpu_executor.cc:1052] successful NUMA node read from SysFS had negative value (-1), but there must be at least one NUMA node, so returning NUMA node zero\n",
      "2022-08-31 14:11:31.614411: I tensorflow/stream_executor/cuda/cuda_gpu_executor.cc:1052] successful NUMA node read from SysFS had negative value (-1), but there must be at least one NUMA node, so returning NUMA node zero\n",
      "2022-08-31 14:11:31.614651: I tensorflow/stream_executor/cuda/cuda_gpu_executor.cc:1052] successful NUMA node read from SysFS had negative value (-1), but there must be at least one NUMA node, so returning NUMA node zero\n",
      "2022-08-31 14:11:31.614909: I tensorflow/core/common_runtime/gpu/gpu_device.cc:1525] Created device /job:localhost/replica:0/task:0/device:GPU:0 with 15384 MB memory:  -> device: 0, name: Quadro P5000, pci bus id: 0000:00:05.0, compute capability: 6.1\n",
      "2022-08-31 14:11:33.177831: I tensorflow/stream_executor/cuda/cuda_dnn.cc:377] Loaded cuDNN version 8302\n"
     ]
    },
    {
     "name": "stdout",
     "output_type": "stream",
     "text": [
      "1200/1200 [==============================] - 13s 9ms/step\n",
      "Confusion Matrix:\n"
     ]
    },
    {
     "data": {
      "image/png": "[encoded data removed]",
      "text/plain": [
       "<Figure size 432x288 with 2 Axes>"
      ]
     },
     "metadata": {
      "needs_background": "light"
     },
     "output_type": "display_data"
    }
   ],
   "source": [
    "# Load best model from checkpoint folder\n",
    "BaseModel1_CLAHE = createBaseModel(optimizer = tf.keras.optimizers.SGD())\n",
    "checkpointPath = \"TrainedResultsAug/11_BaseModel1_CLAHE/checkpoint/11_BaseModel1_CLAHE.ckpt\"\n",
    "loadModel(BaseModel1_CLAHE,checkpointPath)\n",
    "# Generate results and save\n",
    "df_results_01, confusion_matrix_01, y_true_01, predictions_01 = testResults(BaseModel1_CLAHE, test_data, \"12_BaseModel1_CLAHE\" ,\n",
    "                                                                data_class = [\"0_normal\",\n",
    "                                                                              \"1_ulcerative_colitis\",\n",
    "                                                                              \"2_polyps\",\n",
    "                                                                              \"3_esophagitis\"],\n",
    "                                                                location = \"TestResultsMaxVoting/12_BaseModel1_CLAHE/results/confusionMatrix/12_BaseModel1_CLAHE.jpg\")"
   ]
  },
  {
   "cell_type": "markdown",
   "metadata": {
    "id": "hBaWBVSKsJPh"
   },
   "source": [
    "### 12_BaseModel2_MULTISCALE_tunedAdamLrScheduler: Base Model 2 with Image Processing MULTISCALE (Optimizer - Adam + LrScheduler)"
   ]
  },
  {
   "cell_type": "markdown",
   "metadata": {
    "id": "IIdczEHusLU6"
   },
   "source": [
    "#### Dataset Loading "
   ]
  },
  {
   "cell_type": "code",
   "execution_count": 6,
   "metadata": {
    "execution": {
     "iopub.execute_input": "2022-08-31T14:11:45.788563Z",
     "iopub.status.busy": "2022-08-31T14:11:45.787720Z",
     "iopub.status.idle": "2022-08-31T14:11:46.227349Z",
     "shell.execute_reply": "2022-08-31T14:11:46.226790Z",
     "shell.execute_reply.started": "2022-08-31T14:11:45.788474Z"
    },
    "id": "_GJxD6uEsLU7"
   },
   "outputs": [
    {
     "name": "stdout",
     "output_type": "stream",
     "text": [
      "Found 16800 images belonging to 4 classes.\n",
      "Found 1200 images belonging to 4 classes.\n",
      "Found 1200 images belonging to 4 classes.\n"
     ]
    }
   ],
   "source": [
    "# Defining path of dataset\n",
    "train_path = \"/DatasetAug/train\"\n",
    "test_path = \"/DatasetAug/test\"\n",
    "# Create dataset using Model Helper Function (datagen_flow)\n",
    "train_data, valid_data, test_data = datagen_flow(projectPath, train_path, test_path,image_size = (224,224))"
   ]
  },
  {
   "cell_type": "markdown",
   "metadata": {
    "id": "TYQE6EKnthR4"
   },
   "source": [
    "#### Loading Checkpoint & Prediction & Results"
   ]
  },
  {
   "cell_type": "code",
   "execution_count": 7,
   "metadata": {
    "execution": {
     "iopub.execute_input": "2022-08-31T14:11:46.228401Z",
     "iopub.status.busy": "2022-08-31T14:11:46.228205Z",
     "iopub.status.idle": "2022-08-31T14:11:59.371976Z",
     "shell.execute_reply": "2022-08-31T14:11:59.371143Z",
     "shell.execute_reply.started": "2022-08-31T14:11:46.228359Z"
    },
    "id": "7rDOF7Notj0X"
   },
   "outputs": [
    {
     "name": "stdout",
     "output_type": "stream",
     "text": [
      "1200/1200 [==============================] - 12s 10ms/step\n",
      "Confusion Matrix:\n"
     ]
    },
    {
     "data": {
      "image/png": "[encoded data removed]",
      "text/plain": [
       "<Figure size 432x288 with 2 Axes>"
      ]
     },
     "metadata": {
      "needs_background": "light"
     },
     "output_type": "display_data"
    }
   ],
   "source": [
    "# Load best model from checkpoint folder\n",
    "BaseModel2_MULTISCALE_tunedAdamLrScheduler = createBaseModel2(optimizer = tf.keras.optimizers.Adam())\n",
    "checkpointPath = \"TrainedResultsAug/11_BaseModel2_MULTISCALE_tunedAdamLrScheduler/checkpoint/11_BaseModel2_MULTISCALE_tunedAdamLrScheduler.ckpt\"\n",
    "loadModel(BaseModel2_MULTISCALE_tunedAdamLrScheduler,checkpointPath)\n",
    "# Generate results and save\n",
    "df_results_02, confusion_matrix_02, y_true_02, predictions_02 = testResults(BaseModel2_MULTISCALE_tunedAdamLrScheduler, test_data, \"12_BaseModel2_MULTISCALE_tunedAdamLrScheduler\" ,\n",
    "                                                                data_class = [\"0_normal\",\n",
    "                                                                              \"1_ulcerative_colitis\",\n",
    "                                                                              \"2_polyps\",\n",
    "                                                                              \"3_esophagitis\"],\n",
    "                                                                location = \"TestResultsMaxVoting/12_BaseModel2_MULTISCALE_tunedAdamLrScheduler/results/confusionMatrix/12_BaseModel2_MULTISCALE_tunedAdamLrScheduler.jpg\")"
   ]
  },
  {
   "cell_type": "markdown",
   "metadata": {},
   "source": [
    "### 12_TransferLearningFeatureExtraction_ResNet50V1_MULTISCALE_tunedAdam: Transfer Learning with ResNet50V1 model on MULTISCALE Image (Optimizer - Adam + LrScheduler)"
   ]
  },
  {
   "cell_type": "markdown",
   "metadata": {},
   "source": [
    "#### Dataset Loading "
   ]
  },
  {
   "cell_type": "code",
   "execution_count": 8,
   "metadata": {
    "execution": {
     "iopub.execute_input": "2022-08-31T14:11:59.373307Z",
     "iopub.status.busy": "2022-08-31T14:11:59.372986Z",
     "iopub.status.idle": "2022-08-31T14:11:59.789482Z",
     "shell.execute_reply": "2022-08-31T14:11:59.788283Z",
     "shell.execute_reply.started": "2022-08-31T14:11:59.373307Z"
    }
   },
   "outputs": [
    {
     "name": "stdout",
     "output_type": "stream",
     "text": [
      "Found 16800 images belonging to 4 classes.\n",
      "Found 1200 images belonging to 4 classes.\n",
      "Found 1200 images belonging to 4 classes.\n"
     ]
    }
   ],
   "source": [
    "# Defining path of dataset\n",
    "train_path = \"/DatasetAug/train\"\n",
    "test_path = \"/DatasetAug/test\"\n",
    "# Create dataset using Model Helper Function (datagen_flow)\n",
    "train_data, valid_data, test_data = datagen_flow(projectPath, train_path, test_path,image_size = (224,224))"
   ]
  },
  {
   "cell_type": "markdown",
   "metadata": {},
   "source": [
    "#### Loading Checkpoint & Prediction & Results"
   ]
  },
  {
   "cell_type": "code",
   "execution_count": 9,
   "metadata": {
    "execution": {
     "iopub.execute_input": "2022-08-31T14:11:59.790971Z",
     "iopub.status.busy": "2022-08-31T14:11:59.790681Z",
     "iopub.status.idle": "2022-08-31T14:12:22.011033Z",
     "shell.execute_reply": "2022-08-31T14:12:22.010009Z",
     "shell.execute_reply.started": "2022-08-31T14:11:59.790945Z"
    }
   },
   "outputs": [
    {
     "name": "stdout",
     "output_type": "stream",
     "text": [
      "1200/1200 [==============================] - 19s 15ms/step\n",
      "Confusion Matrix:\n"
     ]
    },
    {
     "data": {
      "image/png": "[encoded data removed]",
      "text/plain": [
       "<Figure size 432x288 with 2 Axes>"
      ]
     },
     "metadata": {
      "needs_background": "light"
     },
     "output_type": "display_data"
    }
   ],
   "source": [
    "# Load best model from checkpoint folder\n",
    "baseModel = tf.keras.applications.resnet50.ResNet50(include_top = True, weights = \"imagenet\")\n",
    "TransferLearningFeatureExtraction_ResNet50V1_MULTISCALE_tunedAdamLrScheduler = createApplicationsFeatureExtractionModel(baseModel, trainable = False ,num_classes = 4, IMAGE_SHAPE = (224,224,3), optimizer = tf.keras.optimizers.Adam())\n",
    "checkpointPath = \"TrainedResultsAug/11_TransferLearningFeatureExtraction_ResNet50V1_MULTISCALE_tunedAdamLrScheduler/checkpoint/11_TransferLearningFeatureExtraction_ResNet50V1_MULTISCALE_tunedAdamLrScheduler.ckpt\"\n",
    "loadModel(TransferLearningFeatureExtraction_ResNet50V1_MULTISCALE_tunedAdamLrScheduler,checkpointPath)\n",
    "# Generate results and save\n",
    "df_results_03, confusion_matrix_03, y_true_03, predictions_03 = testResults(TransferLearningFeatureExtraction_ResNet50V1_MULTISCALE_tunedAdamLrScheduler, test_data, \"12_TransferLearningFeatureExtraction_ResNet50V1_MULTISCALE_tunedAdamLrScheduler\" ,\n",
    "                                                                data_class = [\"0_normal\",\n",
    "                                                                              \"1_ulcerative_colitis\",\n",
    "                                                                              \"2_polyps\",\n",
    "                                                                              \"3_esophagitis\"],\n",
    "                                                                location = \"TestResultsMaxVoting/12_TransferLearningFeatureExtraction_ResNet50V1_MULTISCALE_tunedAdamLrScheduler/results/confusionMatrix/12_TransferLearningFeatureExtraction_ResNet50V1_MULTISCALE_tunedAdamLrScheduler.jpg\")"
   ]
  },
  {
   "cell_type": "markdown",
   "metadata": {},
   "source": [
    "### 12_TransferLearningFeatureExtraction_ResNet50V2_NORMAL_tunedAdam: Transfer Learning with ResNet50V2 model on NORMAL Image (Optimizer - Adam + LrScheduler)"
   ]
  },
  {
   "cell_type": "code",
   "execution_count": 10,
   "metadata": {
    "execution": {
     "iopub.execute_input": "2022-08-31T14:12:22.013807Z",
     "iopub.status.busy": "2022-08-31T14:12:22.013367Z",
     "iopub.status.idle": "2022-08-31T14:12:22.443903Z",
     "shell.execute_reply": "2022-08-31T14:12:22.443129Z",
     "shell.execute_reply.started": "2022-08-31T14:12:22.013807Z"
    }
   },
   "outputs": [
    {
     "name": "stdout",
     "output_type": "stream",
     "text": [
      "Found 16800 images belonging to 4 classes.\n",
      "Found 1200 images belonging to 4 classes.\n",
      "Found 1200 images belonging to 4 classes.\n"
     ]
    }
   ],
   "source": [
    "# Defining path of dataset\n",
    "train_path = \"/DatasetAug/train\"\n",
    "test_path = \"/DatasetAug/test\"\n",
    "# Create dataset using Model Helper Function (datagen_flow)\n",
    "train_data, valid_data, test_data = datagen_flow(projectPath, train_path, test_path,image_size = (224,224))"
   ]
  },
  {
   "cell_type": "markdown",
   "metadata": {},
   "source": [
    "#### Loading Checkpoint & Prediction & Results"
   ]
  },
  {
   "cell_type": "code",
   "execution_count": 11,
   "metadata": {
    "execution": {
     "iopub.execute_input": "2022-08-31T14:12:22.445386Z",
     "iopub.status.busy": "2022-08-31T14:12:22.445194Z",
     "iopub.status.idle": "2022-08-31T14:12:43.820609Z",
     "shell.execute_reply": "2022-08-31T14:12:43.819885Z",
     "shell.execute_reply.started": "2022-08-31T14:12:22.445361Z"
    }
   },
   "outputs": [
    {
     "name": "stdout",
     "output_type": "stream",
     "text": [
      "1200/1200 [==============================] - 18s 14ms/step\n",
      "Confusion Matrix:\n"
     ]
    },
    {
     "data": {
      "image/png": "[encoded data removed]",
      "text/plain": [
       "<Figure size 432x288 with 2 Axes>"
      ]
     },
     "metadata": {
      "needs_background": "light"
     },
     "output_type": "display_data"
    }
   ],
   "source": [
    "baseModel = tf.keras.applications.resnet_v2.ResNet50V2(include_top = True, weights = \"imagenet\")\n",
    "TransferLearningFeatureExtraction_ResNet50V2_NORMAL_tunedAdamLrScheduler = createApplicationsFeatureExtractionModel(baseModel, trainable = False ,num_classes = 4, IMAGE_SHAPE = (224,224,3), optimizer = tf.keras.optimizers.Adam())\n",
    "checkpointPath = \"TrainedResultsAug/11_TransferLearningFeatureExtraction_ResNet50V2_NORMAL_tunedAdamLrScheduler/checkpoint/11_TransferLearningFeatureExtraction_ResNet50V2_NORMAL_tunedAdamLrScheduler.ckpt\"\n",
    "loadModel(TransferLearningFeatureExtraction_ResNet50V2_NORMAL_tunedAdamLrScheduler,checkpointPath)\n",
    "# Generate results and save\n",
    "df_results_04, confusion_matrix_04, y_true_04, predictions_04 = testResults(TransferLearningFeatureExtraction_ResNet50V2_NORMAL_tunedAdamLrScheduler, test_data, \"12_TransferLearningFeatureExtraction_ResNet50V2_NORMAL_tunedAdamLrScheduler\" ,\n",
    "                                                                data_class = [\"0_normal\",\n",
    "                                                                              \"1_ulcerative_colitis\",\n",
    "                                                                              \"2_polyps\",\n",
    "                                                                              \"3_esophagitis\"],\n",
    "                                                                location = \"TestResultsMaxVoting/12_TransferLearningFeatureExtraction_ResNet50V2_NORMAL_tunedAdamLrScheduler/results/confusionMatrix/12_TransferLearningFeatureExtraction_ResNet50V2_NORMAL_tunedAdamLrScheduler.jpg\")"
   ]
  },
  {
   "cell_type": "markdown",
   "metadata": {},
   "source": [
    "### 12_TransferLearningFeatureExtraction_MobileNetV1_NORMAL: Transfer Learning with MobileNetV1 model on NORMAL Image (Optimizer - Adam + LrScheduler)"
   ]
  },
  {
   "cell_type": "markdown",
   "metadata": {},
   "source": [
    "#### Dataset Loading "
   ]
  },
  {
   "cell_type": "code",
   "execution_count": 12,
   "metadata": {
    "execution": {
     "iopub.execute_input": "2022-08-31T14:12:43.822876Z",
     "iopub.status.busy": "2022-08-31T14:12:43.822583Z",
     "iopub.status.idle": "2022-08-31T14:12:44.215412Z",
     "shell.execute_reply": "2022-08-31T14:12:44.214070Z",
     "shell.execute_reply.started": "2022-08-31T14:12:43.822843Z"
    }
   },
   "outputs": [
    {
     "name": "stdout",
     "output_type": "stream",
     "text": [
      "Found 16800 images belonging to 4 classes.\n",
      "Found 1200 images belonging to 4 classes.\n",
      "Found 1200 images belonging to 4 classes.\n"
     ]
    }
   ],
   "source": [
    "# Defining path of dataset\n",
    "train_path = \"/DatasetAug/train\"\n",
    "test_path = \"/DatasetAug/test\"\n",
    "# Create dataset using Model Helper Function (datagen_flow)\n",
    "train_data, valid_data, test_data = datagen_flow(projectPath, train_path, test_path,image_size = (224,224))"
   ]
  },
  {
   "cell_type": "markdown",
   "metadata": {},
   "source": [
    "#### Loading Checkpoint & Prediction & Results"
   ]
  },
  {
   "cell_type": "code",
   "execution_count": 13,
   "metadata": {
    "execution": {
     "iopub.execute_input": "2022-08-31T14:12:44.217755Z",
     "iopub.status.busy": "2022-08-31T14:12:44.217430Z",
     "iopub.status.idle": "2022-08-31T14:13:00.001721Z",
     "shell.execute_reply": "2022-08-31T14:13:00.000808Z",
     "shell.execute_reply.started": "2022-08-31T14:12:44.217719Z"
    }
   },
   "outputs": [
    {
     "name": "stdout",
     "output_type": "stream",
     "text": [
      "1200/1200 [==============================] - 14s 11ms/step\n",
      "Confusion Matrix:\n"
     ]
    },
    {
     "data": {
      "image/png": "[encoded data removed]",
      "text/plain": [
       "<Figure size 432x288 with 2 Axes>"
      ]
     },
     "metadata": {
      "needs_background": "light"
     },
     "output_type": "display_data"
    }
   ],
   "source": [
    "baseModel = tf.keras.applications.mobilenet.MobileNet(include_top = True, weights = \"imagenet\")\n",
    "TransferLearningFeatureExtraction_MobileNetV1_NORMAL_tunedAdamLrScheduler = createApplicationsFeatureExtractionModel(baseModel, trainable = False ,num_classes = 4, IMAGE_SHAPE = (224,224,3), optimizer = tf.keras.optimizers.Adam())\n",
    "checkpointPath = \"TrainedResultsAug/11_TransferLearningFeatureExtraction_MobileNetV1_NORMAL_tunedAdamLrScheduler/checkpoint/11_TransferLearningFeatureExtraction_MobileNetV1_NORMAL_tunedAdamLrScheduler.ckpt\"\n",
    "loadModel(TransferLearningFeatureExtraction_MobileNetV1_NORMAL_tunedAdamLrScheduler,checkpointPath)\n",
    "# Generate results and save\n",
    "df_results_05, confusion_matrix_05, y_true_05, predictions_05 = testResults(TransferLearningFeatureExtraction_MobileNetV1_NORMAL_tunedAdamLrScheduler, test_data, \"12_TransferLearningFeatureExtraction_MobileNetV1_NORMAL_tunedAdamLrScheduler\" ,\n",
    "                                                                data_class = [\"0_normal\",\n",
    "                                                                              \"1_ulcerative_colitis\",\n",
    "                                                                              \"2_polyps\",\n",
    "                                                                              \"3_esophagitis\"],\n",
    "                                                                location = \"TestResultsMaxVoting/12_TransferLearningFeatureExtraction_MobileNetV1_NORMAL_tunedAdamLrScheduler/results/confusionMatrix/12_TransferLearningFeatureExtraction_MobileNetV1_NORMAL_tunedAdamLrScheduler.jpg\")"
   ]
  },
  {
   "cell_type": "markdown",
   "metadata": {},
   "source": [
    "### 12_TransferLearningFeatureExtraction_MobileNetV2_CLAHE: Transfer Learning with MobileNetV2 model on CLAHE Image (Optimizer - Adam + LrScheduler)"
   ]
  },
  {
   "cell_type": "markdown",
   "metadata": {},
   "source": [
    "#### Dataset Loading "
   ]
  },
  {
   "cell_type": "code",
   "execution_count": 14,
   "metadata": {
    "execution": {
     "iopub.execute_input": "2022-08-31T14:13:00.003519Z",
     "iopub.status.busy": "2022-08-31T14:13:00.003243Z",
     "iopub.status.idle": "2022-08-31T14:13:00.436641Z",
     "shell.execute_reply": "2022-08-31T14:13:00.435588Z",
     "shell.execute_reply.started": "2022-08-31T14:13:00.003490Z"
    }
   },
   "outputs": [
    {
     "name": "stdout",
     "output_type": "stream",
     "text": [
      "Found 16800 images belonging to 4 classes.\n",
      "Found 1200 images belonging to 4 classes.\n",
      "Found 1200 images belonging to 4 classes.\n"
     ]
    }
   ],
   "source": [
    "# Defining path of dataset\n",
    "train_path = \"/DatasetAug/train\"\n",
    "test_path = \"/DatasetAug/test\"\n",
    "# Create dataset using Model Helper Function (datagen_flow)\n",
    "train_data, valid_data, test_data = datagen_flow(projectPath, train_path, test_path,image_size = (224,224))"
   ]
  },
  {
   "cell_type": "markdown",
   "metadata": {},
   "source": [
    "#### Loading Checkpoint & Prediction & Results"
   ]
  },
  {
   "cell_type": "code",
   "execution_count": 15,
   "metadata": {
    "execution": {
     "iopub.execute_input": "2022-08-31T14:13:00.438416Z",
     "iopub.status.busy": "2022-08-31T14:13:00.438191Z",
     "iopub.status.idle": "2022-08-31T14:13:19.909067Z",
     "shell.execute_reply": "2022-08-31T14:13:19.908434Z",
     "shell.execute_reply.started": "2022-08-31T14:13:00.438390Z"
    }
   },
   "outputs": [
    {
     "name": "stdout",
     "output_type": "stream",
     "text": [
      "1200/1200 [==============================] - 17s 13ms/step\n",
      "Confusion Matrix:\n"
     ]
    },
    {
     "data": {
      "image/png": "[encoded data removed]",
      "text/plain": [
       "<Figure size 432x288 with 2 Axes>"
      ]
     },
     "metadata": {
      "needs_background": "light"
     },
     "output_type": "display_data"
    }
   ],
   "source": [
    "# Load best model from checkpoint folder\n",
    "baseModel = tf.keras.applications.mobilenet_v2.MobileNetV2(include_top = True, weights = \"imagenet\")\n",
    "TransferLearningFeatureExtraction_MobileNetV2_CLAHE_tunedAdamLrScheduler = createApplicationsFeatureExtractionModel(baseModel, trainable = False ,num_classes = 4, IMAGE_SHAPE = (224,224,3), optimizer = tf.keras.optimizers.Adam())\n",
    "checkpointPath = \"TrainedResultsAug/11_TransferLearningFeatureExtraction_MobileNetV2_CLAHE_tunedAdamLrScheduler/checkpoint/11_TransferLearningFeatureExtraction_MobileNetV2_CLAHE_tunedAdamLrScheduler.ckpt\"\n",
    "\n",
    "loadModel(TransferLearningFeatureExtraction_MobileNetV2_CLAHE_tunedAdamLrScheduler,checkpointPath)\n",
    "# Generate results and save\n",
    "df_results_06, confusion_matrix_06, y_true_06, predictions_06 = testResults(TransferLearningFeatureExtraction_MobileNetV2_CLAHE_tunedAdamLrScheduler, test_data, \"12_TransferLearningFeatureExtraction_MobileNetV2_CLAHE_tunedAdamLrScheduler\" ,\n",
    "                                                                data_class = [\"0_normal\",\n",
    "                                                                              \"1_ulcerative_colitis\",\n",
    "                                                                              \"2_polyps\",\n",
    "                                                                              \"3_esophagitis\"],\n",
    "                                                                location = \"TestResultsMaxVoting/12_TransferLearningFeatureExtraction_MobileNetV2_CLAHE_tunedAdamLrScheduler/results/confusionMatrix/12_TransferLearningFeatureExtraction_MobileNetV2_CLAHE_tunedAdamLrScheduler.jpg\")\n",
    "\n",
    "\n"
   ]
  },
  {
   "cell_type": "markdown",
   "metadata": {},
   "source": [
    "### 12_TransferLearningFineTuning_ResNet50V1_CLAHE: Transfer Learning with ResNet50V1 model on CLAHE Image (Optimizer - Adam + LrScheduler)"
   ]
  },
  {
   "cell_type": "markdown",
   "metadata": {},
   "source": [
    "#### Dataset Loading "
   ]
  },
  {
   "cell_type": "code",
   "execution_count": 16,
   "metadata": {
    "execution": {
     "iopub.execute_input": "2022-08-31T14:13:19.911291Z",
     "iopub.status.busy": "2022-08-31T14:13:19.910260Z",
     "iopub.status.idle": "2022-08-31T14:13:20.319388Z",
     "shell.execute_reply": "2022-08-31T14:13:20.317065Z",
     "shell.execute_reply.started": "2022-08-31T14:13:19.911263Z"
    }
   },
   "outputs": [
    {
     "name": "stdout",
     "output_type": "stream",
     "text": [
      "Found 16800 images belonging to 4 classes.\n",
      "Found 1200 images belonging to 4 classes.\n",
      "Found 1200 images belonging to 4 classes.\n"
     ]
    }
   ],
   "source": [
    "# Defining path of dataset\n",
    "train_path = \"/DatasetAug/train\"\n",
    "test_path = \"/DatasetAug/test\"\n",
    "# Create dataset using Model Helper Function (datagen_flow)\n",
    "train_data, valid_data, test_data = datagen_flow(projectPath, train_path, test_path,image_size = (224,224))"
   ]
  },
  {
   "cell_type": "markdown",
   "metadata": {},
   "source": [
    "#### Loading Checkpoint & Prediction & Results"
   ]
  },
  {
   "cell_type": "code",
   "execution_count": 17,
   "metadata": {
    "execution": {
     "iopub.execute_input": "2022-08-31T14:13:20.320956Z",
     "iopub.status.busy": "2022-08-31T14:13:20.320735Z",
     "iopub.status.idle": "2022-08-31T14:13:45.872678Z",
     "shell.execute_reply": "2022-08-31T14:13:45.871031Z",
     "shell.execute_reply.started": "2022-08-31T14:13:20.320931Z"
    }
   },
   "outputs": [
    {
     "name": "stdout",
     "output_type": "stream",
     "text": [
      "1200/1200 [==============================] - 19s 15ms/step\n",
      "Confusion Matrix:\n"
     ]
    },
    {
     "data": {
      "image/png": "[encoded data removed]",
      "text/plain": [
       "<Figure size 432x288 with 2 Axes>"
      ]
     },
     "metadata": {
      "needs_background": "light"
     },
     "output_type": "display_data"
    }
   ],
   "source": [
    "# Load best model from checkpoint folder\n",
    "baseModel = tf.keras.applications.resnet50.ResNet50(include_top = True, weights = \"imagenet\")\n",
    "TransferLearningFineTuning_ResNet50V1_CLAHE_tunedAdamLrScheduler = createApplicationsFineTuningModel(baseModel, trainable = True, numLayersUnfreeze = 34 ,num_classes = 4, IMAGE_SHAPE = (224,224,3), optimizer = tf.keras.optimizers.Adam())\n",
    "checkpointPath = \"TrainedResultsAug/11_TransferLearningFineTuning_ResNet50V1_CLAHE_tunedAdamLrScheduler/checkpoint/11_TransferLearningFineTuning_ResNet50V1_CLAHE_tunedAdamLrScheduler.ckpt\"\n",
    "loadModel(TransferLearningFineTuning_ResNet50V1_CLAHE_tunedAdamLrScheduler,checkpointPath)\n",
    "# Generate results and save\n",
    "df_results_07, confusion_matrix_07, y_true_07, predictions_07 = testResults(TransferLearningFineTuning_ResNet50V1_CLAHE_tunedAdamLrScheduler, test_data, \"12_TransferLearningFineTuning_ResNet50V1_CLAHE_tunedAdamLrScheduler\" ,\n",
    "                                                                data_class = [\"0_normal\",\n",
    "                                                                              \"1_ulcerative_colitis\",\n",
    "                                                                              \"2_polyps\",\n",
    "                                                                              \"3_esophagitis\"],\n",
    "                                                                location = \"TestResultsMaxVoting/12_TransferLearningFineTuning_ResNet50V1_CLAHE_tunedAdamLrScheduler/results/confusionMatrix/12_TransferLearningFineTuning_ResNet50V1_CLAHE_tunedAdamLrScheduler.jpg\")"
   ]
  },
  {
   "cell_type": "markdown",
   "metadata": {},
   "source": [
    "### 12_TransferLearningFineTuning_ResNet50V2_RAYLEIGH: Transfer Learning with ResNet50V2 model on RAYLEIGH Image"
   ]
  },
  {
   "cell_type": "markdown",
   "metadata": {},
   "source": [
    "#### Dataset Loading "
   ]
  },
  {
   "cell_type": "code",
   "execution_count": 18,
   "metadata": {
    "execution": {
     "iopub.execute_input": "2022-08-31T14:13:45.874729Z",
     "iopub.status.busy": "2022-08-31T14:13:45.874281Z",
     "iopub.status.idle": "2022-08-31T14:13:46.423188Z",
     "shell.execute_reply": "2022-08-31T14:13:46.421530Z",
     "shell.execute_reply.started": "2022-08-31T14:13:45.874729Z"
    }
   },
   "outputs": [
    {
     "name": "stdout",
     "output_type": "stream",
     "text": [
      "Found 16800 images belonging to 4 classes.\n",
      "Found 1200 images belonging to 4 classes.\n",
      "Found 1200 images belonging to 4 classes.\n"
     ]
    }
   ],
   "source": [
    "# Defining path of dataset\n",
    "train_path = \"/DatasetAug/train\"\n",
    "test_path = \"/DatasetAug/test\"\n",
    "# Create dataset using Model Helper Function (datagen_flow)\n",
    "train_data, valid_data, test_data = datagen_flow(projectPath, train_path, test_path,image_size = (224,224))"
   ]
  },
  {
   "cell_type": "markdown",
   "metadata": {},
   "source": [
    "#### Loading Checkpoint & Prediction & Results"
   ]
  },
  {
   "cell_type": "code",
   "execution_count": 19,
   "metadata": {
    "execution": {
     "iopub.execute_input": "2022-08-31T14:13:46.425532Z",
     "iopub.status.busy": "2022-08-31T14:13:46.425117Z",
     "iopub.status.idle": "2022-08-31T14:14:09.006693Z",
     "shell.execute_reply": "2022-08-31T14:14:09.006023Z",
     "shell.execute_reply.started": "2022-08-31T14:13:46.425488Z"
    }
   },
   "outputs": [
    {
     "name": "stdout",
     "output_type": "stream",
     "text": [
      "1200/1200 [==============================] - 19s 15ms/step\n",
      "Confusion Matrix:\n"
     ]
    },
    {
     "data": {
      "image/png": "[encoded data removed]",
      "text/plain": [
       "<Figure size 432x288 with 2 Axes>"
      ]
     },
     "metadata": {
      "needs_background": "light"
     },
     "output_type": "display_data"
    }
   ],
   "source": [
    "# Load best model from checkpoint folder\n",
    "baseModel = tf.keras.applications.resnet_v2.ResNet50V2(include_top = True, weights = \"imagenet\")\n",
    "TransferLearningFineTuning_ResNet50V2_RAYLEIGH = createApplicationsFineTuningModel(baseModel, trainable = False ,num_classes = 4, IMAGE_SHAPE = (224,224,3), optimizer = tf.keras.optimizers.SGD())\n",
    "checkpointPath = \"TrainedResultsAug/11_TransferLearningFineTuning_ResNet50V2_RAYLEIGH/checkpoint/11_TransferLearningFineTuning_ResNet50V2_RAYLEIGH.ckpt\"\n",
    "loadModel(TransferLearningFineTuning_ResNet50V2_RAYLEIGH,checkpointPath)\n",
    "# Generate results and save\n",
    "df_results_08, confusion_matrix_08, y_true_08, predictions_08 = testResults(TransferLearningFineTuning_ResNet50V2_RAYLEIGH, test_data, \"12_TransferLearningFineTuning_ResNet50V2_RAYLEIGH\" ,\n",
    "                                                                data_class = [\"0_normal\",\n",
    "                                                                              \"1_ulcerative_colitis\",\n",
    "                                                                              \"2_polyps\",\n",
    "                                                                              \"3_esophagitis\"],\n",
    "                                                                location = \"TestResultsMaxVoting/12_TransferLearningFineTuning_ResNet50V2_RAYLEIGH/results/confusionMatrix/12_TransferLearningFineTuning_ResNet50V2_RAYLEIGH.jpg\")"
   ]
  },
  {
   "cell_type": "markdown",
   "metadata": {},
   "source": [
    "### 12_TransferLearningFineTuning_MobileNetV1_NORMAL: Transfer Learning with MobileNetV1 model on NORMAL Image"
   ]
  },
  {
   "cell_type": "markdown",
   "metadata": {},
   "source": [
    "#### Dataset Loading "
   ]
  },
  {
   "cell_type": "code",
   "execution_count": 20,
   "metadata": {
    "execution": {
     "iopub.execute_input": "2022-08-31T14:14:09.007785Z",
     "iopub.status.busy": "2022-08-31T14:14:09.007611Z",
     "iopub.status.idle": "2022-08-31T14:14:09.438263Z",
     "shell.execute_reply": "2022-08-31T14:14:09.437430Z",
     "shell.execute_reply.started": "2022-08-31T14:14:09.007762Z"
    }
   },
   "outputs": [
    {
     "name": "stdout",
     "output_type": "stream",
     "text": [
      "Found 16800 images belonging to 4 classes.\n",
      "Found 1200 images belonging to 4 classes.\n",
      "Found 1200 images belonging to 4 classes.\n"
     ]
    }
   ],
   "source": [
    "# Defining path of dataset\n",
    "train_path = \"/DatasetAug/train\"\n",
    "test_path = \"/DatasetAug/test\"\n",
    "# Create dataset using Model Helper Function (datagen_flow)\n",
    "train_data, valid_data, test_data = datagen_flow(projectPath, train_path, test_path,image_size = (224,224))"
   ]
  },
  {
   "cell_type": "markdown",
   "metadata": {},
   "source": [
    "#### Loading Checkpoint & Prediction & Results"
   ]
  },
  {
   "cell_type": "code",
   "execution_count": 21,
   "metadata": {
    "execution": {
     "iopub.execute_input": "2022-08-31T14:14:09.440339Z",
     "iopub.status.busy": "2022-08-31T14:14:09.440090Z",
     "iopub.status.idle": "2022-08-31T14:14:32.901034Z",
     "shell.execute_reply": "2022-08-31T14:14:32.899777Z",
     "shell.execute_reply.started": "2022-08-31T14:14:09.440313Z"
    }
   },
   "outputs": [
    {
     "name": "stdout",
     "output_type": "stream",
     "text": [
      "1200/1200 [==============================] - 14s 11ms/step\n",
      "Confusion Matrix:\n"
     ]
    },
    {
     "data": {
      "image/png": "[encoded data removed]",
      "text/plain": [
       "<Figure size 432x288 with 2 Axes>"
      ]
     },
     "metadata": {
      "needs_background": "light"
     },
     "output_type": "display_data"
    }
   ],
   "source": [
    "# Load best model from checkpoint folder\n",
    "baseModel = tf.keras.applications.mobilenet.MobileNet(include_top = True, weights = \"imagenet\")\n",
    "TransferLearningFineTuning_MobileNetV1_NORMAL = createApplicationsFineTuningModel(baseModel, trainable = False ,num_classes = 4, IMAGE_SHAPE = (224,224,3), optimizer = tf.keras.optimizers.SGD())\n",
    "checkpointPath = \"TrainedResultsAug/11_TransferLearningFineTuning_MobileNetV1_NORMAL/checkpoint/11_TransferLearningFineTuning_MobileNetV1_NORMAL.ckpt\"\n",
    "loadModel(TransferLearningFineTuning_MobileNetV1_NORMAL,checkpointPath)\n",
    "# Generate results and save\n",
    "df_results_09, confusion_matrix_09, y_true_09, predictions_09 = testResults(TransferLearningFineTuning_MobileNetV1_NORMAL, test_data, \"12_TransferLearningFineTuning_MobileNetV1_NORMAL\" ,\n",
    "                                                                data_class = [\"0_normal\",\n",
    "                                                                              \"1_ulcerative_colitis\",\n",
    "                                                                              \"2_polyps\",\n",
    "                                                                              \"3_esophagitis\"],\n",
    "                                                                location = \"TestResultsMaxVoting/12_TransferLearningFineTuning_MobileNetV1_NORMAL/results/confusionMatrix/12_TransferLearningFineTuning_MobileNetV1_NORMAL.jpg\")"
   ]
  },
  {
   "cell_type": "markdown",
   "metadata": {},
   "source": [
    "### 12_TransferLearningFineTuning_MobileNetV2_NORMAL: Transfer Learning with MobileNetV2 model on NORMAL Image"
   ]
  },
  {
   "cell_type": "markdown",
   "metadata": {},
   "source": [
    "#### Loading Checkpoint & Prediction & Results"
   ]
  },
  {
   "cell_type": "code",
   "execution_count": 22,
   "metadata": {
    "execution": {
     "iopub.execute_input": "2022-08-31T14:14:32.903275Z",
     "iopub.status.busy": "2022-08-31T14:14:32.902929Z",
     "iopub.status.idle": "2022-08-31T14:14:52.488536Z",
     "shell.execute_reply": "2022-08-31T14:14:52.487551Z",
     "shell.execute_reply.started": "2022-08-31T14:14:32.903234Z"
    }
   },
   "outputs": [
    {
     "name": "stdout",
     "output_type": "stream",
     "text": [
      "1200/1200 [==============================] - 17s 13ms/step\n",
      "Confusion Matrix:\n"
     ]
    },
    {
     "data": {
      "image/png": "[encoded data removed]",
      "text/plain": [
       "<Figure size 432x288 with 2 Axes>"
      ]
     },
     "metadata": {
      "needs_background": "light"
     },
     "output_type": "display_data"
    }
   ],
   "source": [
    "# Load best model from checkpoint folder\n",
    "baseModel = tf.keras.applications.mobilenet_v2.MobileNetV2(include_top = True, weights = \"imagenet\")\n",
    "TransferLearningFineTuning_MobileNetV2_NORMAL = createApplicationsFineTuningModel(baseModel, trainable = False ,num_classes = 4, IMAGE_SHAPE = (224,224,3), optimizer = tf.keras.optimizers.SGD())\n",
    "checkpointPath = \"TrainedResultsAug/11_TransferLearningFineTuning_MobileNetV2_NORMAL/checkpoint/11_TransferLearningFineTuning_MobileNetV2_NORMAL.ckpt\"\n",
    "loadModel(TransferLearningFineTuning_MobileNetV2_NORMAL,checkpointPath)\n",
    "# Generate results and save\n",
    "df_results_10, confusion_matrix_10, y_true_10, predictions_10 = testResults(TransferLearningFineTuning_MobileNetV2_NORMAL, test_data, \"12_TransferLearningFineTuning_MobileNetV2_NORMAL\" ,\n",
    "                                                                data_class = [\"0_normal\",\n",
    "                                                                              \"1_ulcerative_colitis\",\n",
    "                                                                              \"2_polyps\",\n",
    "                                                                              \"3_esophagitis\"],\n",
    "                                                                location = \"TestResultsMaxVoting/12_TransferLearningFineTuning_MobileNetV2_NORMAL/results/confusionMatrix/12_TransferLearningFineTuning_MobileNetV2_NORMAL.jpg\")"
   ]
  },
  {
   "cell_type": "code",
   "execution_count": 23,
   "metadata": {
    "execution": {
     "iopub.execute_input": "2022-08-31T14:14:52.489777Z",
     "iopub.status.busy": "2022-08-31T14:14:52.489598Z",
     "iopub.status.idle": "2022-08-31T14:14:52.513459Z",
     "shell.execute_reply": "2022-08-31T14:14:52.512593Z",
     "shell.execute_reply.started": "2022-08-31T14:14:52.489752Z"
    }
   },
   "outputs": [
    {
     "data": {
      "text/plain": [
       "['0_normal',\n",
       " '0_normal',\n",
       " '0_normal',\n",
       " '0_normal',\n",
       " '0_normal',\n",
       " '0_normal',\n",
       " '0_normal',\n",
       " '0_normal',\n",
       " '0_normal',\n",
       " '0_normal',\n",
       " '0_normal',\n",
       " '0_normal',\n",
       " '0_normal',\n",
       " '0_normal',\n",
       " '0_normal',\n",
       " '0_normal',\n",
       " '0_normal',\n",
       " '0_normal',\n",
       " '0_normal',\n",
       " '0_normal',\n",
       " '0_normal',\n",
       " '0_normal',\n",
       " '0_normal',\n",
       " '0_normal',\n",
       " '0_normal',\n",
       " '0_normal',\n",
       " '0_normal',\n",
       " '0_normal',\n",
       " '0_normal',\n",
       " '0_normal',\n",
       " '0_normal',\n",
       " '0_normal',\n",
       " '0_normal',\n",
       " '0_normal',\n",
       " '0_normal',\n",
       " '0_normal',\n",
       " '0_normal',\n",
       " '0_normal',\n",
       " '0_normal',\n",
       " '0_normal',\n",
       " '0_normal',\n",
       " '0_normal',\n",
       " '0_normal',\n",
       " '0_normal',\n",
       " '0_normal',\n",
       " '0_normal',\n",
       " '0_normal',\n",
       " '0_normal',\n",
       " '0_normal',\n",
       " '0_normal',\n",
       " '0_normal',\n",
       " '0_normal',\n",
       " '0_normal',\n",
       " '0_normal',\n",
       " '0_normal',\n",
       " '0_normal',\n",
       " '0_normal',\n",
       " '0_normal',\n",
       " '0_normal',\n",
       " '0_normal',\n",
       " '0_normal',\n",
       " '0_normal',\n",
       " '0_normal',\n",
       " '0_normal',\n",
       " '0_normal',\n",
       " '0_normal',\n",
       " '0_normal',\n",
       " '0_normal',\n",
       " '0_normal',\n",
       " '0_normal',\n",
       " '0_normal',\n",
       " '0_normal',\n",
       " '0_normal',\n",
       " '0_normal',\n",
       " '0_normal',\n",
       " '0_normal',\n",
       " '0_normal',\n",
       " '0_normal',\n",
       " '0_normal',\n",
       " '0_normal',\n",
       " '0_normal',\n",
       " '0_normal',\n",
       " '0_normal',\n",
       " '0_normal',\n",
       " '0_normal',\n",
       " '0_normal',\n",
       " '0_normal',\n",
       " '0_normal',\n",
       " '0_normal',\n",
       " '0_normal',\n",
       " '0_normal',\n",
       " '0_normal',\n",
       " '0_normal',\n",
       " '0_normal',\n",
       " '0_normal',\n",
       " '0_normal',\n",
       " '0_normal',\n",
       " '0_normal',\n",
       " '0_normal',\n",
       " '0_normal',\n",
       " '0_normal',\n",
       " '0_normal',\n",
       " '0_normal',\n",
       " '0_normal',\n",
       " '0_normal',\n",
       " '0_normal',\n",
       " '0_normal',\n",
       " '0_normal',\n",
       " '0_normal',\n",
       " '0_normal',\n",
       " '0_normal',\n",
       " '0_normal',\n",
       " '0_normal',\n",
       " '0_normal',\n",
       " '0_normal',\n",
       " '0_normal',\n",
       " '0_normal',\n",
       " '0_normal',\n",
       " '0_normal',\n",
       " '0_normal',\n",
       " '0_normal',\n",
       " '0_normal',\n",
       " '0_normal',\n",
       " '0_normal',\n",
       " '0_normal',\n",
       " '0_normal',\n",
       " '0_normal',\n",
       " '0_normal',\n",
       " '0_normal',\n",
       " '0_normal',\n",
       " '0_normal',\n",
       " '0_normal',\n",
       " '0_normal',\n",
       " '0_normal',\n",
       " '0_normal',\n",
       " '0_normal',\n",
       " '0_normal',\n",
       " '0_normal',\n",
       " '0_normal',\n",
       " '0_normal',\n",
       " '0_normal',\n",
       " '0_normal',\n",
       " '0_normal',\n",
       " '0_normal',\n",
       " '0_normal',\n",
       " '0_normal',\n",
       " '0_normal',\n",
       " '0_normal',\n",
       " '0_normal',\n",
       " '0_normal',\n",
       " '0_normal',\n",
       " '0_normal',\n",
       " '0_normal',\n",
       " '0_normal',\n",
       " '0_normal',\n",
       " '0_normal',\n",
       " '0_normal',\n",
       " '0_normal',\n",
       " '0_normal',\n",
       " '0_normal',\n",
       " '0_normal',\n",
       " '0_normal',\n",
       " '0_normal',\n",
       " '0_normal',\n",
       " '0_normal',\n",
       " '0_normal',\n",
       " '0_normal',\n",
       " '0_normal',\n",
       " '0_normal',\n",
       " '0_normal',\n",
       " '0_normal',\n",
       " '0_normal',\n",
       " '0_normal',\n",
       " '0_normal',\n",
       " '0_normal',\n",
       " '0_normal',\n",
       " '0_normal',\n",
       " '0_normal',\n",
       " '0_normal',\n",
       " '0_normal',\n",
       " '0_normal',\n",
       " '0_normal',\n",
       " '0_normal',\n",
       " '0_normal',\n",
       " '0_normal',\n",
       " '0_normal',\n",
       " '0_normal',\n",
       " '0_normal',\n",
       " '0_normal',\n",
       " '0_normal',\n",
       " '0_normal',\n",
       " '0_normal',\n",
       " '0_normal',\n",
       " '0_normal',\n",
       " '0_normal',\n",
       " '0_normal',\n",
       " '0_normal',\n",
       " '0_normal',\n",
       " '0_normal',\n",
       " '0_normal',\n",
       " '0_normal',\n",
       " '0_normal',\n",
       " '0_normal',\n",
       " '0_normal',\n",
       " '0_normal',\n",
       " '0_normal',\n",
       " '0_normal',\n",
       " '0_normal',\n",
       " '0_normal',\n",
       " '0_normal',\n",
       " '0_normal',\n",
       " '0_normal',\n",
       " '0_normal',\n",
       " '0_normal',\n",
       " '0_normal',\n",
       " '0_normal',\n",
       " '0_normal',\n",
       " '0_normal',\n",
       " '0_normal',\n",
       " '0_normal',\n",
       " '0_normal',\n",
       " '0_normal',\n",
       " '0_normal',\n",
       " '0_normal',\n",
       " '0_normal',\n",
       " '0_normal',\n",
       " '0_normal',\n",
       " '0_normal',\n",
       " '0_normal',\n",
       " '0_normal',\n",
       " '0_normal',\n",
       " '0_normal',\n",
       " '0_normal',\n",
       " '0_normal',\n",
       " '0_normal',\n",
       " '0_normal',\n",
       " '0_normal',\n",
       " '0_normal',\n",
       " '0_normal',\n",
       " '0_normal',\n",
       " '0_normal',\n",
       " '0_normal',\n",
       " '0_normal',\n",
       " '0_normal',\n",
       " '0_normal',\n",
       " '0_normal',\n",
       " '0_normal',\n",
       " '0_normal',\n",
       " '0_normal',\n",
       " '0_normal',\n",
       " '0_normal',\n",
       " '0_normal',\n",
       " '0_normal',\n",
       " '0_normal',\n",
       " '0_normal',\n",
       " '0_normal',\n",
       " '0_normal',\n",
       " '0_normal',\n",
       " '0_normal',\n",
       " '0_normal',\n",
       " '0_normal',\n",
       " '0_normal',\n",
       " '0_normal',\n",
       " '0_normal',\n",
       " '0_normal',\n",
       " '0_normal',\n",
       " '0_normal',\n",
       " '0_normal',\n",
       " '0_normal',\n",
       " '0_normal',\n",
       " '0_normal',\n",
       " '0_normal',\n",
       " '0_normal',\n",
       " '0_normal',\n",
       " '0_normal',\n",
       " '0_normal',\n",
       " '0_normal',\n",
       " '0_normal',\n",
       " '0_normal',\n",
       " '0_normal',\n",
       " '0_normal',\n",
       " '0_normal',\n",
       " '0_normal',\n",
       " '0_normal',\n",
       " '0_normal',\n",
       " '0_normal',\n",
       " '0_normal',\n",
       " '0_normal',\n",
       " '0_normal',\n",
       " '0_normal',\n",
       " '0_normal',\n",
       " '0_normal',\n",
       " '0_normal',\n",
       " '0_normal',\n",
       " '0_normal',\n",
       " '0_normal',\n",
       " '0_normal',\n",
       " '0_normal',\n",
       " '0_normal',\n",
       " '0_normal',\n",
       " '1_ulcerative_colitis',\n",
       " '1_ulcerative_colitis',\n",
       " '1_ulcerative_colitis',\n",
       " '1_ulcerative_colitis',\n",
       " '1_ulcerative_colitis',\n",
       " '1_ulcerative_colitis',\n",
       " '1_ulcerative_colitis',\n",
       " '1_ulcerative_colitis',\n",
       " '1_ulcerative_colitis',\n",
       " '1_ulcerative_colitis',\n",
       " '1_ulcerative_colitis',\n",
       " '1_ulcerative_colitis',\n",
       " '1_ulcerative_colitis',\n",
       " '1_ulcerative_colitis',\n",
       " '1_ulcerative_colitis',\n",
       " '1_ulcerative_colitis',\n",
       " '1_ulcerative_colitis',\n",
       " '1_ulcerative_colitis',\n",
       " '1_ulcerative_colitis',\n",
       " '1_ulcerative_colitis',\n",
       " '1_ulcerative_colitis',\n",
       " '1_ulcerative_colitis',\n",
       " '1_ulcerative_colitis',\n",
       " '1_ulcerative_colitis',\n",
       " '1_ulcerative_colitis',\n",
       " '1_ulcerative_colitis',\n",
       " '1_ulcerative_colitis',\n",
       " '1_ulcerative_colitis',\n",
       " '1_ulcerative_colitis',\n",
       " '1_ulcerative_colitis',\n",
       " '1_ulcerative_colitis',\n",
       " '1_ulcerative_colitis',\n",
       " '1_ulcerative_colitis',\n",
       " '1_ulcerative_colitis',\n",
       " '1_ulcerative_colitis',\n",
       " '1_ulcerative_colitis',\n",
       " '1_ulcerative_colitis',\n",
       " '1_ulcerative_colitis',\n",
       " '1_ulcerative_colitis',\n",
       " '1_ulcerative_colitis',\n",
       " '1_ulcerative_colitis',\n",
       " '1_ulcerative_colitis',\n",
       " '1_ulcerative_colitis',\n",
       " '1_ulcerative_colitis',\n",
       " '1_ulcerative_colitis',\n",
       " '1_ulcerative_colitis',\n",
       " '1_ulcerative_colitis',\n",
       " '1_ulcerative_colitis',\n",
       " '1_ulcerative_colitis',\n",
       " '1_ulcerative_colitis',\n",
       " '1_ulcerative_colitis',\n",
       " '1_ulcerative_colitis',\n",
       " '1_ulcerative_colitis',\n",
       " '1_ulcerative_colitis',\n",
       " '1_ulcerative_colitis',\n",
       " '1_ulcerative_colitis',\n",
       " '1_ulcerative_colitis',\n",
       " '1_ulcerative_colitis',\n",
       " '1_ulcerative_colitis',\n",
       " '1_ulcerative_colitis',\n",
       " '1_ulcerative_colitis',\n",
       " '1_ulcerative_colitis',\n",
       " '1_ulcerative_colitis',\n",
       " '1_ulcerative_colitis',\n",
       " '1_ulcerative_colitis',\n",
       " '1_ulcerative_colitis',\n",
       " '1_ulcerative_colitis',\n",
       " '1_ulcerative_colitis',\n",
       " '1_ulcerative_colitis',\n",
       " '1_ulcerative_colitis',\n",
       " '1_ulcerative_colitis',\n",
       " '1_ulcerative_colitis',\n",
       " '1_ulcerative_colitis',\n",
       " '1_ulcerative_colitis',\n",
       " '1_ulcerative_colitis',\n",
       " '1_ulcerative_colitis',\n",
       " '1_ulcerative_colitis',\n",
       " '1_ulcerative_colitis',\n",
       " '1_ulcerative_colitis',\n",
       " '1_ulcerative_colitis',\n",
       " '1_ulcerative_colitis',\n",
       " '1_ulcerative_colitis',\n",
       " '1_ulcerative_colitis',\n",
       " '1_ulcerative_colitis',\n",
       " '1_ulcerative_colitis',\n",
       " '1_ulcerative_colitis',\n",
       " '1_ulcerative_colitis',\n",
       " '1_ulcerative_colitis',\n",
       " '1_ulcerative_colitis',\n",
       " '1_ulcerative_colitis',\n",
       " '1_ulcerative_colitis',\n",
       " '1_ulcerative_colitis',\n",
       " '1_ulcerative_colitis',\n",
       " '1_ulcerative_colitis',\n",
       " '1_ulcerative_colitis',\n",
       " '1_ulcerative_colitis',\n",
       " '1_ulcerative_colitis',\n",
       " '1_ulcerative_colitis',\n",
       " '1_ulcerative_colitis',\n",
       " '1_ulcerative_colitis',\n",
       " '1_ulcerative_colitis',\n",
       " '1_ulcerative_colitis',\n",
       " '1_ulcerative_colitis',\n",
       " '1_ulcerative_colitis',\n",
       " '1_ulcerative_colitis',\n",
       " '1_ulcerative_colitis',\n",
       " '1_ulcerative_colitis',\n",
       " '1_ulcerative_colitis',\n",
       " '1_ulcerative_colitis',\n",
       " '1_ulcerative_colitis',\n",
       " '1_ulcerative_colitis',\n",
       " '1_ulcerative_colitis',\n",
       " '1_ulcerative_colitis',\n",
       " '1_ulcerative_colitis',\n",
       " '1_ulcerative_colitis',\n",
       " '1_ulcerative_colitis',\n",
       " '1_ulcerative_colitis',\n",
       " '1_ulcerative_colitis',\n",
       " '1_ulcerative_colitis',\n",
       " '1_ulcerative_colitis',\n",
       " '1_ulcerative_colitis',\n",
       " '2_polyps',\n",
       " '1_ulcerative_colitis',\n",
       " '1_ulcerative_colitis',\n",
       " '1_ulcerative_colitis',\n",
       " '1_ulcerative_colitis',\n",
       " '2_polyps',\n",
       " '1_ulcerative_colitis',\n",
       " '1_ulcerative_colitis',\n",
       " '1_ulcerative_colitis',\n",
       " '1_ulcerative_colitis',\n",
       " '1_ulcerative_colitis',\n",
       " '1_ulcerative_colitis',\n",
       " '1_ulcerative_colitis',\n",
       " '1_ulcerative_colitis',\n",
       " '1_ulcerative_colitis',\n",
       " '1_ulcerative_colitis',\n",
       " '1_ulcerative_colitis',\n",
       " '1_ulcerative_colitis',\n",
       " '3_esophagitis',\n",
       " '1_ulcerative_colitis',\n",
       " '1_ulcerative_colitis',\n",
       " '1_ulcerative_colitis',\n",
       " '1_ulcerative_colitis',\n",
       " '1_ulcerative_colitis',\n",
       " '1_ulcerative_colitis',\n",
       " '1_ulcerative_colitis',\n",
       " '1_ulcerative_colitis',\n",
       " '1_ulcerative_colitis',\n",
       " '1_ulcerative_colitis',\n",
       " '1_ulcerative_colitis',\n",
       " '1_ulcerative_colitis',\n",
       " '1_ulcerative_colitis',\n",
       " '1_ulcerative_colitis',\n",
       " '1_ulcerative_colitis',\n",
       " '1_ulcerative_colitis',\n",
       " '1_ulcerative_colitis',\n",
       " '1_ulcerative_colitis',\n",
       " '1_ulcerative_colitis',\n",
       " '1_ulcerative_colitis',\n",
       " '1_ulcerative_colitis',\n",
       " '1_ulcerative_colitis',\n",
       " '1_ulcerative_colitis',\n",
       " '1_ulcerative_colitis',\n",
       " '1_ulcerative_colitis',\n",
       " '1_ulcerative_colitis',\n",
       " '1_ulcerative_colitis',\n",
       " '1_ulcerative_colitis',\n",
       " '1_ulcerative_colitis',\n",
       " '1_ulcerative_colitis',\n",
       " '1_ulcerative_colitis',\n",
       " '1_ulcerative_colitis',\n",
       " '1_ulcerative_colitis',\n",
       " '1_ulcerative_colitis',\n",
       " '1_ulcerative_colitis',\n",
       " '1_ulcerative_colitis',\n",
       " '1_ulcerative_colitis',\n",
       " '1_ulcerative_colitis',\n",
       " '1_ulcerative_colitis',\n",
       " '1_ulcerative_colitis',\n",
       " '1_ulcerative_colitis',\n",
       " '1_ulcerative_colitis',\n",
       " '1_ulcerative_colitis',\n",
       " '1_ulcerative_colitis',\n",
       " '1_ulcerative_colitis',\n",
       " '1_ulcerative_colitis',\n",
       " '1_ulcerative_colitis',\n",
       " '1_ulcerative_colitis',\n",
       " '1_ulcerative_colitis',\n",
       " '1_ulcerative_colitis',\n",
       " '1_ulcerative_colitis',\n",
       " '1_ulcerative_colitis',\n",
       " '1_ulcerative_colitis',\n",
       " '1_ulcerative_colitis',\n",
       " '1_ulcerative_colitis',\n",
       " '1_ulcerative_colitis',\n",
       " '1_ulcerative_colitis',\n",
       " '1_ulcerative_colitis',\n",
       " '1_ulcerative_colitis',\n",
       " '1_ulcerative_colitis',\n",
       " '1_ulcerative_colitis',\n",
       " '1_ulcerative_colitis',\n",
       " '1_ulcerative_colitis',\n",
       " '1_ulcerative_colitis',\n",
       " '1_ulcerative_colitis',\n",
       " '1_ulcerative_colitis',\n",
       " '1_ulcerative_colitis',\n",
       " '1_ulcerative_colitis',\n",
       " '1_ulcerative_colitis',\n",
       " '1_ulcerative_colitis',\n",
       " '1_ulcerative_colitis',\n",
       " '1_ulcerative_colitis',\n",
       " '3_esophagitis',\n",
       " '1_ulcerative_colitis',\n",
       " '1_ulcerative_colitis',\n",
       " '1_ulcerative_colitis',\n",
       " '1_ulcerative_colitis',\n",
       " '1_ulcerative_colitis',\n",
       " '1_ulcerative_colitis',\n",
       " '1_ulcerative_colitis',\n",
       " '1_ulcerative_colitis',\n",
       " '1_ulcerative_colitis',\n",
       " '1_ulcerative_colitis',\n",
       " '1_ulcerative_colitis',\n",
       " '1_ulcerative_colitis',\n",
       " '1_ulcerative_colitis',\n",
       " '1_ulcerative_colitis',\n",
       " '1_ulcerative_colitis',\n",
       " '1_ulcerative_colitis',\n",
       " '1_ulcerative_colitis',\n",
       " '1_ulcerative_colitis',\n",
       " '1_ulcerative_colitis',\n",
       " '1_ulcerative_colitis',\n",
       " '1_ulcerative_colitis',\n",
       " '1_ulcerative_colitis',\n",
       " '1_ulcerative_colitis',\n",
       " '1_ulcerative_colitis',\n",
       " '1_ulcerative_colitis',\n",
       " '1_ulcerative_colitis',\n",
       " '1_ulcerative_colitis',\n",
       " '1_ulcerative_colitis',\n",
       " '1_ulcerative_colitis',\n",
       " '1_ulcerative_colitis',\n",
       " '1_ulcerative_colitis',\n",
       " '1_ulcerative_colitis',\n",
       " '1_ulcerative_colitis',\n",
       " '1_ulcerative_colitis',\n",
       " '1_ulcerative_colitis',\n",
       " '1_ulcerative_colitis',\n",
       " '1_ulcerative_colitis',\n",
       " '1_ulcerative_colitis',\n",
       " '1_ulcerative_colitis',\n",
       " '1_ulcerative_colitis',\n",
       " '1_ulcerative_colitis',\n",
       " '1_ulcerative_colitis',\n",
       " '1_ulcerative_colitis',\n",
       " '1_ulcerative_colitis',\n",
       " '1_ulcerative_colitis',\n",
       " '1_ulcerative_colitis',\n",
       " '1_ulcerative_colitis',\n",
       " '1_ulcerative_colitis',\n",
       " '1_ulcerative_colitis',\n",
       " '1_ulcerative_colitis',\n",
       " '1_ulcerative_colitis',\n",
       " '1_ulcerative_colitis',\n",
       " '1_ulcerative_colitis',\n",
       " '1_ulcerative_colitis',\n",
       " '2_polyps',\n",
       " '1_ulcerative_colitis',\n",
       " '1_ulcerative_colitis',\n",
       " '1_ulcerative_colitis',\n",
       " '2_polyps',\n",
       " '1_ulcerative_colitis',\n",
       " '1_ulcerative_colitis',\n",
       " '1_ulcerative_colitis',\n",
       " '1_ulcerative_colitis',\n",
       " '1_ulcerative_colitis',\n",
       " '1_ulcerative_colitis',\n",
       " '1_ulcerative_colitis',\n",
       " '1_ulcerative_colitis',\n",
       " '1_ulcerative_colitis',\n",
       " '1_ulcerative_colitis',\n",
       " '1_ulcerative_colitis',\n",
       " '1_ulcerative_colitis',\n",
       " '1_ulcerative_colitis',\n",
       " '1_ulcerative_colitis',\n",
       " '1_ulcerative_colitis',\n",
       " '1_ulcerative_colitis',\n",
       " '1_ulcerative_colitis',\n",
       " '1_ulcerative_colitis',\n",
       " '1_ulcerative_colitis',\n",
       " '1_ulcerative_colitis',\n",
       " '1_ulcerative_colitis',\n",
       " '1_ulcerative_colitis',\n",
       " '1_ulcerative_colitis',\n",
       " '1_ulcerative_colitis',\n",
       " '1_ulcerative_colitis',\n",
       " '1_ulcerative_colitis',\n",
       " '1_ulcerative_colitis',\n",
       " '1_ulcerative_colitis',\n",
       " '2_polyps',\n",
       " '2_polyps',\n",
       " '2_polyps',\n",
       " '2_polyps',\n",
       " '2_polyps',\n",
       " '2_polyps',\n",
       " '2_polyps',\n",
       " '2_polyps',\n",
       " '2_polyps',\n",
       " '2_polyps',\n",
       " '2_polyps',\n",
       " '2_polyps',\n",
       " '2_polyps',\n",
       " '2_polyps',\n",
       " '2_polyps',\n",
       " '2_polyps',\n",
       " '2_polyps',\n",
       " '2_polyps',\n",
       " '2_polyps',\n",
       " '1_ulcerative_colitis',\n",
       " '2_polyps',\n",
       " '2_polyps',\n",
       " '2_polyps',\n",
       " '2_polyps',\n",
       " '2_polyps',\n",
       " '2_polyps',\n",
       " '2_polyps',\n",
       " '1_ulcerative_colitis',\n",
       " '2_polyps',\n",
       " '2_polyps',\n",
       " '2_polyps',\n",
       " '2_polyps',\n",
       " '2_polyps',\n",
       " '2_polyps',\n",
       " '2_polyps',\n",
       " '2_polyps',\n",
       " '2_polyps',\n",
       " '2_polyps',\n",
       " '2_polyps',\n",
       " '2_polyps',\n",
       " '2_polyps',\n",
       " '2_polyps',\n",
       " '2_polyps',\n",
       " '2_polyps',\n",
       " '2_polyps',\n",
       " '2_polyps',\n",
       " '2_polyps',\n",
       " '2_polyps',\n",
       " '2_polyps',\n",
       " '2_polyps',\n",
       " '2_polyps',\n",
       " '2_polyps',\n",
       " '2_polyps',\n",
       " '2_polyps',\n",
       " '2_polyps',\n",
       " '2_polyps',\n",
       " '2_polyps',\n",
       " '2_polyps',\n",
       " '2_polyps',\n",
       " '2_polyps',\n",
       " '2_polyps',\n",
       " '2_polyps',\n",
       " '2_polyps',\n",
       " '2_polyps',\n",
       " '2_polyps',\n",
       " '2_polyps',\n",
       " '2_polyps',\n",
       " '2_polyps',\n",
       " '2_polyps',\n",
       " '2_polyps',\n",
       " '2_polyps',\n",
       " '2_polyps',\n",
       " '1_ulcerative_colitis',\n",
       " '2_polyps',\n",
       " '2_polyps',\n",
       " '2_polyps',\n",
       " '2_polyps',\n",
       " '2_polyps',\n",
       " '2_polyps',\n",
       " '2_polyps',\n",
       " '2_polyps',\n",
       " '2_polyps',\n",
       " '2_polyps',\n",
       " '2_polyps',\n",
       " '2_polyps',\n",
       " '2_polyps',\n",
       " '2_polyps',\n",
       " '2_polyps',\n",
       " '2_polyps',\n",
       " '2_polyps',\n",
       " '2_polyps',\n",
       " '2_polyps',\n",
       " '2_polyps',\n",
       " '2_polyps',\n",
       " '2_polyps',\n",
       " '2_polyps',\n",
       " '2_polyps',\n",
       " '2_polyps',\n",
       " '2_polyps',\n",
       " '2_polyps',\n",
       " '2_polyps',\n",
       " '2_polyps',\n",
       " '2_polyps',\n",
       " '2_polyps',\n",
       " '2_polyps',\n",
       " '2_polyps',\n",
       " '2_polyps',\n",
       " '2_polyps',\n",
       " '2_polyps',\n",
       " '2_polyps',\n",
       " '2_polyps',\n",
       " '2_polyps',\n",
       " '2_polyps',\n",
       " '2_polyps',\n",
       " '2_polyps',\n",
       " '2_polyps',\n",
       " '2_polyps',\n",
       " '1_ulcerative_colitis',\n",
       " '2_polyps',\n",
       " '2_polyps',\n",
       " '2_polyps',\n",
       " '2_polyps',\n",
       " '2_polyps',\n",
       " '2_polyps',\n",
       " '2_polyps',\n",
       " '2_polyps',\n",
       " '1_ulcerative_colitis',\n",
       " '2_polyps',\n",
       " '2_polyps',\n",
       " '2_polyps',\n",
       " '2_polyps',\n",
       " '2_polyps',\n",
       " '2_polyps',\n",
       " '1_ulcerative_colitis',\n",
       " '0_normal',\n",
       " '2_polyps',\n",
       " '2_polyps',\n",
       " '2_polyps',\n",
       " '2_polyps',\n",
       " '2_polyps',\n",
       " '2_polyps',\n",
       " '2_polyps',\n",
       " '2_polyps',\n",
       " '2_polyps',\n",
       " '2_polyps',\n",
       " '2_polyps',\n",
       " '1_ulcerative_colitis',\n",
       " '2_polyps',\n",
       " '2_polyps',\n",
       " '2_polyps',\n",
       " '2_polyps',\n",
       " '2_polyps',\n",
       " '2_polyps',\n",
       " '2_polyps',\n",
       " '2_polyps',\n",
       " '1_ulcerative_colitis',\n",
       " '2_polyps',\n",
       " '2_polyps',\n",
       " '2_polyps',\n",
       " '2_polyps',\n",
       " '2_polyps',\n",
       " '2_polyps',\n",
       " '2_polyps',\n",
       " '2_polyps',\n",
       " '2_polyps',\n",
       " '2_polyps',\n",
       " '2_polyps',\n",
       " '2_polyps',\n",
       " '2_polyps',\n",
       " '2_polyps',\n",
       " '2_polyps',\n",
       " '2_polyps',\n",
       " '2_polyps',\n",
       " '2_polyps',\n",
       " '2_polyps',\n",
       " '2_polyps',\n",
       " '2_polyps',\n",
       " '2_polyps',\n",
       " '2_polyps',\n",
       " '2_polyps',\n",
       " '2_polyps',\n",
       " '2_polyps',\n",
       " '2_polyps',\n",
       " '2_polyps',\n",
       " '2_polyps',\n",
       " '1_ulcerative_colitis',\n",
       " '2_polyps',\n",
       " '1_ulcerative_colitis',\n",
       " '2_polyps',\n",
       " '2_polyps',\n",
       " '2_polyps',\n",
       " '1_ulcerative_colitis',\n",
       " '1_ulcerative_colitis',\n",
       " '2_polyps',\n",
       " '2_polyps',\n",
       " '2_polyps',\n",
       " '2_polyps',\n",
       " '1_ulcerative_colitis',\n",
       " '2_polyps',\n",
       " '2_polyps',\n",
       " '2_polyps',\n",
       " '2_polyps',\n",
       " '2_polyps',\n",
       " '2_polyps',\n",
       " '2_polyps',\n",
       " '2_polyps',\n",
       " '2_polyps',\n",
       " '2_polyps',\n",
       " '2_polyps',\n",
       " '3_esophagitis',\n",
       " '2_polyps',\n",
       " '2_polyps',\n",
       " '2_polyps',\n",
       " '1_ulcerative_colitis',\n",
       " '1_ulcerative_colitis',\n",
       " '2_polyps',\n",
       " '2_polyps',\n",
       " '2_polyps',\n",
       " '1_ulcerative_colitis',\n",
       " '2_polyps',\n",
       " '2_polyps',\n",
       " '3_esophagitis',\n",
       " '2_polyps',\n",
       " '2_polyps',\n",
       " '2_polyps',\n",
       " '2_polyps',\n",
       " '2_polyps',\n",
       " '2_polyps',\n",
       " '2_polyps',\n",
       " '2_polyps',\n",
       " '2_polyps',\n",
       " '2_polyps',\n",
       " '2_polyps',\n",
       " '1_ulcerative_colitis',\n",
       " '2_polyps',\n",
       " '2_polyps',\n",
       " '2_polyps',\n",
       " '2_polyps',\n",
       " '2_polyps',\n",
       " '2_polyps',\n",
       " '2_polyps',\n",
       " '2_polyps',\n",
       " '2_polyps',\n",
       " '2_polyps',\n",
       " '2_polyps',\n",
       " '2_polyps',\n",
       " '2_polyps',\n",
       " '2_polyps',\n",
       " '2_polyps',\n",
       " '2_polyps',\n",
       " '2_polyps',\n",
       " '2_polyps',\n",
       " '2_polyps',\n",
       " '2_polyps',\n",
       " '1_ulcerative_colitis',\n",
       " '2_polyps',\n",
       " '2_polyps',\n",
       " '2_polyps',\n",
       " '2_polyps',\n",
       " '2_polyps',\n",
       " '2_polyps',\n",
       " '2_polyps',\n",
       " '1_ulcerative_colitis',\n",
       " '2_polyps',\n",
       " '2_polyps',\n",
       " '2_polyps',\n",
       " '2_polyps',\n",
       " '2_polyps',\n",
       " '2_polyps',\n",
       " '2_polyps',\n",
       " '0_normal',\n",
       " '2_polyps',\n",
       " '2_polyps',\n",
       " '2_polyps',\n",
       " '2_polyps',\n",
       " '2_polyps',\n",
       " '2_polyps',\n",
       " '2_polyps',\n",
       " '2_polyps',\n",
       " '2_polyps',\n",
       " '2_polyps',\n",
       " '2_polyps',\n",
       " '2_polyps',\n",
       " '2_polyps',\n",
       " '3_esophagitis',\n",
       " '2_polyps',\n",
       " '2_polyps',\n",
       " '2_polyps',\n",
       " '2_polyps',\n",
       " '2_polyps',\n",
       " '2_polyps',\n",
       " '2_polyps',\n",
       " '2_polyps',\n",
       " '2_polyps',\n",
       " '3_esophagitis',\n",
       " '2_polyps',\n",
       " '2_polyps',\n",
       " '2_polyps',\n",
       " '2_polyps',\n",
       " '3_esophagitis',\n",
       " '3_esophagitis',\n",
       " '3_esophagitis',\n",
       " '3_esophagitis',\n",
       " '3_esophagitis',\n",
       " '3_esophagitis',\n",
       " '3_esophagitis',\n",
       " '3_esophagitis',\n",
       " '3_esophagitis',\n",
       " '3_esophagitis',\n",
       " '3_esophagitis',\n",
       " '3_esophagitis',\n",
       " '3_esophagitis',\n",
       " '3_esophagitis',\n",
       " '3_esophagitis',\n",
       " '3_esophagitis',\n",
       " '3_esophagitis',\n",
       " '3_esophagitis',\n",
       " '3_esophagitis',\n",
       " '3_esophagitis',\n",
       " '3_esophagitis',\n",
       " '3_esophagitis',\n",
       " '3_esophagitis',\n",
       " '3_esophagitis',\n",
       " '3_esophagitis',\n",
       " '3_esophagitis',\n",
       " '3_esophagitis',\n",
       " '3_esophagitis',\n",
       " '3_esophagitis',\n",
       " '3_esophagitis',\n",
       " '3_esophagitis',\n",
       " '3_esophagitis',\n",
       " '3_esophagitis',\n",
       " '3_esophagitis',\n",
       " '3_esophagitis',\n",
       " '3_esophagitis',\n",
       " '3_esophagitis',\n",
       " '3_esophagitis',\n",
       " '3_esophagitis',\n",
       " '3_esophagitis',\n",
       " '3_esophagitis',\n",
       " '3_esophagitis',\n",
       " '3_esophagitis',\n",
       " '3_esophagitis',\n",
       " '3_esophagitis',\n",
       " '3_esophagitis',\n",
       " '3_esophagitis',\n",
       " '3_esophagitis',\n",
       " '3_esophagitis',\n",
       " '3_esophagitis',\n",
       " '3_esophagitis',\n",
       " '3_esophagitis',\n",
       " '3_esophagitis',\n",
       " '3_esophagitis',\n",
       " '3_esophagitis',\n",
       " '3_esophagitis',\n",
       " '3_esophagitis',\n",
       " '3_esophagitis',\n",
       " '3_esophagitis',\n",
       " '3_esophagitis',\n",
       " '3_esophagitis',\n",
       " '3_esophagitis',\n",
       " '3_esophagitis',\n",
       " '3_esophagitis',\n",
       " '3_esophagitis',\n",
       " '3_esophagitis',\n",
       " '3_esophagitis',\n",
       " '3_esophagitis',\n",
       " '3_esophagitis',\n",
       " '3_esophagitis',\n",
       " '3_esophagitis',\n",
       " '3_esophagitis',\n",
       " '3_esophagitis',\n",
       " '3_esophagitis',\n",
       " '3_esophagitis',\n",
       " '3_esophagitis',\n",
       " '3_esophagitis',\n",
       " '3_esophagitis',\n",
       " '3_esophagitis',\n",
       " '3_esophagitis',\n",
       " '3_esophagitis',\n",
       " '3_esophagitis',\n",
       " '3_esophagitis',\n",
       " '3_esophagitis',\n",
       " '3_esophagitis',\n",
       " '3_esophagitis',\n",
       " '3_esophagitis',\n",
       " '3_esophagitis',\n",
       " '3_esophagitis',\n",
       " '3_esophagitis',\n",
       " '3_esophagitis',\n",
       " '3_esophagitis',\n",
       " '3_esophagitis',\n",
       " '3_esophagitis',\n",
       " '3_esophagitis',\n",
       " '3_esophagitis',\n",
       " '3_esophagitis',\n",
       " '3_esophagitis',\n",
       " '3_esophagitis',\n",
       " '3_esophagitis',\n",
       " '3_esophagitis',\n",
       " ...]"
      ]
     },
     "execution_count": 23,
     "metadata": {},
     "output_type": "execute_result"
    }
   ],
   "source": [
    "def most_frequent(List):\n",
    "    return max(set(List), key = List.count)\n",
    "\n",
    "finalResults = []\n",
    "for i in range(len(predictions_01)):\n",
    "    tempResultsArray = [predictions_01[i], predictions_02[i], predictions_03[i], predictions_04[i], predictions_05[i],\n",
    "                  predictions_06[i], predictions_07[i], predictions_08[i], predictions_09[i], predictions_10[i]]\n",
    "    \n",
    "    tempResults = most_frequent(tempResultsArray)\n",
    "    finalResults.append(tempResults)\n",
    "finalResults"
   ]
  },
  {
   "cell_type": "code",
   "execution_count": 25,
   "metadata": {
    "execution": {
     "iopub.execute_input": "2022-08-31T14:16:17.508198Z",
     "iopub.status.busy": "2022-08-31T14:16:17.507905Z",
     "iopub.status.idle": "2022-08-31T14:16:17.920273Z",
     "shell.execute_reply": "2022-08-31T14:16:17.919230Z",
     "shell.execute_reply.started": "2022-08-31T14:16:17.508178Z"
    }
   },
   "outputs": [
    {
     "name": "stdout",
     "output_type": "stream",
     "text": [
      "Confusion Matrix:\n"
     ]
    },
    {
     "data": {
      "image/png": "[encoded data removed]",
      "text/plain": [
       "<Figure size 432x288 with 2 Axes>"
      ]
     },
     "metadata": {
      "needs_background": "light"
     },
     "output_type": "display_data"
    }
   ],
   "source": [
    "from sklearn.metrics import confusion_matrix, classification_report\n",
    "data_class = [\"0_normal\", \"1_ulcerative_colitis\", \"2_polyps\", \"3_esophagitis\"]\n",
    "confusionMatrix = confusion_matrix(y_true_01, finalResults,\n",
    "                                       labels=data_class)\n",
    "print(\"Confusion Matrix:\")\n",
    "plt.figure()\n",
    "sns.heatmap(confusionMatrix,\n",
    "            xticklabels=[\"predicted_0_normal\",\n",
    "                         \"predicted_1_ulcerative_colitis\",\n",
    "                         \"predicted_2_polyps\",\n",
    "                         \"predicted_3_esophagitis\"]\n",
    "            , yticklabels=[\"actual_0_normal\",\n",
    "                           \"actual_1_ulcerative_colitis\",\n",
    "                           \"actual_2_polyps\",\n",
    "                           \"actual_3_esophagitis\"]\n",
    "            , annot=True, fmt='.2f')\n",
    "\n",
    "plt.title(\"Confusion Matrix \" + \"AugModelsMaxVoting\")\n",
    "plt.savefig(\"TestResultsMaxVoting/12_AugVotingModels/results/confusionMatrix/12_AugVotingModels.jpg\",bbox_inches='tight')"
   ]
  },
  {
   "cell_type": "code",
   "execution_count": 26,
   "metadata": {
    "execution": {
     "iopub.execute_input": "2022-08-31T14:16:20.701850Z",
     "iopub.status.busy": "2022-08-31T14:16:20.701531Z",
     "iopub.status.idle": "2022-08-31T14:16:20.736116Z",
     "shell.execute_reply": "2022-08-31T14:16:20.735395Z",
     "shell.execute_reply.started": "2022-08-31T14:16:20.701821Z"
    }
   },
   "outputs": [],
   "source": [
    "df = pd.DataFrame(classification_report(y_true_01, finalResults, output_dict=True))\n",
    "saveResults_csv(df, location = \"TestResultsMaxVoting/12_AugVotingModels/results/classificationReport/12_AugVotingModels.csv\")"
   ]
  },
  {
   "cell_type": "code",
   "execution_count": null,
   "metadata": {},
   "outputs": [],
   "source": []
  },
  {
   "cell_type": "code",
   "execution_count": null,
   "metadata": {},
   "outputs": [],
   "source": []
  },
  {
   "cell_type": "code",
   "execution_count": null,
   "metadata": {},
   "outputs": [],
   "source": []
  },
  {
   "cell_type": "code",
   "execution_count": null,
   "metadata": {},
   "outputs": [],
   "source": []
  },
  {
   "cell_type": "code",
   "execution_count": null,
   "metadata": {},
   "outputs": [],
   "source": []
  },
  {
   "cell_type": "code",
   "execution_count": null,
   "metadata": {},
   "outputs": [],
   "source": []
  },
  {
   "cell_type": "code",
   "execution_count": null,
   "metadata": {},
   "outputs": [],
   "source": []
  },
  {
   "cell_type": "code",
   "execution_count": null,
   "metadata": {},
   "outputs": [],
   "source": []
  },
  {
   "cell_type": "code",
   "execution_count": null,
   "metadata": {},
   "outputs": [],
   "source": []
  },
  {
   "cell_type": "code",
   "execution_count": null,
   "metadata": {},
   "outputs": [],
   "source": []
  }
 ],
 "metadata": {
  "colab": {
   "collapsed_sections": [],
   "name": "01_BaseModel1.ipynb",
   "provenance": [],
   "toc_visible": true
  },
  "kernelspec": {
   "display_name": "Python 3 (ipykernel)",
   "language": "python",
   "name": "python3"
  },
  "language_info": {
   "codemirror_mode": {
    "name": "ipython",
    "version": 3
   },
   "file_extension": ".py",
   "mimetype": "text/x-python",
   "name": "python",
   "nbconvert_exporter": "python",
   "pygments_lexer": "ipython3",
   "version": "3.8.10"
  }
 },
 "nbformat": 4,
 "nbformat_minor": 4
}
