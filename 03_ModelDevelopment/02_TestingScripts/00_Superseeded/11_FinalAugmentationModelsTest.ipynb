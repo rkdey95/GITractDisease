{
 "cells": [
  {
   "cell_type": "markdown",
   "metadata": {
    "id": "w_PE4HTj4pGK"
   },
   "source": [
    "# 11_AugModels\n",
    "\n",
    "Written by: Rupesh Kumar Dey\n",
    "\n",
    "\n",
    "Notebook used for model development and testing for AugModels"
   ]
  },
  {
   "cell_type": "markdown",
   "metadata": {
    "id": "nH61wJjmxaQJ"
   },
   "source": [
    "## Importing required Libraries"
   ]
  },
  {
   "cell_type": "code",
   "execution_count": 1,
   "metadata": {
    "execution": {
     "iopub.execute_input": "2022-07-26T13:07:57.406740Z",
     "iopub.status.busy": "2022-07-26T13:07:57.405790Z",
     "iopub.status.idle": "2022-07-26T13:08:03.996967Z",
     "shell.execute_reply": "2022-07-26T13:08:03.995844Z",
     "shell.execute_reply.started": "2022-07-26T13:07:57.406629Z"
    },
    "id": "cf_6GDu_4jgC",
    "outputId": "36e7ae8b-04d4-44bb-c2b0-580013d23899"
   },
   "outputs": [
    {
     "name": "stdout",
     "output_type": "stream",
     "text": [
      "Requirement already satisfied: tensorflow_hub in /usr/local/lib/python3.8/dist-packages (0.12.0)\n",
      "Requirement already satisfied: protobuf>=3.8.0 in /usr/local/lib/python3.8/dist-packages (from tensorflow_hub) (3.17.3)\n",
      "Requirement already satisfied: numpy>=1.12.0 in /usr/local/lib/python3.8/dist-packages (from tensorflow_hub) (1.19.4)\n",
      "Requirement already satisfied: six>=1.9 in /usr/local/lib/python3.8/dist-packages (from protobuf>=3.8.0->tensorflow_hub) (1.15.0)\n",
      "\u001b[33mWARNING: Running pip as the 'root' user can result in broken permissions and conflicting behaviour with the system package manager. It is recommended to use a virtual environment instead: https://pip.pypa.io/warnings/venv\u001b[0m\u001b[33m\n",
      "\u001b[0m\u001b[33mWARNING: You are using pip version 22.0.3; however, version 22.2 is available.\n",
      "You should consider upgrading via the '/usr/bin/python -m pip install --upgrade pip' command.\u001b[0m\u001b[33m\n",
      "\u001b[0mRequirement already satisfied: seaborn in /usr/local/lib/python3.8/dist-packages (0.11.2)\n",
      "Requirement already satisfied: numpy>=1.15 in /usr/local/lib/python3.8/dist-packages (from seaborn) (1.19.4)\n",
      "Requirement already satisfied: scipy>=1.0 in /usr/local/lib/python3.8/dist-packages (from seaborn) (1.4.1)\n",
      "Requirement already satisfied: matplotlib>=2.2 in /usr/local/lib/python3.8/dist-packages (from seaborn) (3.5.0)\n",
      "Requirement already satisfied: pandas>=0.23 in /usr/local/lib/python3.8/dist-packages (from seaborn) (1.2.5)\n",
      "Requirement already satisfied: pyparsing>=2.2.1 in /usr/local/lib/python3.8/dist-packages (from matplotlib>=2.2->seaborn) (3.0.7)\n",
      "Requirement already satisfied: pillow>=6.2.0 in /usr/local/lib/python3.8/dist-packages (from matplotlib>=2.2->seaborn) (9.0.1)\n",
      "Requirement already satisfied: kiwisolver>=1.0.1 in /usr/local/lib/python3.8/dist-packages (from matplotlib>=2.2->seaborn) (1.3.2)\n",
      "Requirement already satisfied: packaging>=20.0 in /usr/local/lib/python3.8/dist-packages (from matplotlib>=2.2->seaborn) (21.3)\n",
      "Requirement already satisfied: cycler>=0.10 in /usr/local/lib/python3.8/dist-packages (from matplotlib>=2.2->seaborn) (0.11.0)\n",
      "Requirement already satisfied: fonttools>=4.22.0 in /usr/local/lib/python3.8/dist-packages (from matplotlib>=2.2->seaborn) (4.29.1)\n",
      "Requirement already satisfied: setuptools-scm>=4 in /usr/local/lib/python3.8/dist-packages (from matplotlib>=2.2->seaborn) (6.4.2)\n",
      "Requirement already satisfied: python-dateutil>=2.7 in /usr/local/lib/python3.8/dist-packages (from matplotlib>=2.2->seaborn) (2.8.2)\n",
      "Requirement already satisfied: pytz>=2017.3 in /usr/local/lib/python3.8/dist-packages (from pandas>=0.23->seaborn) (2021.3)\n",
      "Requirement already satisfied: six>=1.5 in /usr/local/lib/python3.8/dist-packages (from python-dateutil>=2.7->matplotlib>=2.2->seaborn) (1.15.0)\n",
      "Requirement already satisfied: tomli>=1.0.0 in /usr/local/lib/python3.8/dist-packages (from setuptools-scm>=4->matplotlib>=2.2->seaborn) (2.0.1)\n",
      "Requirement already satisfied: setuptools in /usr/local/lib/python3.8/dist-packages (from setuptools-scm>=4->matplotlib>=2.2->seaborn) (59.4.0)\n",
      "\u001b[33mWARNING: Running pip as the 'root' user can result in broken permissions and conflicting behaviour with the system package manager. It is recommended to use a virtual environment instead: https://pip.pypa.io/warnings/venv\u001b[0m\u001b[33m\n",
      "\u001b[0m\u001b[33mWARNING: You are using pip version 22.0.3; however, version 22.2 is available.\n",
      "You should consider upgrading via the '/usr/bin/python -m pip install --upgrade pip' command.\u001b[0m\u001b[33m\n",
      "\u001b[0m"
     ]
    }
   ],
   "source": [
    "# !pip uninstall opencv-python\n",
    "!pip install tensorflow_hub\n",
    "!pip install seaborn\n",
    "# !pip install tensorflow-gpu"
   ]
  },
  {
   "cell_type": "code",
   "execution_count": 2,
   "metadata": {
    "execution": {
     "iopub.execute_input": "2022-07-26T13:08:03.999366Z",
     "iopub.status.busy": "2022-07-26T13:08:03.999197Z",
     "iopub.status.idle": "2022-07-26T13:08:08.277481Z",
     "shell.execute_reply": "2022-07-26T13:08:08.276773Z",
     "shell.execute_reply.started": "2022-07-26T13:08:03.999340Z"
    },
    "id": "2qCIAWyFLjHz"
   },
   "outputs": [],
   "source": [
    "# Importing python Libraries\n",
    "# General / plotting libraries\n",
    "import pandas as pd\n",
    "import numpy\n",
    "import matplotlib.pyplot as plt\n",
    "import seaborn as sns\n",
    "from sklearn.metrics import confusion_matrix, classification_report\n",
    "\n",
    "# Image Libraries\n",
    "from PIL import Image\n",
    "# import cv2\n",
    "\n",
    "# File System Libraries\n",
    "import os\n",
    "import sys\n",
    "import copy\n",
    "from copy import deepcopy\n",
    "\n",
    "# Tensorflow libraries\n",
    "import tensorflow as tf\n",
    "from tensorflow import keras\n",
    "from tensorflow.keras import layers, metrics, callbacks\n",
    "from tensorflow.keras.layers.experimental import preprocessing\n",
    "from tensorflow.keras.preprocessing.image import ImageDataGenerator\n",
    "\n",
    "from HelperFunctions import *"
   ]
  },
  {
   "cell_type": "code",
   "execution_count": 3,
   "metadata": {
    "execution": {
     "iopub.execute_input": "2022-07-26T13:08:08.280882Z",
     "iopub.status.busy": "2022-07-26T13:08:08.280707Z",
     "iopub.status.idle": "2022-07-26T13:08:08.284842Z",
     "shell.execute_reply": "2022-07-26T13:08:08.284084Z",
     "shell.execute_reply.started": "2022-07-26T13:08:08.280858Z"
    },
    "id": "6n-mgJeoLPue"
   },
   "outputs": [],
   "source": [
    "# Setting project parent directory path \n",
    "projectPath = \"/notebooks\""
   ]
  },
  {
   "cell_type": "markdown",
   "metadata": {
    "id": "3KoK6oW6633o"
   },
   "source": [
    "## Model Development - AugModels"
   ]
  },
  {
   "cell_type": "markdown",
   "metadata": {
    "id": "0s-Tonb8Ab50"
   },
   "source": [
    "#### Dataset Loading "
   ]
  },
  {
   "cell_type": "markdown",
   "metadata": {
    "id": "6IbZW06m4jgU"
   },
   "source": [
    "### 11_BaseModel1_CLAHE: Base Model 1 with Image Processing CLAHE"
   ]
  },
  {
   "cell_type": "markdown",
   "metadata": {
    "id": "zqTM0j0UqzM_"
   },
   "source": [
    "#### Dataset Loading "
   ]
  },
  {
   "cell_type": "code",
   "execution_count": 4,
   "metadata": {
    "execution": {
     "iopub.execute_input": "2022-07-26T13:08:08.287279Z",
     "iopub.status.busy": "2022-07-26T13:08:08.286996Z",
     "iopub.status.idle": "2022-07-26T13:08:09.016185Z",
     "shell.execute_reply": "2022-07-26T13:08:09.015199Z",
     "shell.execute_reply.started": "2022-07-26T13:08:08.287241Z"
    },
    "id": "yboVFyApSYbL",
    "outputId": "cb19a346-207e-4554-83bf-f363331e6607"
   },
   "outputs": [
    {
     "name": "stdout",
     "output_type": "stream",
     "text": [
      "Found 16800 images belonging to 4 classes.\n",
      "Found 1200 images belonging to 4 classes.\n",
      "Found 1200 images belonging to 4 classes.\n"
     ]
    }
   ],
   "source": [
    "# Defining path of dataset\n",
    "train_path = \"/DatasetAug/train\"\n",
    "test_path = \"/DatasetAug/test\"\n",
    "# Create dataset using Model Helper Function (datagen_flow)\n",
    "train_data, valid_data, test_data = datagen_flow(projectPath, train_path, test_path,image_size = (100,100))"
   ]
  },
  {
   "cell_type": "markdown",
   "metadata": {
    "id": "aI6Ro-zMqhVi"
   },
   "source": [
    "#### Loading Checkpoint & Prediction & Results"
   ]
  },
  {
   "cell_type": "code",
   "execution_count": 5,
   "metadata": {
    "execution": {
     "iopub.execute_input": "2022-07-26T13:08:09.017814Z",
     "iopub.status.busy": "2022-07-26T13:08:09.017540Z",
     "iopub.status.idle": "2022-07-26T13:08:32.098253Z",
     "shell.execute_reply": "2022-07-26T13:08:32.097183Z",
     "shell.execute_reply.started": "2022-07-26T13:08:09.017776Z"
    },
    "id": "w7y2L8EgqcJD"
   },
   "outputs": [
    {
     "name": "stderr",
     "output_type": "stream",
     "text": [
      "2022-07-26 13:08:09.073269: I tensorflow/stream_executor/cuda/cuda_gpu_executor.cc:1052] successful NUMA node read from SysFS had negative value (-1), but there must be at least one NUMA node, so returning NUMA node zero\n",
      "2022-07-26 13:08:09.129829: I tensorflow/stream_executor/cuda/cuda_gpu_executor.cc:1052] successful NUMA node read from SysFS had negative value (-1), but there must be at least one NUMA node, so returning NUMA node zero\n",
      "2022-07-26 13:08:09.130402: I tensorflow/stream_executor/cuda/cuda_gpu_executor.cc:1052] successful NUMA node read from SysFS had negative value (-1), but there must be at least one NUMA node, so returning NUMA node zero\n",
      "2022-07-26 13:08:09.132613: I tensorflow/stream_executor/cuda/cuda_gpu_executor.cc:1052] successful NUMA node read from SysFS had negative value (-1), but there must be at least one NUMA node, so returning NUMA node zero\n",
      "2022-07-26 13:08:09.133005: I tensorflow/stream_executor/cuda/cuda_gpu_executor.cc:1052] successful NUMA node read from SysFS had negative value (-1), but there must be at least one NUMA node, so returning NUMA node zero\n",
      "2022-07-26 13:08:09.133359: I tensorflow/stream_executor/cuda/cuda_gpu_executor.cc:1052] successful NUMA node read from SysFS had negative value (-1), but there must be at least one NUMA node, so returning NUMA node zero\n",
      "2022-07-26 13:08:10.076361: I tensorflow/stream_executor/cuda/cuda_gpu_executor.cc:1052] successful NUMA node read from SysFS had negative value (-1), but there must be at least one NUMA node, so returning NUMA node zero\n",
      "2022-07-26 13:08:10.076656: I tensorflow/stream_executor/cuda/cuda_gpu_executor.cc:1052] successful NUMA node read from SysFS had negative value (-1), but there must be at least one NUMA node, so returning NUMA node zero\n",
      "2022-07-26 13:08:10.076891: I tensorflow/stream_executor/cuda/cuda_gpu_executor.cc:1052] successful NUMA node read from SysFS had negative value (-1), but there must be at least one NUMA node, so returning NUMA node zero\n",
      "2022-07-26 13:08:10.077145: I tensorflow/core/common_runtime/gpu/gpu_device.cc:1525] Created device /job:localhost/replica:0/task:0/device:GPU:0 with 15384 MB memory:  -> device: 0, name: Quadro P5000, pci bus id: 0000:00:05.0, compute capability: 6.1\n",
      "2022-07-26 13:08:11.901059: I tensorflow/stream_executor/cuda/cuda_dnn.cc:377] Loaded cuDNN version 8302\n"
     ]
    },
    {
     "name": "stdout",
     "output_type": "stream",
     "text": [
      "1200/1200 [==============================] - 21s 16ms/step\n",
      "Confusion Matrix:\n"
     ]
    },
    {
     "data": {
      "image/png": "[encoded data removed]",
      "text/plain": [
       "<Figure size 432x288 with 2 Axes>"
      ]
     },
     "metadata": {
      "needs_background": "light"
     },
     "output_type": "display_data"
    }
   ],
   "source": [
    "# Load best model from checkpoint folder\n",
    "BaseModel1_CLAHE = createBaseModel(optimizer = tf.keras.optimizers.SGD())\n",
    "checkpointPath = \"TrainedResultsAug/11_BaseModel1_CLAHE/checkpoint/11_BaseModel1_CLAHE.ckpt\"\n",
    "loadModel(BaseModel1_CLAHE,checkpointPath)\n",
    "df_results, confusion_matrix, y_true, predictions = testResults(BaseModel1_CLAHE, test_data, \"11_BaseModel1_CLAHE\" ,\n",
    "                                                                data_class = [\"0_normal\",\n",
    "                                                                              \"1_ulcerative_colitis\",\n",
    "                                                                              \"2_polyps\",\n",
    "                                                                              \"3_esophagitis\"],\n",
    "                                                                location = \"TestResultsAug/11_BaseModel1_CLAHE/results/confusionMatrix/11_BaseModel1_CLAHE.jpg\")\n",
    "saveResults_csv(df_results,\"TestResultsAug/11_BaseModel1_CLAHE/results/classificationReport/11_BaseModel1_CLAHE.csv\")"
   ]
  },
  {
   "cell_type": "markdown",
   "metadata": {
    "id": "hBaWBVSKsJPh"
   },
   "source": [
    "### 11_BaseModel2_MULTISCALE_tunedAdamLrScheduler: Base Model 2 with Image Processing MULTISCALE (Optimizer - Adam + LrScheduler)"
   ]
  },
  {
   "cell_type": "markdown",
   "metadata": {
    "id": "IIdczEHusLU6"
   },
   "source": [
    "#### Dataset Loading "
   ]
  },
  {
   "cell_type": "code",
   "execution_count": 6,
   "metadata": {
    "execution": {
     "iopub.execute_input": "2022-07-26T13:08:32.100847Z",
     "iopub.status.busy": "2022-07-26T13:08:32.100531Z",
     "iopub.status.idle": "2022-07-26T13:08:32.601422Z",
     "shell.execute_reply": "2022-07-26T13:08:32.600479Z",
     "shell.execute_reply.started": "2022-07-26T13:08:32.100807Z"
    },
    "id": "_GJxD6uEsLU7"
   },
   "outputs": [
    {
     "name": "stdout",
     "output_type": "stream",
     "text": [
      "Found 16800 images belonging to 4 classes.\n",
      "Found 1200 images belonging to 4 classes.\n",
      "Found 1200 images belonging to 4 classes.\n"
     ]
    }
   ],
   "source": [
    "# Defining path of dataset\n",
    "train_path = \"/DatasetAug/train\"\n",
    "test_path = \"/DatasetAug/test\"\n",
    "# Create dataset using Model Helper Function (datagen_flow)\n",
    "train_data, valid_data, test_data = datagen_flow(projectPath, train_path, test_path,image_size = (224,224))"
   ]
  },
  {
   "cell_type": "markdown",
   "metadata": {
    "id": "TYQE6EKnthR4"
   },
   "source": [
    "#### Loading Checkpoint & Prediction & Results"
   ]
  },
  {
   "cell_type": "code",
   "execution_count": 7,
   "metadata": {
    "execution": {
     "iopub.execute_input": "2022-07-26T13:08:32.602709Z",
     "iopub.status.busy": "2022-07-26T13:08:32.602516Z",
     "iopub.status.idle": "2022-07-26T13:08:47.646891Z",
     "shell.execute_reply": "2022-07-26T13:08:47.645968Z",
     "shell.execute_reply.started": "2022-07-26T13:08:32.602684Z"
    },
    "id": "7rDOF7Notj0X"
   },
   "outputs": [
    {
     "name": "stdout",
     "output_type": "stream",
     "text": [
      "1200/1200 [==============================] - 13s 11ms/step\n",
      "Confusion Matrix:\n"
     ]
    },
    {
     "data": {
      "image/png": "[encoded data removed]",
      "text/plain": [
       "<Figure size 432x288 with 2 Axes>"
      ]
     },
     "metadata": {
      "needs_background": "light"
     },
     "output_type": "display_data"
    }
   ],
   "source": [
    "# Load best model from checkpoint folder\n",
    "BaseModel2_MULTISCALE_tunedAdamLrScheduler = createBaseModel2(optimizer = tf.keras.optimizers.Adam())\n",
    "checkpointPath = \"TrainedResultsAug/11_BaseModel2_MULTISCALE_tunedAdamLrScheduler/checkpoint/11_BaseModel2_MULTISCALE_tunedAdamLrScheduler.ckpt\"\n",
    "loadModel(BaseModel2_MULTISCALE_tunedAdamLrScheduler,checkpointPath)\n",
    "df_results, confusion_matrix, y_true, predictions = testResults(BaseModel2_MULTISCALE_tunedAdamLrScheduler, test_data, \"11_BaseModel2_MULTISCALE_tunedAdamLrScheduler\" ,\n",
    "                                                                data_class = [\"0_normal\",\n",
    "                                                                              \"1_ulcerative_colitis\",\n",
    "                                                                              \"2_polyps\",\n",
    "                                                                              \"3_esophagitis\"],\n",
    "                                                                location = \"TestResultsAug/11_BaseModel2_MULTISCALE_tunedAdamLrScheduler/results/confusionMatrix/11_BaseModel2_MULTISCALE_tunedAdamLrScheduler.jpg\")\n",
    "saveResults_csv(df_results,\"TestResultsAug/11_BaseModel2_MULTISCALE_tunedAdamLrScheduler/results/classificationReport/11_BaseModel2_MULTISCALE_tunedAdamLrScheduler.csv\")"
   ]
  },
  {
   "cell_type": "markdown",
   "metadata": {},
   "source": [
    "### 11_TransferLearningFeatureExtraction_ResNet50V1_MULTISCALE_tunedAdam: Transfer Learning with ResNet50V1 model on MULTISCALE Image (Optimizer - Adam + LrScheduler)"
   ]
  },
  {
   "cell_type": "markdown",
   "metadata": {},
   "source": [
    "#### Dataset Loading "
   ]
  },
  {
   "cell_type": "code",
   "execution_count": 8,
   "metadata": {
    "execution": {
     "iopub.execute_input": "2022-07-26T13:08:47.649057Z",
     "iopub.status.busy": "2022-07-26T13:08:47.648838Z",
     "iopub.status.idle": "2022-07-26T13:08:48.112822Z",
     "shell.execute_reply": "2022-07-26T13:08:48.111132Z",
     "shell.execute_reply.started": "2022-07-26T13:08:47.649031Z"
    }
   },
   "outputs": [
    {
     "name": "stdout",
     "output_type": "stream",
     "text": [
      "Found 16800 images belonging to 4 classes.\n",
      "Found 1200 images belonging to 4 classes.\n",
      "Found 1200 images belonging to 4 classes.\n"
     ]
    }
   ],
   "source": [
    "# Defining path of dataset\n",
    "train_path = \"/DatasetAug/train\"\n",
    "test_path = \"/DatasetAug/test\"\n",
    "# Create dataset using Model Helper Function (datagen_flow)\n",
    "train_data, valid_data, test_data = datagen_flow(projectPath, train_path, test_path,image_size = (224,224))"
   ]
  },
  {
   "cell_type": "markdown",
   "metadata": {},
   "source": [
    "#### Loading Checkpoint & Prediction & Results"
   ]
  },
  {
   "cell_type": "code",
   "execution_count": null,
   "metadata": {
    "execution": {
     "iopub.execute_input": "2022-07-26T13:08:48.114457Z",
     "iopub.status.busy": "2022-07-26T13:08:48.114205Z"
    }
   },
   "outputs": [
    {
     "name": "stdout",
     "output_type": "stream",
     "text": [
      " 391/1200 [========>.....................] - ETA: 11s"
     ]
    }
   ],
   "source": [
    "# Load best model from checkpoint folder\n",
    "baseModel = tf.keras.applications.resnet50.ResNet50(include_top = True, weights = \"imagenet\")\n",
    "TransferLearningFeatureExtraction_ResNet50V1_MULTISCALE_tunedAdamLrScheduler = createApplicationsFeatureExtractionModel(baseModel, trainable = False ,num_classes = 4, IMAGE_SHAPE = (224,224,3), optimizer = tf.keras.optimizers.Adam())\n",
    "checkpointPath = \"TrainedResultsAug/11_TransferLearningFeatureExtraction_ResNet50V1_MULTISCALE_tunedAdamLrScheduler/checkpoint/11_TransferLearningFeatureExtraction_ResNet50V1_MULTISCALE_tunedAdamLrScheduler.ckpt\"\n",
    "loadModel(TransferLearningFeatureExtraction_ResNet50V1_MULTISCALE_tunedAdamLrScheduler,checkpointPath)\n",
    "df_results, confusion_matrix, y_true, predictions = testResults(TransferLearningFeatureExtraction_ResNet50V1_MULTISCALE_tunedAdamLrScheduler, test_data, \"11_TransferLearningFeatureExtraction_ResNet50V1_MULTISCALE_tunedAdamLrScheduler\" ,\n",
    "                                                                data_class = [\"0_normal\",\n",
    "                                                                              \"1_ulcerative_colitis\",\n",
    "                                                                              \"2_polyps\",\n",
    "                                                                              \"3_esophagitis\"],\n",
    "                                                                location = \"TestResultsAug/11_TransferLearningFeatureExtraction_ResNet50V1_MULTISCALE_tunedAdamLrScheduler/results/confusionMatrix/11_TransferLearningFeatureExtraction_ResNet50V1_MULTISCALE_tunedAdamLrScheduler.jpg\")\n",
    "saveResults_csv(df_results,\"TestResultsAug/11_TransferLearningFeatureExtraction_ResNet50V1_MULTISCALE_tunedAdamLrScheduler/results/classificationReport/11_TransferLearningFeatureExtraction_ResNet50V1_MULTISCALE_tunedAdamLrScheduler.csv\")"
   ]
  },
  {
   "cell_type": "markdown",
   "metadata": {},
   "source": [
    "### 11_TransferLearningFeatureExtraction_ResNet50V2_NORMAL_tunedAdam: Transfer Learning with ResNet50V2 model on NORMAL Image (Optimizer - Adam + LrScheduler)"
   ]
  },
  {
   "cell_type": "code",
   "execution_count": null,
   "metadata": {},
   "outputs": [],
   "source": [
    "# Defining path of dataset\n",
    "train_path = \"/DatasetAug/train\"\n",
    "test_path = \"/DatasetAug/test\"\n",
    "# Create dataset using Model Helper Function (datagen_flow)\n",
    "train_data, valid_data, test_data = datagen_flow(projectPath, train_path, test_path,image_size = (224,224))"
   ]
  },
  {
   "cell_type": "markdown",
   "metadata": {},
   "source": [
    "#### Loading Checkpoint & Prediction & Results"
   ]
  },
  {
   "cell_type": "code",
   "execution_count": null,
   "metadata": {},
   "outputs": [],
   "source": [
    "baseModel = tf.keras.applications.resnet_v2.ResNet50V2(include_top = True, weights = \"imagenet\")\n",
    "TransferLearningFeatureExtraction_ResNet50V2_NORMAL_tunedAdamLrScheduler = createApplicationsFeatureExtractionModel(baseModel, trainable = False ,num_classes = 4, IMAGE_SHAPE = (224,224,3), optimizer = tf.keras.optimizers.Adam())\n",
    "checkpointPath = \"TrainedResultsAug/11_TransferLearningFeatureExtraction_ResNet50V2_NORMAL_tunedAdamLrScheduler/checkpoint/11_TransferLearningFeatureExtraction_ResNet50V2_NORMAL_tunedAdamLrScheduler.ckpt\"\n",
    "loadModel(TransferLearningFeatureExtraction_ResNet50V2_NORMAL_tunedAdamLrScheduler,checkpointPath)\n",
    "df_results, confusion_matrix, y_true, predictions = testResults(TransferLearningFeatureExtraction_ResNet50V2_NORMAL_tunedAdamLrScheduler, test_data, \"11_TransferLearningFeatureExtraction_ResNet50V2_NORMAL_tunedAdamLrScheduler\" ,\n",
    "                                                                data_class = [\"0_normal\",\n",
    "                                                                              \"1_ulcerative_colitis\",\n",
    "                                                                              \"2_polyps\",\n",
    "                                                                              \"3_esophagitis\"],\n",
    "                                                                location = \"TestResultsAug/11_TransferLearningFeatureExtraction_ResNet50V2_NORMAL_tunedAdamLrScheduler/results/confusionMatrix/11_TransferLearningFeatureExtraction_ResNet50V2_NORMAL_tunedAdamLrScheduler.jpg\")\n",
    "saveResults_csv(df_results,\"TestResultsAug/11_TransferLearningFeatureExtraction_ResNet50V2_NORMAL_tunedAdamLrScheduler/results/classificationReport/11_TransferLearningFeatureExtraction_ResNet50V2_NORMAL_tunedAdamLrScheduler.csv\")"
   ]
  },
  {
   "cell_type": "markdown",
   "metadata": {},
   "source": [
    "### 11_TransferLearningFeatureExtraction_MobileNetV1_NORMAL: Transfer Learning with MobileNetV1 model on NORMAL Image (Optimizer - Adam + LrScheduler)"
   ]
  },
  {
   "cell_type": "markdown",
   "metadata": {},
   "source": [
    "#### Dataset Loading "
   ]
  },
  {
   "cell_type": "code",
   "execution_count": null,
   "metadata": {},
   "outputs": [],
   "source": [
    "# Defining path of dataset\n",
    "train_path = \"/DatasetAug/train\"\n",
    "test_path = \"/DatasetAug/test\"\n",
    "# Create dataset using Model Helper Function (datagen_flow)\n",
    "train_data, valid_data, test_data = datagen_flow(projectPath, train_path, test_path,image_size = (224,224))"
   ]
  },
  {
   "cell_type": "markdown",
   "metadata": {},
   "source": [
    "#### Loading Checkpoint & Prediction & Results"
   ]
  },
  {
   "cell_type": "code",
   "execution_count": null,
   "metadata": {},
   "outputs": [],
   "source": [
    "baseModel = tf.keras.applications.mobilenet.MobileNet(include_top = True, weights = \"imagenet\")\n",
    "TransferLearningFeatureExtraction_MobileNetV1_NORMAL_tunedAdamLrScheduler = createApplicationsFeatureExtractionModel(baseModel, trainable = False ,num_classes = 4, IMAGE_SHAPE = (224,224,3), optimizer = tf.keras.optimizers.Adam())\n",
    "checkpointPath = \"TrainedResultsAug/11_TransferLearningFeatureExtraction_MobileNetV1_NORMAL_tunedAdamLrScheduler/checkpoint/11_TransferLearningFeatureExtraction_MobileNetV1_NORMAL_tunedAdamLrScheduler.ckpt\"\n",
    "loadModel(TransferLearningFeatureExtraction_MobileNetV1_NORMAL_tunedAdamLrScheduler,checkpointPath)\n",
    "df_results, confusion_matrix, y_true, predictions = testResults(TransferLearningFeatureExtraction_MobileNetV1_NORMAL_tunedAdamLrScheduler, test_data, \"11_TransferLearningFeatureExtraction_MobileNetV1_NORMAL_tunedAdamLrScheduler\" ,\n",
    "                                                                data_class = [\"0_normal\",\n",
    "                                                                              \"1_ulcerative_colitis\",\n",
    "                                                                              \"2_polyps\",\n",
    "                                                                              \"3_esophagitis\"],\n",
    "                                                                location = \"TestResultsAug/11_TransferLearningFeatureExtraction_MobileNetV1_NORMAL_tunedAdamLrScheduler/results/confusionMatrix/11_TransferLearningFeatureExtraction_MobileNetV1_NORMAL_tunedAdamLrScheduler.jpg\")\n",
    "saveResults_csv(df_results,\"TestResultsAug/11_TransferLearningFeatureExtraction_MobileNetV1_NORMAL_tunedAdamLrScheduler/results/classificationReport/11_TransferLearningFeatureExtraction_MobileNetV1_NORMAL_tunedAdamLrScheduler.csv\")"
   ]
  },
  {
   "cell_type": "markdown",
   "metadata": {},
   "source": [
    "### 11_TransferLearningFeatureExtraction_MobileNetV2_CLAHE: Transfer Learning with MobileNetV2 model on CLAHE Image (Optimizer - Adam + LrScheduler)"
   ]
  },
  {
   "cell_type": "markdown",
   "metadata": {},
   "source": [
    "#### Dataset Loading "
   ]
  },
  {
   "cell_type": "code",
   "execution_count": null,
   "metadata": {},
   "outputs": [],
   "source": [
    "# Defining path of dataset\n",
    "train_path = \"/DatasetAug/train\"\n",
    "test_path = \"/DatasetAug/test\"\n",
    "# Create dataset using Model Helper Function (datagen_flow)\n",
    "train_data, valid_data, test_data = datagen_flow(projectPath, train_path, test_path,image_size = (224,224))"
   ]
  },
  {
   "cell_type": "markdown",
   "metadata": {},
   "source": [
    "#### Loading Checkpoint & Prediction & Results"
   ]
  },
  {
   "cell_type": "code",
   "execution_count": null,
   "metadata": {},
   "outputs": [],
   "source": [
    "# Load best model from checkpoint folder\n",
    "baseModel = tf.keras.applications.mobilenet_v2.MobileNetV2(include_top = True, weights = \"imagenet\")\n",
    "TransferLearningFeatureExtraction_MobileNetV2_CLAHE_tunedAdamLrScheduler = createApplicationsFeatureExtractionModel(baseModel, trainable = False ,num_classes = 4, IMAGE_SHAPE = (224,224,3), optimizer = tf.keras.optimizers.Adam())\n",
    "checkpointPath = \"TrainedResultsAug/11_TransferLearningFeatureExtraction_MobileNetV2_CLAHE_tunedAdamLrScheduler/checkpoint/11_TransferLearningFeatureExtraction_MobileNetV2_CLAHE_tunedAdamLrScheduler.ckpt\"\n",
    "\n",
    "loadModel(TransferLearningFeatureExtraction_MobileNetV2_CLAHE_tunedAdamLrScheduler,checkpointPath)\n",
    "df_results, confusion_matrix, y_true, predictions = testResults(TransferLearningFeatureExtraction_MobileNetV2_CLAHE_tunedAdamLrScheduler, test_data, \"11_TransferLearningFeatureExtraction_MobileNetV2_CLAHE_tunedAdamLrScheduler\" ,\n",
    "                                                                data_class = [\"0_normal\",\n",
    "                                                                              \"1_ulcerative_colitis\",\n",
    "                                                                              \"2_polyps\",\n",
    "                                                                              \"3_esophagitis\"],\n",
    "                                                                location = \"TestResultsAug/11_TransferLearningFeatureExtraction_MobileNetV2_CLAHE_tunedAdamLrScheduler/results/confusionMatrix/11_TransferLearningFeatureExtraction_MobileNetV2_CLAHE_tunedAdamLrScheduler.jpg\")\n",
    "saveResults_csv(df_results,\"TestResultsAug/11_TransferLearningFeatureExtraction_MobileNetV2_CLAHE_tunedAdamLrScheduler/results/classificationReport/11_TransferLearningFeatureExtraction_MobileNetV2_CLAHE_tunedAdamLrScheduler.csv\")\n"
   ]
  },
  {
   "cell_type": "markdown",
   "metadata": {},
   "source": [
    "### 11_TransferLearningFineTuning_ResNet50V1_CLAHE: Transfer Learning with ResNet50V1 model on CLAHE Image (Optimizer - Adam + LrScheduler)"
   ]
  },
  {
   "cell_type": "markdown",
   "metadata": {},
   "source": [
    "#### Dataset Loading "
   ]
  },
  {
   "cell_type": "code",
   "execution_count": null,
   "metadata": {},
   "outputs": [],
   "source": [
    "# Defining path of dataset\n",
    "train_path = \"/DatasetAug/train\"\n",
    "test_path = \"/DatasetAug/test\"\n",
    "# Create dataset using Model Helper Function (datagen_flow)\n",
    "train_data, valid_data, test_data = datagen_flow(projectPath, train_path, test_path,image_size = (224,224))"
   ]
  },
  {
   "cell_type": "markdown",
   "metadata": {},
   "source": [
    "#### Loading Checkpoint & Prediction & Results"
   ]
  },
  {
   "cell_type": "code",
   "execution_count": null,
   "metadata": {},
   "outputs": [],
   "source": [
    "# Load best model from checkpoint folder\n",
    "baseModel = tf.keras.applications.resnet50.ResNet50(include_top = True, weights = \"imagenet\")\n",
    "TransferLearningFineTuning_ResNet50V1_CLAHE_tunedAdamLrScheduler = createApplicationsFineTuningModel(baseModel, trainable = True, numLayersUnfreeze = 34 ,num_classes = 4, IMAGE_SHAPE = (224,224,3), optimizer = tf.keras.optimizers.Adam())\n",
    "checkpointPath = \"TrainedResultsAug/11_TransferLearningFineTuning_ResNet50V1_CLAHE_tunedAdamLrScheduler/checkpoint/11_TransferLearningFineTuning_ResNet50V1_CLAHE_tunedAdamLrScheduler.ckpt\"\n",
    "loadModel(TransferLearningFineTuning_ResNet50V1_CLAHE_tunedAdamLrScheduler,checkpointPath)\n",
    "df_results, confusion_matrix, y_true, predictions = testResults(TransferLearningFineTuning_ResNet50V1_CLAHE_tunedAdamLrScheduler, test_data, \"11_TransferLearningFineTuning_ResNet50V1_CLAHE_tunedAdamLrScheduler\" ,\n",
    "                                                                data_class = [\"0_normal\",\n",
    "                                                                              \"1_ulcerative_colitis\",\n",
    "                                                                              \"2_polyps\",\n",
    "                                                                              \"3_esophagitis\"],\n",
    "                                                                location = \"TestResultsAug/11_TransferLearningFineTuning_ResNet50V1_CLAHE_tunedAdamLrScheduler/results/confusionMatrix/11_TransferLearningFineTuning_ResNet50V1_CLAHE_tunedAdamLrScheduler.jpg\")\n",
    "saveResults_csv(df_results,\"TestResultsAug/11_TransferLearningFineTuning_ResNet50V1_CLAHE_tunedAdamLrScheduler/results/classificationReport/11_TransferLearningFineTuning_ResNet50V1_CLAHE_tunedAdamLrScheduler.csv\")"
   ]
  },
  {
   "cell_type": "markdown",
   "metadata": {},
   "source": [
    "### 11_TransferLearningFineTuning_ResNet50V2_RAYLEIGH: Transfer Learning with ResNet50V2 model on RAYLEIGH Image"
   ]
  },
  {
   "cell_type": "markdown",
   "metadata": {},
   "source": [
    "#### Dataset Loading "
   ]
  },
  {
   "cell_type": "code",
   "execution_count": null,
   "metadata": {},
   "outputs": [],
   "source": [
    "# Defining path of dataset\n",
    "train_path = \"/DatasetAug/train\"\n",
    "test_path = \"/DatasetAug/test\"\n",
    "# Create dataset using Model Helper Function (datagen_flow)\n",
    "train_data, valid_data, test_data = datagen_flow(projectPath, train_path, test_path,image_size = (224,224))"
   ]
  },
  {
   "cell_type": "markdown",
   "metadata": {},
   "source": [
    "#### Loading Checkpoint & Prediction & Results"
   ]
  },
  {
   "cell_type": "code",
   "execution_count": null,
   "metadata": {},
   "outputs": [],
   "source": [
    "# Load best model from checkpoint folder\n",
    "baseModel = tf.keras.applications.resnet_v2.ResNet50V2(include_top = True, weights = \"imagenet\")\n",
    "TransferLearningFineTuning_ResNet50V2_RAYLEIGH = createApplicationsFineTuningModel(baseModel, trainable = False ,num_classes = 4, IMAGE_SHAPE = (224,224,3), optimizer = tf.keras.optimizers.SGD())\n",
    "checkpointPath = \"TrainedResultsAug/11_TransferLearningFineTuning_ResNet50V2_RAYLEIGH/checkpoint/11_TransferLearningFineTuning_ResNet50V2_RAYLEIGH.ckpt\"\n",
    "loadModel(TransferLearningFineTuning_ResNet50V2_RAYLEIGH,checkpointPath)\n",
    "df_results, confusion_matrix, y_true, predictions = testResults(TransferLearningFineTuning_ResNet50V2_RAYLEIGH, test_data, \"11_TransferLearningFineTuning_ResNet50V2_RAYLEIGH\" ,\n",
    "                                                                data_class = [\"0_normal\",\n",
    "                                                                              \"1_ulcerative_colitis\",\n",
    "                                                                              \"2_polyps\",\n",
    "                                                                              \"3_esophagitis\"],\n",
    "                                                                location = \"TestResultsAug/11_TransferLearningFineTuning_ResNet50V2_RAYLEIGH/results/confusionMatrix/11_TransferLearningFineTuning_ResNet50V2_RAYLEIGH.jpg\")\n",
    "saveResults_csv(df_results,\"TestResultsAug/11_TransferLearningFineTuning_ResNet50V2_RAYLEIGH/results/classificationReport/11_TransferLearningFineTuning_ResNet50V2_RAYLEIGH.csv\")"
   ]
  },
  {
   "cell_type": "markdown",
   "metadata": {},
   "source": [
    "### 11_TransferLearningFineTuning_MobileNetV1_NORMAL: Transfer Learning with MobileNetV1 model on NORMAL Image"
   ]
  },
  {
   "cell_type": "markdown",
   "metadata": {},
   "source": [
    "#### Dataset Loading "
   ]
  },
  {
   "cell_type": "code",
   "execution_count": null,
   "metadata": {},
   "outputs": [],
   "source": [
    "# Defining path of dataset\n",
    "train_path = \"/DatasetAug/train\"\n",
    "test_path = \"/DatasetAug/test\"\n",
    "# Create dataset using Model Helper Function (datagen_flow)\n",
    "train_data, valid_data, test_data = datagen_flow(projectPath, train_path, test_path,image_size = (224,224))"
   ]
  },
  {
   "cell_type": "markdown",
   "metadata": {},
   "source": [
    "#### Loading Checkpoint & Prediction & Results"
   ]
  },
  {
   "cell_type": "code",
   "execution_count": null,
   "metadata": {},
   "outputs": [],
   "source": [
    "# Load best model from checkpoint folder\n",
    "baseModel = tf.keras.applications.mobilenet.MobileNet(include_top = True, weights = \"imagenet\")\n",
    "TransferLearningFineTuning_MobileNetV1_NORMAL = createApplicationsFineTuningModel(baseModel, trainable = False ,num_classes = 4, IMAGE_SHAPE = (224,224,3), optimizer = tf.keras.optimizers.SGD())\n",
    "checkpointPath = \"TrainedResultsAug/11_TransferLearningFineTuning_MobileNetV1_NORMAL/checkpoint/11_TransferLearningFineTuning_MobileNetV1_NORMAL.ckpt\"\n",
    "loadModel(TransferLearningFineTuning_MobileNetV1_NORMAL,checkpointPath)\n",
    "df_results, confusion_matrix, y_true, predictions = testResults(TransferLearningFineTuning_MobileNetV1_NORMAL, test_data, \"11_TransferLearningFineTuning_MobileNetV1_NORMAL\" ,\n",
    "                                                                data_class = [\"0_normal\",\n",
    "                                                                              \"1_ulcerative_colitis\",\n",
    "                                                                              \"2_polyps\",\n",
    "                                                                              \"3_esophagitis\"],\n",
    "                                                                location = \"TestResultsAug/11_TransferLearningFineTuning_MobileNetV1_NORMAL/results/confusionMatrix/11_TransferLearningFineTuning_MobileNetV1_NORMAL.jpg\")\n",
    "saveResults_csv(df_results,\"TestResultsAug/11_TransferLearningFineTuning_MobileNetV1_NORMAL/results/classificationReport/11_TransferLearningFineTuning_MobileNetV1_NORMAL.csv\")"
   ]
  },
  {
   "cell_type": "markdown",
   "metadata": {},
   "source": [
    "### 11_TransferLearningFineTuning_MobileNetV2_NORMAL: Transfer Learning with MobileNetV2 model on NORMAL Image"
   ]
  },
  {
   "cell_type": "markdown",
   "metadata": {},
   "source": [
    "#### Loading Checkpoint & Prediction & Results"
   ]
  },
  {
   "cell_type": "code",
   "execution_count": null,
   "metadata": {},
   "outputs": [],
   "source": [
    "# Load best model from checkpoint folder\n",
    "baseModel = tf.keras.applications.mobilenet_v2.MobileNetV2(include_top = True, weights = \"imagenet\")\n",
    "TransferLearningFineTuning_MobileNetV2_NORMAL = createApplicationsFineTuningModel(baseModel, trainable = False ,num_classes = 4, IMAGE_SHAPE = (224,224,3), optimizer = tf.keras.optimizers.SGD())\n",
    "checkpointPath = \"TrainedResultsAug/11_TransferLearningFineTuning_MobileNetV2_NORMAL/checkpoint/11_TransferLearningFineTuning_MobileNetV2_NORMAL.ckpt\"\n",
    "loadModel(TransferLearningFineTuning_MobileNetV2_NORMAL,checkpointPath)\n",
    "df_results, confusion_matrix, y_true, predictions = testResults(TransferLearningFineTuning_MobileNetV2_NORMAL, test_data, \"11_TransferLearningFineTuning_MobileNetV2_NORMAL\" ,\n",
    "                                                                data_class = [\"0_normal\",\n",
    "                                                                              \"1_ulcerative_colitis\",\n",
    "                                                                              \"2_polyps\",\n",
    "                                                                              \"3_esophagitis\"],\n",
    "                                                                location = \"TestResultsAug/11_TransferLearningFineTuning_MobileNetV2_NORMAL/results/confusionMatrix/11_TransferLearningFineTuning_MobileNetV2_NORMAL.jpg\")\n",
    "saveResults_csv(df_results,\"TestResultsAug/11_TransferLearningFineTuning_MobileNetV2_NORMAL/results/classificationReport/11_TransferLearningFineTuning_MobileNetV2_NORMAL.csv\")"
   ]
  },
  {
   "cell_type": "code",
   "execution_count": null,
   "metadata": {},
   "outputs": [],
   "source": []
  },
  {
   "cell_type": "code",
   "execution_count": null,
   "metadata": {},
   "outputs": [],
   "source": []
  },
  {
   "cell_type": "code",
   "execution_count": null,
   "metadata": {},
   "outputs": [],
   "source": []
  },
  {
   "cell_type": "code",
   "execution_count": null,
   "metadata": {},
   "outputs": [],
   "source": []
  },
  {
   "cell_type": "code",
   "execution_count": null,
   "metadata": {},
   "outputs": [],
   "source": []
  },
  {
   "cell_type": "code",
   "execution_count": null,
   "metadata": {},
   "outputs": [],
   "source": []
  },
  {
   "cell_type": "code",
   "execution_count": null,
   "metadata": {},
   "outputs": [],
   "source": []
  },
  {
   "cell_type": "code",
   "execution_count": null,
   "metadata": {},
   "outputs": [],
   "source": []
  },
  {
   "cell_type": "code",
   "execution_count": null,
   "metadata": {},
   "outputs": [],
   "source": []
  },
  {
   "cell_type": "code",
   "execution_count": null,
   "metadata": {},
   "outputs": [],
   "source": []
  },
  {
   "cell_type": "code",
   "execution_count": null,
   "metadata": {},
   "outputs": [],
   "source": []
  }
 ],
 "metadata": {
  "colab": {
   "collapsed_sections": [],
   "name": "01_BaseModel1.ipynb",
   "provenance": [],
   "toc_visible": true
  },
  "kernelspec": {
   "display_name": "Python 3 (ipykernel)",
   "language": "python",
   "name": "python3"
  },
  "language_info": {
   "codemirror_mode": {
    "name": "ipython",
    "version": 3
   },
   "file_extension": ".py",
   "mimetype": "text/x-python",
   "name": "python",
   "nbconvert_exporter": "python",
   "pygments_lexer": "ipython3",
   "version": "3.8.10"
  }
 },
 "nbformat": 4,
 "nbformat_minor": 4
}
