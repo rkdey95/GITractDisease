{
 "cells": [
  {
   "cell_type": "markdown",
   "metadata": {
    "id": "w_PE4HTj4pGK"
   },
   "source": [
    "# 13B_AugModels\n",
    "\n",
    "Written by: Rupesh Kumar Dey\n",
    "\n",
    "\n",
    "Notebook used for model development and testing for AugModels"
   ]
  },
  {
   "cell_type": "markdown",
   "metadata": {
    "id": "nH61wJjmxaQJ"
   },
   "source": [
    "## Importing required Libraries"
   ]
  },
  {
   "cell_type": "code",
   "execution_count": 1,
   "metadata": {
    "execution": {
     "iopub.execute_input": "2022-08-02T06:01:14.884619Z",
     "iopub.status.busy": "2022-08-02T06:01:14.884267Z",
     "iopub.status.idle": "2022-08-02T06:01:21.727191Z",
     "shell.execute_reply": "2022-08-02T06:01:21.725870Z",
     "shell.execute_reply.started": "2022-08-02T06:01:14.884537Z"
    },
    "id": "cf_6GDu_4jgC",
    "outputId": "36e7ae8b-04d4-44bb-c2b0-580013d23899"
   },
   "outputs": [
    {
     "name": "stdout",
     "output_type": "stream",
     "text": [
      "Requirement already satisfied: tensorflow_hub in /usr/local/lib/python3.8/dist-packages (0.12.0)\n",
      "Requirement already satisfied: protobuf>=3.8.0 in /usr/local/lib/python3.8/dist-packages (from tensorflow_hub) (3.17.3)\n",
      "Requirement already satisfied: numpy>=1.12.0 in /usr/local/lib/python3.8/dist-packages (from tensorflow_hub) (1.19.4)\n",
      "Requirement already satisfied: six>=1.9 in /usr/local/lib/python3.8/dist-packages (from protobuf>=3.8.0->tensorflow_hub) (1.15.0)\n",
      "\u001b[33mWARNING: Running pip as the 'root' user can result in broken permissions and conflicting behaviour with the system package manager. It is recommended to use a virtual environment instead: https://pip.pypa.io/warnings/venv\u001b[0m\u001b[33m\n",
      "\u001b[0m\u001b[33mWARNING: You are using pip version 22.0.3; however, version 22.2.1 is available.\n",
      "You should consider upgrading via the '/usr/bin/python -m pip install --upgrade pip' command.\u001b[0m\u001b[33m\n",
      "\u001b[0mRequirement already satisfied: seaborn in /usr/local/lib/python3.8/dist-packages (0.11.2)\n",
      "Requirement already satisfied: scipy>=1.0 in /usr/local/lib/python3.8/dist-packages (from seaborn) (1.4.1)\n",
      "Requirement already satisfied: numpy>=1.15 in /usr/local/lib/python3.8/dist-packages (from seaborn) (1.19.4)\n",
      "Requirement already satisfied: pandas>=0.23 in /usr/local/lib/python3.8/dist-packages (from seaborn) (1.2.5)\n",
      "Requirement already satisfied: matplotlib>=2.2 in /usr/local/lib/python3.8/dist-packages (from seaborn) (3.5.0)\n",
      "Requirement already satisfied: pillow>=6.2.0 in /usr/local/lib/python3.8/dist-packages (from matplotlib>=2.2->seaborn) (9.0.1)\n",
      "Requirement already satisfied: fonttools>=4.22.0 in /usr/local/lib/python3.8/dist-packages (from matplotlib>=2.2->seaborn) (4.29.1)\n",
      "Requirement already satisfied: pyparsing>=2.2.1 in /usr/local/lib/python3.8/dist-packages (from matplotlib>=2.2->seaborn) (3.0.7)\n",
      "Requirement already satisfied: packaging>=20.0 in /usr/local/lib/python3.8/dist-packages (from matplotlib>=2.2->seaborn) (21.3)\n",
      "Requirement already satisfied: setuptools-scm>=4 in /usr/local/lib/python3.8/dist-packages (from matplotlib>=2.2->seaborn) (6.4.2)\n",
      "Requirement already satisfied: cycler>=0.10 in /usr/local/lib/python3.8/dist-packages (from matplotlib>=2.2->seaborn) (0.11.0)\n",
      "Requirement already satisfied: kiwisolver>=1.0.1 in /usr/local/lib/python3.8/dist-packages (from matplotlib>=2.2->seaborn) (1.3.2)\n",
      "Requirement already satisfied: python-dateutil>=2.7 in /usr/local/lib/python3.8/dist-packages (from matplotlib>=2.2->seaborn) (2.8.2)\n",
      "Requirement already satisfied: pytz>=2017.3 in /usr/local/lib/python3.8/dist-packages (from pandas>=0.23->seaborn) (2021.3)\n",
      "Requirement already satisfied: six>=1.5 in /usr/local/lib/python3.8/dist-packages (from python-dateutil>=2.7->matplotlib>=2.2->seaborn) (1.15.0)\n",
      "Requirement already satisfied: tomli>=1.0.0 in /usr/local/lib/python3.8/dist-packages (from setuptools-scm>=4->matplotlib>=2.2->seaborn) (2.0.1)\n",
      "Requirement already satisfied: setuptools in /usr/local/lib/python3.8/dist-packages (from setuptools-scm>=4->matplotlib>=2.2->seaborn) (59.4.0)\n",
      "\u001b[33mWARNING: Running pip as the 'root' user can result in broken permissions and conflicting behaviour with the system package manager. It is recommended to use a virtual environment instead: https://pip.pypa.io/warnings/venv\u001b[0m\u001b[33m\n",
      "\u001b[0m\u001b[33mWARNING: You are using pip version 22.0.3; however, version 22.2.1 is available.\n",
      "You should consider upgrading via the '/usr/bin/python -m pip install --upgrade pip' command.\u001b[0m\u001b[33m\n",
      "\u001b[0m"
     ]
    }
   ],
   "source": [
    "# !pip uninstall opencv-python\n",
    "!pip install tensorflow_hub\n",
    "!pip install seaborn\n",
    "# !pip install tensorflow-gpu"
   ]
  },
  {
   "cell_type": "code",
   "execution_count": 2,
   "metadata": {
    "execution": {
     "iopub.execute_input": "2022-08-02T06:01:21.730881Z",
     "iopub.status.busy": "2022-08-02T06:01:21.730463Z",
     "iopub.status.idle": "2022-08-02T06:01:25.812179Z",
     "shell.execute_reply": "2022-08-02T06:01:25.810743Z",
     "shell.execute_reply.started": "2022-08-02T06:01:21.730840Z"
    },
    "id": "2qCIAWyFLjHz"
   },
   "outputs": [],
   "source": [
    "# Importing python Libraries\n",
    "# General / plotting libraries\n",
    "import pandas as pd\n",
    "import numpy\n",
    "import matplotlib.pyplot as plt\n",
    "import seaborn as sns\n",
    "from sklearn.metrics import confusion_matrix, classification_report\n",
    "\n",
    "# Image Libraries\n",
    "from PIL import Image\n",
    "# import cv2\n",
    "\n",
    "# File System Libraries\n",
    "import os\n",
    "import sys\n",
    "import copy\n",
    "from copy import deepcopy\n",
    "\n",
    "# Tensorflow libraries\n",
    "import tensorflow as tf\n",
    "from tensorflow import keras\n",
    "from tensorflow.keras import layers, metrics, callbacks\n",
    "from tensorflow.keras.layers.experimental import preprocessing\n",
    "from tensorflow.keras.preprocessing.image import ImageDataGenerator\n",
    "\n",
    "from HelperFunctions import *"
   ]
  },
  {
   "cell_type": "code",
   "execution_count": 3,
   "metadata": {
    "execution": {
     "iopub.execute_input": "2022-08-02T06:01:25.814192Z",
     "iopub.status.busy": "2022-08-02T06:01:25.813765Z",
     "iopub.status.idle": "2022-08-02T06:01:25.819251Z",
     "shell.execute_reply": "2022-08-02T06:01:25.818039Z",
     "shell.execute_reply.started": "2022-08-02T06:01:25.814154Z"
    },
    "id": "6n-mgJeoLPue"
   },
   "outputs": [],
   "source": [
    "# Setting project parent directory path \n",
    "projectPath = \"/notebooks\""
   ]
  },
  {
   "cell_type": "markdown",
   "metadata": {
    "id": "3KoK6oW6633o"
   },
   "source": [
    "## Model Development - AugModels"
   ]
  },
  {
   "cell_type": "markdown",
   "metadata": {
    "id": "0s-Tonb8Ab50"
   },
   "source": [
    "#### Dataset Loading "
   ]
  },
  {
   "cell_type": "markdown",
   "metadata": {
    "id": "6IbZW06m4jgU"
   },
   "source": [
    "### 13B_BaseModel1_CLAHE: Base Model 1 with Image Processing CLAHE"
   ]
  },
  {
   "cell_type": "markdown",
   "metadata": {
    "id": "zqTM0j0UqzM_"
   },
   "source": [
    "#### Dataset Loading "
   ]
  },
  {
   "cell_type": "code",
   "execution_count": 4,
   "metadata": {
    "execution": {
     "iopub.execute_input": "2022-08-02T06:01:25.821484Z",
     "iopub.status.busy": "2022-08-02T06:01:25.821275Z",
     "iopub.status.idle": "2022-08-02T06:01:26.629714Z",
     "shell.execute_reply": "2022-08-02T06:01:26.628508Z",
     "shell.execute_reply.started": "2022-08-02T06:01:25.821458Z"
    },
    "id": "yboVFyApSYbL",
    "outputId": "cb19a346-207e-4554-83bf-f363331e6607"
   },
   "outputs": [
    {
     "name": "stdout",
     "output_type": "stream",
     "text": [
      "Found 16800 images belonging to 4 classes.\n",
      "Found 4800 images belonging to 4 classes.\n",
      "Found 4800 images belonging to 4 classes.\n"
     ]
    }
   ],
   "source": [
    "# Defining path of dataset\n",
    "train_path = \"/DatasetAug/train\"\n",
    "test_path = \"/DatasetNormalization/test\"\n",
    "# Create dataset using Model Helper Function (datagen_flow)\n",
    "train_data, valid_data, test_data = datagen_flow(projectPath, train_path, test_path,image_size = (100,100))"
   ]
  },
  {
   "cell_type": "markdown",
   "metadata": {
    "id": "aI6Ro-zMqhVi"
   },
   "source": [
    "#### Loading Checkpoint & Prediction & Results"
   ]
  },
  {
   "cell_type": "code",
   "execution_count": 5,
   "metadata": {
    "execution": {
     "iopub.execute_input": "2022-08-02T06:01:26.631610Z",
     "iopub.status.busy": "2022-08-02T06:01:26.631315Z",
     "iopub.status.idle": "2022-08-02T06:02:30.296609Z",
     "shell.execute_reply": "2022-08-02T06:02:30.295363Z",
     "shell.execute_reply.started": "2022-08-02T06:01:26.631572Z"
    },
    "id": "w7y2L8EgqcJD"
   },
   "outputs": [
    {
     "name": "stderr",
     "output_type": "stream",
     "text": [
      "2022-08-02 06:01:26.689746: I tensorflow/stream_executor/cuda/cuda_gpu_executor.cc:1052] successful NUMA node read from SysFS had negative value (-1), but there must be at least one NUMA node, so returning NUMA node zero\n",
      "2022-08-02 06:01:26.754002: I tensorflow/stream_executor/cuda/cuda_gpu_executor.cc:1052] successful NUMA node read from SysFS had negative value (-1), but there must be at least one NUMA node, so returning NUMA node zero\n",
      "2022-08-02 06:01:26.754455: I tensorflow/stream_executor/cuda/cuda_gpu_executor.cc:1052] successful NUMA node read from SysFS had negative value (-1), but there must be at least one NUMA node, so returning NUMA node zero\n",
      "2022-08-02 06:01:26.756388: I tensorflow/stream_executor/cuda/cuda_gpu_executor.cc:1052] successful NUMA node read from SysFS had negative value (-1), but there must be at least one NUMA node, so returning NUMA node zero\n",
      "2022-08-02 06:01:26.756792: I tensorflow/stream_executor/cuda/cuda_gpu_executor.cc:1052] successful NUMA node read from SysFS had negative value (-1), but there must be at least one NUMA node, so returning NUMA node zero\n",
      "2022-08-02 06:01:26.757123: I tensorflow/stream_executor/cuda/cuda_gpu_executor.cc:1052] successful NUMA node read from SysFS had negative value (-1), but there must be at least one NUMA node, so returning NUMA node zero\n",
      "2022-08-02 06:01:27.810155: I tensorflow/stream_executor/cuda/cuda_gpu_executor.cc:1052] successful NUMA node read from SysFS had negative value (-1), but there must be at least one NUMA node, so returning NUMA node zero\n",
      "2022-08-02 06:01:27.810496: I tensorflow/stream_executor/cuda/cuda_gpu_executor.cc:1052] successful NUMA node read from SysFS had negative value (-1), but there must be at least one NUMA node, so returning NUMA node zero\n",
      "2022-08-02 06:01:27.810748: I tensorflow/stream_executor/cuda/cuda_gpu_executor.cc:1052] successful NUMA node read from SysFS had negative value (-1), but there must be at least one NUMA node, so returning NUMA node zero\n",
      "2022-08-02 06:01:27.810950: I tensorflow/core/common_runtime/gpu/gpu_device.cc:1525] Created device /job:localhost/replica:0/task:0/device:GPU:0 with 15384 MB memory:  -> device: 0, name: Quadro P5000, pci bus id: 0000:00:05.0, compute capability: 6.1\n",
      "2022-08-02 06:01:29.759603: I tensorflow/stream_executor/cuda/cuda_dnn.cc:377] Loaded cuDNN version 8302\n"
     ]
    },
    {
     "name": "stdout",
     "output_type": "stream",
     "text": [
      "4800/4800 [==============================] - 61s 12ms/step\n",
      "Confusion Matrix:\n"
     ]
    },
    {
     "data": {
      "image/png": "[encoded data removed]",
      "text/plain": [
       "<Figure size 432x288 with 2 Axes>"
      ]
     },
     "metadata": {
      "needs_background": "light"
     },
     "output_type": "display_data"
    }
   ],
   "source": [
    "# Load best model from checkpoint folder\n",
    "BaseModel1_CLAHE = createBaseModel(optimizer = tf.keras.optimizers.SGD())\n",
    "checkpointPath = \"TrainedResultsAug/11_BaseModel1_CLAHE/checkpoint/11_BaseModel1_CLAHE.ckpt\"\n",
    "loadModel(BaseModel1_CLAHE,checkpointPath)\n",
    "df_results_01, confusion_matrix_01, y_true_01, predictions_01 = testResults(BaseModel1_CLAHE, test_data, \"13B_BaseModel1_CLAHE\" ,\n",
    "                                                                data_class = [\"0_normal\",\n",
    "                                                                              \"1_ulcerative_colitis\",\n",
    "                                                                              \"2_polyps\",\n",
    "                                                                              \"3_esophagitis\"],\n",
    "                                                                location = \"TestResultsAug/13B_BaseModel1_CLAHE/results/confusionMatrix/13B_BaseModel1_CLAHE.jpg\")\n",
    "# saveResults_csv(df_results,\"TestResultsAug/13B_BaseModel1_CLAHE/results/classificationReport/13B_BaseModel1_CLAHE.csv\")"
   ]
  },
  {
   "cell_type": "markdown",
   "metadata": {
    "id": "hBaWBVSKsJPh"
   },
   "source": [
    "### 13B_BaseModel2_MULTISCALE_tunedAdamLrScheduler: Base Model 2 with Image Processing MULTISCALE (Optimizer - Adam + LrScheduler)"
   ]
  },
  {
   "cell_type": "markdown",
   "metadata": {
    "id": "IIdczEHusLU6"
   },
   "source": [
    "#### Dataset Loading "
   ]
  },
  {
   "cell_type": "code",
   "execution_count": 6,
   "metadata": {
    "execution": {
     "iopub.execute_input": "2022-08-02T06:02:30.298752Z",
     "iopub.status.busy": "2022-08-02T06:02:30.298451Z",
     "iopub.status.idle": "2022-08-02T06:02:30.990222Z",
     "shell.execute_reply": "2022-08-02T06:02:30.989045Z",
     "shell.execute_reply.started": "2022-08-02T06:02:30.298687Z"
    },
    "id": "_GJxD6uEsLU7"
   },
   "outputs": [
    {
     "name": "stdout",
     "output_type": "stream",
     "text": [
      "Found 16800 images belonging to 4 classes.\n",
      "Found 4800 images belonging to 4 classes.\n",
      "Found 4800 images belonging to 4 classes.\n"
     ]
    }
   ],
   "source": [
    "# Defining path of dataset\n",
    "train_path = \"/DatasetAug/train\"\n",
    "test_path = \"/DatasetNormalization/test\"\n",
    "# Create dataset using Model Helper Function (datagen_flow)\n",
    "train_data, valid_data, test_data = datagen_flow(projectPath, train_path, test_path,image_size = (224,224))"
   ]
  },
  {
   "cell_type": "markdown",
   "metadata": {
    "id": "TYQE6EKnthR4"
   },
   "source": [
    "#### Loading Checkpoint & Prediction & Results"
   ]
  },
  {
   "cell_type": "code",
   "execution_count": 7,
   "metadata": {
    "execution": {
     "iopub.execute_input": "2022-08-02T06:02:30.991669Z",
     "iopub.status.busy": "2022-08-02T06:02:30.991468Z",
     "iopub.status.idle": "2022-08-02T06:03:12.144200Z",
     "shell.execute_reply": "2022-08-02T06:03:12.143294Z",
     "shell.execute_reply.started": "2022-08-02T06:02:30.991633Z"
    },
    "id": "7rDOF7Notj0X"
   },
   "outputs": [
    {
     "name": "stdout",
     "output_type": "stream",
     "text": [
      "4800/4800 [==============================] - 40s 8ms/step\n",
      "Confusion Matrix:\n"
     ]
    },
    {
     "data": {
      "image/png": "[encoded data removed]",
      "text/plain": [
       "<Figure size 432x288 with 2 Axes>"
      ]
     },
     "metadata": {
      "needs_background": "light"
     },
     "output_type": "display_data"
    }
   ],
   "source": [
    "# Load best model from checkpoint folder\n",
    "BaseModel2_MULTISCALE_tunedAdamLrScheduler = createBaseModel2(optimizer = tf.keras.optimizers.Adam())\n",
    "checkpointPath = \"TrainedResultsAug/11_BaseModel2_MULTISCALE_tunedAdamLrScheduler/checkpoint/11_BaseModel2_MULTISCALE_tunedAdamLrScheduler.ckpt\"\n",
    "loadModel(BaseModel2_MULTISCALE_tunedAdamLrScheduler,checkpointPath)\n",
    "df_results_02, confusion_matrix_02, y_true_02, predictions_02 = testResults(BaseModel2_MULTISCALE_tunedAdamLrScheduler, test_data, \"13B_BaseModel2_MULTISCALE_tunedAdamLrScheduler\" ,\n",
    "                                                                data_class = [\"0_normal\",\n",
    "                                                                              \"1_ulcerative_colitis\",\n",
    "                                                                              \"2_polyps\",\n",
    "                                                                              \"3_esophagitis\"],\n",
    "                                                                location = \"TestResultsAug/13B_BaseModel2_MULTISCALE_tunedAdamLrScheduler/results/confusionMatrix/13B_BaseModel2_MULTISCALE_tunedAdamLrScheduler.jpg\")\n",
    "# saveResults_csv(df_results,\"TestResultsAug/13B_BaseModel2_MULTISCALE_tunedAdamLrScheduler/results/classificationReport/13B_BaseModel2_MULTISCALE_tunedAdamLrScheduler.csv\")"
   ]
  },
  {
   "cell_type": "markdown",
   "metadata": {},
   "source": [
    "### 13B_TransferLearningFeatureExtraction_ResNet50V1_MULTISCALE_tunedAdam: Transfer Learning with ResNet50V1 model on MULTISCALE Image (Optimizer - Adam + LrScheduler)"
   ]
  },
  {
   "cell_type": "markdown",
   "metadata": {},
   "source": [
    "#### Dataset Loading "
   ]
  },
  {
   "cell_type": "code",
   "execution_count": 8,
   "metadata": {
    "execution": {
     "iopub.execute_input": "2022-08-02T06:03:12.146017Z",
     "iopub.status.busy": "2022-08-02T06:03:12.145736Z",
     "iopub.status.idle": "2022-08-02T06:03:12.853451Z",
     "shell.execute_reply": "2022-08-02T06:03:12.852895Z",
     "shell.execute_reply.started": "2022-08-02T06:03:12.145972Z"
    }
   },
   "outputs": [
    {
     "name": "stdout",
     "output_type": "stream",
     "text": [
      "Found 16800 images belonging to 4 classes.\n",
      "Found 4800 images belonging to 4 classes.\n",
      "Found 4800 images belonging to 4 classes.\n"
     ]
    }
   ],
   "source": [
    "# Defining path of dataset\n",
    "train_path = \"/DatasetAug/train\"\n",
    "test_path = \"/DatasetNormalization/test\"\n",
    "# Create dataset using Model Helper Function (datagen_flow)\n",
    "train_data, valid_data, test_data = datagen_flow(projectPath, train_path, test_path,image_size = (224,224))"
   ]
  },
  {
   "cell_type": "markdown",
   "metadata": {},
   "source": [
    "#### Loading Checkpoint & Prediction & Results"
   ]
  },
  {
   "cell_type": "code",
   "execution_count": 9,
   "metadata": {
    "execution": {
     "iopub.execute_input": "2022-08-02T06:03:12.856279Z",
     "iopub.status.busy": "2022-08-02T06:03:12.854928Z",
     "iopub.status.idle": "2022-08-02T06:04:33.334721Z",
     "shell.execute_reply": "2022-08-02T06:04:33.333867Z",
     "shell.execute_reply.started": "2022-08-02T06:03:12.856233Z"
    }
   },
   "outputs": [
    {
     "name": "stdout",
     "output_type": "stream",
     "text": [
      "4800/4800 [==============================] - 75s 15ms/step\n",
      "Confusion Matrix:\n"
     ]
    },
    {
     "data": {
      "image/png": "[encoded data removed]",
      "text/plain": [
       "<Figure size 432x288 with 2 Axes>"
      ]
     },
     "metadata": {
      "needs_background": "light"
     },
     "output_type": "display_data"
    }
   ],
   "source": [
    "# Load best model from checkpoint folder\n",
    "baseModel = tf.keras.applications.resnet50.ResNet50(include_top = True, weights = \"imagenet\")\n",
    "TransferLearningFeatureExtraction_ResNet50V1_MULTISCALE_tunedAdamLrScheduler = createApplicationsFeatureExtractionModel(baseModel, trainable = False ,num_classes = 4, IMAGE_SHAPE = (224,224,3), optimizer = tf.keras.optimizers.Adam())\n",
    "checkpointPath = \"TrainedResultsAug/11_TransferLearningFeatureExtraction_ResNet50V1_MULTISCALE_tunedAdamLrScheduler/checkpoint/11_TransferLearningFeatureExtraction_ResNet50V1_MULTISCALE_tunedAdamLrScheduler.ckpt\"\n",
    "loadModel(TransferLearningFeatureExtraction_ResNet50V1_MULTISCALE_tunedAdamLrScheduler,checkpointPath)\n",
    "df_results_03, confusion_matrix_03, y_true_03, predictions_03 = testResults(TransferLearningFeatureExtraction_ResNet50V1_MULTISCALE_tunedAdamLrScheduler, test_data, \"13B_TransferLearningFeatureExtraction_ResNet50V1_MULTISCALE_tunedAdamLrScheduler\" ,\n",
    "                                                                data_class = [\"0_normal\",\n",
    "                                                                              \"1_ulcerative_colitis\",\n",
    "                                                                              \"2_polyps\",\n",
    "                                                                              \"3_esophagitis\"],\n",
    "                                                                location = \"TestResultsAug/13B_TransferLearningFeatureExtraction_ResNet50V1_MULTISCALE_tunedAdamLrScheduler/results/confusionMatrix/13B_TransferLearningFeatureExtraction_ResNet50V1_MULTISCALE_tunedAdamLrScheduler.jpg\")\n",
    "# saveResults_csv(df_results,\"TestResultsAug/13B_TransferLearningFeatureExtraction_ResNet50V1_MULTISCALE_tunedAdamLrScheduler/results/classificationReport/13B_TransferLearningFeatureExtraction_ResNet50V1_MULTISCALE_tunedAdamLrScheduler.csv\")"
   ]
  },
  {
   "cell_type": "markdown",
   "metadata": {},
   "source": [
    "### 13B_TransferLearningFeatureExtraction_ResNet50V2_NORMAL_tunedAdam: Transfer Learning with ResNet50V2 model on NORMAL Image (Optimizer - Adam + LrScheduler)"
   ]
  },
  {
   "cell_type": "code",
   "execution_count": 10,
   "metadata": {
    "execution": {
     "iopub.execute_input": "2022-08-02T06:04:33.337257Z",
     "iopub.status.busy": "2022-08-02T06:04:33.337049Z",
     "iopub.status.idle": "2022-08-02T06:04:33.988738Z",
     "shell.execute_reply": "2022-08-02T06:04:33.987752Z",
     "shell.execute_reply.started": "2022-08-02T06:04:33.337257Z"
    }
   },
   "outputs": [
    {
     "name": "stdout",
     "output_type": "stream",
     "text": [
      "Found 16800 images belonging to 4 classes.\n",
      "Found 4800 images belonging to 4 classes.\n",
      "Found 4800 images belonging to 4 classes.\n"
     ]
    }
   ],
   "source": [
    "# Defining path of dataset\n",
    "train_path = \"/DatasetAug/train\"\n",
    "test_path = \"/DatasetNormalization/test\"\n",
    "# Create dataset using Model Helper Function (datagen_flow)\n",
    "train_data, valid_data, test_data = datagen_flow(projectPath, train_path, test_path,image_size = (224,224))"
   ]
  },
  {
   "cell_type": "markdown",
   "metadata": {},
   "source": [
    "#### Loading Checkpoint & Prediction & Results"
   ]
  },
  {
   "cell_type": "code",
   "execution_count": 11,
   "metadata": {
    "execution": {
     "iopub.execute_input": "2022-08-02T06:04:33.990094Z",
     "iopub.status.busy": "2022-08-02T06:04:33.989838Z",
     "iopub.status.idle": "2022-08-02T06:05:50.677805Z",
     "shell.execute_reply": "2022-08-02T06:05:50.676836Z",
     "shell.execute_reply.started": "2022-08-02T06:04:33.990066Z"
    }
   },
   "outputs": [
    {
     "name": "stdout",
     "output_type": "stream",
     "text": [
      "4800/4800 [==============================] - 71s 15ms/step\n",
      "Confusion Matrix:\n"
     ]
    },
    {
     "data": {
      "image/png": "[encoded data removed]",
      "text/plain": [
       "<Figure size 432x288 with 2 Axes>"
      ]
     },
     "metadata": {
      "needs_background": "light"
     },
     "output_type": "display_data"
    }
   ],
   "source": [
    "baseModel = tf.keras.applications.resnet_v2.ResNet50V2(include_top = True, weights = \"imagenet\")\n",
    "TransferLearningFeatureExtraction_ResNet50V2_NORMAL_tunedAdamLrScheduler = createApplicationsFeatureExtractionModel(baseModel, trainable = False ,num_classes = 4, IMAGE_SHAPE = (224,224,3), optimizer = tf.keras.optimizers.Adam())\n",
    "checkpointPath = \"TrainedResultsAug/11_TransferLearningFeatureExtraction_ResNet50V2_NORMAL_tunedAdamLrScheduler/checkpoint/11_TransferLearningFeatureExtraction_ResNet50V2_NORMAL_tunedAdamLrScheduler.ckpt\"\n",
    "loadModel(TransferLearningFeatureExtraction_ResNet50V2_NORMAL_tunedAdamLrScheduler,checkpointPath)\n",
    "df_results_04, confusion_matrix_04, y_true_04, predictions_04 = testResults(TransferLearningFeatureExtraction_ResNet50V2_NORMAL_tunedAdamLrScheduler, test_data, \"13B_TransferLearningFeatureExtraction_ResNet50V2_NORMAL_tunedAdamLrScheduler\" ,\n",
    "                                                                data_class = [\"0_normal\",\n",
    "                                                                              \"1_ulcerative_colitis\",\n",
    "                                                                              \"2_polyps\",\n",
    "                                                                              \"3_esophagitis\"],\n",
    "                                                                location = \"TestResultsAug/13B_TransferLearningFeatureExtraction_ResNet50V2_NORMAL_tunedAdamLrScheduler/results/confusionMatrix/13B_TransferLearningFeatureExtraction_ResNet50V2_NORMAL_tunedAdamLrScheduler.jpg\")\n",
    "# saveResults_csv(df_results,\"TestResultsAug/13B_TransferLearningFeatureExtraction_ResNet50V2_NORMAL_tunedAdamLrScheduler/results/classificationReport/13B_TransferLearningFeatureExtraction_ResNet50V2_NORMAL_tunedAdamLrScheduler.csv\")"
   ]
  },
  {
   "cell_type": "markdown",
   "metadata": {},
   "source": [
    "### 13B_TransferLearningFeatureExtraction_MobileNetV1_NORMAL: Transfer Learning with MobileNetV1 model on NORMAL Image (Optimizer - Adam + LrScheduler)"
   ]
  },
  {
   "cell_type": "markdown",
   "metadata": {},
   "source": [
    "#### Dataset Loading "
   ]
  },
  {
   "cell_type": "code",
   "execution_count": 12,
   "metadata": {
    "execution": {
     "iopub.execute_input": "2022-08-02T06:05:50.679166Z",
     "iopub.status.busy": "2022-08-02T06:05:50.678975Z",
     "iopub.status.idle": "2022-08-02T06:05:51.388322Z",
     "shell.execute_reply": "2022-08-02T06:05:51.387350Z",
     "shell.execute_reply.started": "2022-08-02T06:05:50.679144Z"
    }
   },
   "outputs": [
    {
     "name": "stdout",
     "output_type": "stream",
     "text": [
      "Found 16800 images belonging to 4 classes.\n",
      "Found 4800 images belonging to 4 classes.\n",
      "Found 4800 images belonging to 4 classes.\n"
     ]
    }
   ],
   "source": [
    "# Defining path of dataset\n",
    "train_path = \"/DatasetAug/train\"\n",
    "test_path = \"/DatasetNormalization/test\"\n",
    "# Create dataset using Model Helper Function (datagen_flow)\n",
    "train_data, valid_data, test_data = datagen_flow(projectPath, train_path, test_path,image_size = (224,224))"
   ]
  },
  {
   "cell_type": "markdown",
   "metadata": {},
   "source": [
    "#### Loading Checkpoint & Prediction & Results"
   ]
  },
  {
   "cell_type": "code",
   "execution_count": 13,
   "metadata": {
    "execution": {
     "iopub.execute_input": "2022-08-02T06:05:51.390763Z",
     "iopub.status.busy": "2022-08-02T06:05:51.389929Z",
     "iopub.status.idle": "2022-08-02T06:07:16.170058Z",
     "shell.execute_reply": "2022-08-02T06:07:16.169053Z",
     "shell.execute_reply.started": "2022-08-02T06:05:51.390720Z"
    }
   },
   "outputs": [
    {
     "name": "stdout",
     "output_type": "stream",
     "text": [
      "4800/4800 [==============================] - 51s 10ms/step\n",
      "Confusion Matrix:\n"
     ]
    },
    {
     "data": {
      "image/png": "[encoded data removed]",
      "text/plain": [
       "<Figure size 432x288 with 2 Axes>"
      ]
     },
     "metadata": {
      "needs_background": "light"
     },
     "output_type": "display_data"
    }
   ],
   "source": [
    "baseModel = tf.keras.applications.mobilenet.MobileNet(include_top = True, weights = \"imagenet\")\n",
    "TransferLearningFeatureExtraction_MobileNetV1_NORMAL_tunedAdamLrScheduler = createApplicationsFeatureExtractionModel(baseModel, trainable = False ,num_classes = 4, IMAGE_SHAPE = (224,224,3), optimizer = tf.keras.optimizers.Adam())\n",
    "checkpointPath = \"TrainedResultsAug/11_TransferLearningFeatureExtraction_MobileNetV1_NORMAL_tunedAdamLrScheduler/checkpoint/11_TransferLearningFeatureExtraction_MobileNetV1_NORMAL_tunedAdamLrScheduler.ckpt\"\n",
    "loadModel(TransferLearningFeatureExtraction_MobileNetV1_NORMAL_tunedAdamLrScheduler,checkpointPath)\n",
    "df_results_05, confusion_matrix_05, y_true_05, predictions_05 = testResults(TransferLearningFeatureExtraction_MobileNetV1_NORMAL_tunedAdamLrScheduler, test_data, \"13B_TransferLearningFeatureExtraction_MobileNetV1_NORMAL_tunedAdamLrScheduler\" ,\n",
    "                                                                data_class = [\"0_normal\",\n",
    "                                                                              \"1_ulcerative_colitis\",\n",
    "                                                                              \"2_polyps\",\n",
    "                                                                              \"3_esophagitis\"],\n",
    "                                                                location = \"TestResultsAug/13B_TransferLearningFeatureExtraction_MobileNetV1_NORMAL_tunedAdamLrScheduler/results/confusionMatrix/13B_TransferLearningFeatureExtraction_MobileNetV1_NORMAL_tunedAdamLrScheduler.jpg\")\n",
    "# saveResults_csv(df_results,\"TestResultsAug/13B_TransferLearningFeatureExtraction_MobileNetV1_NORMAL_tunedAdamLrScheduler/results/classificationReport/13B_TransferLearningFeatureExtraction_MobileNetV1_NORMAL_tunedAdamLrScheduler.csv\")"
   ]
  },
  {
   "cell_type": "markdown",
   "metadata": {},
   "source": [
    "### 13B_TransferLearningFeatureExtraction_MobileNetV2_CLAHE: Transfer Learning with MobileNetV2 model on CLAHE Image (Optimizer - Adam + LrScheduler)"
   ]
  },
  {
   "cell_type": "markdown",
   "metadata": {},
   "source": [
    "#### Dataset Loading "
   ]
  },
  {
   "cell_type": "code",
   "execution_count": 14,
   "metadata": {
    "execution": {
     "iopub.execute_input": "2022-08-02T06:07:16.171999Z",
     "iopub.status.busy": "2022-08-02T06:07:16.171694Z",
     "iopub.status.idle": "2022-08-02T06:07:16.838407Z",
     "shell.execute_reply": "2022-08-02T06:07:16.837359Z",
     "shell.execute_reply.started": "2022-08-02T06:07:16.171961Z"
    }
   },
   "outputs": [
    {
     "name": "stdout",
     "output_type": "stream",
     "text": [
      "Found 16800 images belonging to 4 classes.\n",
      "Found 4800 images belonging to 4 classes.\n",
      "Found 4800 images belonging to 4 classes.\n"
     ]
    }
   ],
   "source": [
    "# Defining path of dataset\n",
    "train_path = \"/DatasetAug/train\"\n",
    "test_path = \"/DatasetNormalization/test\"\n",
    "# Create dataset using Model Helper Function (datagen_flow)\n",
    "train_data, valid_data, test_data = datagen_flow(projectPath, train_path, test_path,image_size = (224,224))"
   ]
  },
  {
   "cell_type": "markdown",
   "metadata": {},
   "source": [
    "#### Loading Checkpoint & Prediction & Results"
   ]
  },
  {
   "cell_type": "code",
   "execution_count": 15,
   "metadata": {
    "execution": {
     "iopub.execute_input": "2022-08-02T06:07:16.840324Z",
     "iopub.status.busy": "2022-08-02T06:07:16.840012Z",
     "iopub.status.idle": "2022-08-02T06:08:28.006894Z",
     "shell.execute_reply": "2022-08-02T06:08:28.005672Z",
     "shell.execute_reply.started": "2022-08-02T06:07:16.840285Z"
    }
   },
   "outputs": [
    {
     "name": "stdout",
     "output_type": "stream",
     "text": [
      "4800/4800 [==============================] - 67s 14ms/step\n",
      "Confusion Matrix:\n"
     ]
    },
    {
     "data": {
      "image/png": "[encoded data removed]",
      "text/plain": [
       "<Figure size 432x288 with 2 Axes>"
      ]
     },
     "metadata": {
      "needs_background": "light"
     },
     "output_type": "display_data"
    }
   ],
   "source": [
    "# Load best model from checkpoint folder\n",
    "baseModel = tf.keras.applications.mobilenet_v2.MobileNetV2(include_top = True, weights = \"imagenet\")\n",
    "TransferLearningFeatureExtraction_MobileNetV2_CLAHE_tunedAdamLrScheduler = createApplicationsFeatureExtractionModel(baseModel, trainable = False ,num_classes = 4, IMAGE_SHAPE = (224,224,3), optimizer = tf.keras.optimizers.Adam())\n",
    "checkpointPath = \"TrainedResultsAug/11_TransferLearningFeatureExtraction_MobileNetV2_CLAHE_tunedAdamLrScheduler/checkpoint/11_TransferLearningFeatureExtraction_MobileNetV2_CLAHE_tunedAdamLrScheduler.ckpt\"\n",
    "\n",
    "loadModel(TransferLearningFeatureExtraction_MobileNetV2_CLAHE_tunedAdamLrScheduler,checkpointPath)\n",
    "df_results_06, confusion_matrix_06, y_true_06, predictions_06 = testResults(TransferLearningFeatureExtraction_MobileNetV2_CLAHE_tunedAdamLrScheduler, test_data, \"13B_TransferLearningFeatureExtraction_MobileNetV2_CLAHE_tunedAdamLrScheduler\" ,\n",
    "                                                                data_class = [\"0_normal\",\n",
    "                                                                              \"1_ulcerative_colitis\",\n",
    "                                                                              \"2_polyps\",\n",
    "                                                                              \"3_esophagitis\"],\n",
    "                                                                location = \"TestResultsAug/13B_TransferLearningFeatureExtraction_MobileNetV2_CLAHE_tunedAdamLrScheduler/results/confusionMatrix/13B_TransferLearningFeatureExtraction_MobileNetV2_CLAHE_tunedAdamLrScheduler.jpg\")\n",
    "# saveResults_csv(df_results,\"TestResultsAug/13B_TransferLearningFeatureExtraction_MobileNetV2_CLAHE_tunedAdamLrScheduler/results/classificationReport/13B_TransferLearningFeatureExtraction_MobileNetV2_CLAHE_tunedAdamLrScheduler.csv\")\n"
   ]
  },
  {
   "cell_type": "markdown",
   "metadata": {},
   "source": [
    "### 13B_TransferLearningFineTuning_ResNet50V1_CLAHE: Transfer Learning with ResNet50V1 model on CLAHE Image (Optimizer - Adam + LrScheduler)"
   ]
  },
  {
   "cell_type": "markdown",
   "metadata": {},
   "source": [
    "#### Dataset Loading "
   ]
  },
  {
   "cell_type": "code",
   "execution_count": 16,
   "metadata": {
    "execution": {
     "iopub.execute_input": "2022-08-02T06:08:28.009297Z",
     "iopub.status.busy": "2022-08-02T06:08:28.008408Z",
     "iopub.status.idle": "2022-08-02T06:08:28.832162Z",
     "shell.execute_reply": "2022-08-02T06:08:28.831134Z",
     "shell.execute_reply.started": "2022-08-02T06:08:28.009246Z"
    }
   },
   "outputs": [
    {
     "name": "stdout",
     "output_type": "stream",
     "text": [
      "Found 16800 images belonging to 4 classes.\n",
      "Found 4800 images belonging to 4 classes.\n",
      "Found 4800 images belonging to 4 classes.\n"
     ]
    }
   ],
   "source": [
    "# Defining path of dataset\n",
    "train_path = \"/DatasetAug/train\"\n",
    "test_path = \"/DatasetNormalization/test\"\n",
    "# Create dataset using Model Helper Function (datagen_flow)\n",
    "train_data, valid_data, test_data = datagen_flow(projectPath, train_path, test_path,image_size = (224,224))"
   ]
  },
  {
   "cell_type": "markdown",
   "metadata": {},
   "source": [
    "#### Loading Checkpoint & Prediction & Results"
   ]
  },
  {
   "cell_type": "code",
   "execution_count": 17,
   "metadata": {
    "execution": {
     "iopub.execute_input": "2022-08-02T06:08:28.834690Z",
     "iopub.status.busy": "2022-08-02T06:08:28.834235Z",
     "iopub.status.idle": "2022-08-02T06:09:47.492806Z",
     "shell.execute_reply": "2022-08-02T06:09:47.491987Z",
     "shell.execute_reply.started": "2022-08-02T06:08:28.834665Z"
    }
   },
   "outputs": [
    {
     "name": "stdout",
     "output_type": "stream",
     "text": [
      "4800/4800 [==============================] - 74s 15ms/step\n",
      "Confusion Matrix:\n"
     ]
    },
    {
     "data": {
      "image/png": "[encoded data removed]",
      "text/plain": [
       "<Figure size 432x288 with 2 Axes>"
      ]
     },
     "metadata": {
      "needs_background": "light"
     },
     "output_type": "display_data"
    }
   ],
   "source": [
    "# Load best model from checkpoint folder\n",
    "baseModel = tf.keras.applications.resnet50.ResNet50(include_top = True, weights = \"imagenet\")\n",
    "TransferLearningFineTuning_ResNet50V1_CLAHE_tunedAdamLrScheduler = createApplicationsFineTuningModel(baseModel, trainable = True, numLayersUnfreeze = 34 ,num_classes = 4, IMAGE_SHAPE = (224,224,3), optimizer = tf.keras.optimizers.Adam())\n",
    "checkpointPath = \"TrainedResultsAug/11_TransferLearningFineTuning_ResNet50V1_CLAHE_tunedAdamLrScheduler/checkpoint/11_TransferLearningFineTuning_ResNet50V1_CLAHE_tunedAdamLrScheduler.ckpt\"\n",
    "loadModel(TransferLearningFineTuning_ResNet50V1_CLAHE_tunedAdamLrScheduler,checkpointPath)\n",
    "df_results_07, confusion_matrix_07, y_true_07, predictions_07 = testResults(TransferLearningFineTuning_ResNet50V1_CLAHE_tunedAdamLrScheduler, test_data, \"13B_TransferLearningFineTuning_ResNet50V1_CLAHE_tunedAdamLrScheduler\" ,\n",
    "                                                                data_class = [\"0_normal\",\n",
    "                                                                              \"1_ulcerative_colitis\",\n",
    "                                                                              \"2_polyps\",\n",
    "                                                                              \"3_esophagitis\"],\n",
    "                                                                location = \"TestResultsAug/13B_TransferLearningFineTuning_ResNet50V1_CLAHE_tunedAdamLrScheduler/results/confusionMatrix/13B_TransferLearningFineTuning_ResNet50V1_CLAHE_tunedAdamLrScheduler.jpg\")\n",
    "# saveResults_csv(df_results,\"TestResultsAug/13B_TransferLearningFineTuning_ResNet50V1_CLAHE_tunedAdamLrScheduler/results/classificationReport/13B_TransferLearningFineTuning_ResNet50V1_CLAHE_tunedAdamLrScheduler.csv\")"
   ]
  },
  {
   "cell_type": "markdown",
   "metadata": {},
   "source": [
    "### 13B_TransferLearningFineTuning_ResNet50V2_RAYLEIGH: Transfer Learning with ResNet50V2 model on RAYLEIGH Image"
   ]
  },
  {
   "cell_type": "markdown",
   "metadata": {},
   "source": [
    "#### Dataset Loading "
   ]
  },
  {
   "cell_type": "code",
   "execution_count": 18,
   "metadata": {
    "execution": {
     "iopub.execute_input": "2022-08-02T06:09:47.494754Z",
     "iopub.status.busy": "2022-08-02T06:09:47.494223Z",
     "iopub.status.idle": "2022-08-02T06:09:48.108324Z",
     "shell.execute_reply": "2022-08-02T06:09:48.107676Z",
     "shell.execute_reply.started": "2022-08-02T06:09:47.494715Z"
    }
   },
   "outputs": [
    {
     "name": "stdout",
     "output_type": "stream",
     "text": [
      "Found 16800 images belonging to 4 classes.\n",
      "Found 4800 images belonging to 4 classes.\n",
      "Found 4800 images belonging to 4 classes.\n"
     ]
    }
   ],
   "source": [
    "# Defining path of dataset\n",
    "train_path = \"/DatasetAug/train\"\n",
    "test_path = \"/DatasetNormalization/test\"\n",
    "# Create dataset using Model Helper Function (datagen_flow)\n",
    "train_data, valid_data, test_data = datagen_flow(projectPath, train_path, test_path,image_size = (224,224))"
   ]
  },
  {
   "cell_type": "markdown",
   "metadata": {},
   "source": [
    "#### Loading Checkpoint & Prediction & Results"
   ]
  },
  {
   "cell_type": "code",
   "execution_count": 19,
   "metadata": {
    "execution": {
     "iopub.execute_input": "2022-08-02T06:09:48.109793Z",
     "iopub.status.busy": "2022-08-02T06:09:48.109492Z",
     "iopub.status.idle": "2022-08-02T06:11:03.555014Z",
     "shell.execute_reply": "2022-08-02T06:11:03.553510Z",
     "shell.execute_reply.started": "2022-08-02T06:09:48.109767Z"
    }
   },
   "outputs": [
    {
     "name": "stdout",
     "output_type": "stream",
     "text": [
      "4800/4800 [==============================] - 71s 14ms/step\n",
      "Confusion Matrix:\n"
     ]
    },
    {
     "data": {
      "image/png": "[encoded data removed]",
      "text/plain": [
       "<Figure size 432x288 with 2 Axes>"
      ]
     },
     "metadata": {
      "needs_background": "light"
     },
     "output_type": "display_data"
    }
   ],
   "source": [
    "# Load best model from checkpoint folder\n",
    "baseModel = tf.keras.applications.resnet_v2.ResNet50V2(include_top = True, weights = \"imagenet\")\n",
    "TransferLearningFineTuning_ResNet50V2_RAYLEIGH = createApplicationsFineTuningModel(baseModel, trainable = False ,num_classes = 4, IMAGE_SHAPE = (224,224,3), optimizer = tf.keras.optimizers.SGD())\n",
    "checkpointPath = \"TrainedResultsAug/11_TransferLearningFineTuning_ResNet50V2_RAYLEIGH/checkpoint/11_TransferLearningFineTuning_ResNet50V2_RAYLEIGH.ckpt\"\n",
    "loadModel(TransferLearningFineTuning_ResNet50V2_RAYLEIGH,checkpointPath)\n",
    "df_results_08, confusion_matrix_08, y_true_08, predictions_08 = testResults(TransferLearningFineTuning_ResNet50V2_RAYLEIGH, test_data, \"13B_TransferLearningFineTuning_ResNet50V2_RAYLEIGH\" ,\n",
    "                                                                data_class = [\"0_normal\",\n",
    "                                                                              \"1_ulcerative_colitis\",\n",
    "                                                                              \"2_polyps\",\n",
    "                                                                              \"3_esophagitis\"],\n",
    "                                                                location = \"TestResultsAug/13B_TransferLearningFineTuning_ResNet50V2_RAYLEIGH/results/confusionMatrix/13B_TransferLearningFineTuning_ResNet50V2_RAYLEIGH.jpg\")\n",
    "# saveResults_csv(df_results,\"TestResultsAug/13B_TransferLearningFineTuning_ResNet50V2_RAYLEIGH/results/classificationReport/13B_TransferLearningFineTuning_ResNet50V2_RAYLEIGH.csv\")"
   ]
  },
  {
   "cell_type": "markdown",
   "metadata": {},
   "source": [
    "### 13B_TransferLearningFineTuning_MobileNetV1_NORMAL: Transfer Learning with MobileNetV1 model on NORMAL Image"
   ]
  },
  {
   "cell_type": "markdown",
   "metadata": {},
   "source": [
    "#### Dataset Loading "
   ]
  },
  {
   "cell_type": "code",
   "execution_count": 20,
   "metadata": {
    "execution": {
     "iopub.execute_input": "2022-08-02T06:11:03.556766Z",
     "iopub.status.busy": "2022-08-02T06:11:03.556467Z",
     "iopub.status.idle": "2022-08-02T06:11:04.256388Z",
     "shell.execute_reply": "2022-08-02T06:11:04.255360Z",
     "shell.execute_reply.started": "2022-08-02T06:11:03.556722Z"
    }
   },
   "outputs": [
    {
     "name": "stdout",
     "output_type": "stream",
     "text": [
      "Found 16800 images belonging to 4 classes.\n",
      "Found 4800 images belonging to 4 classes.\n",
      "Found 4800 images belonging to 4 classes.\n"
     ]
    }
   ],
   "source": [
    "# Defining path of dataset\n",
    "train_path = \"/DatasetAug/train\"\n",
    "test_path = \"/DatasetNormalization/test\"\n",
    "# Create dataset using Model Helper Function (datagen_flow)\n",
    "train_data, valid_data, test_data = datagen_flow(projectPath, train_path, test_path,image_size = (224,224))"
   ]
  },
  {
   "cell_type": "markdown",
   "metadata": {},
   "source": [
    "#### Loading Checkpoint & Prediction & Results"
   ]
  },
  {
   "cell_type": "code",
   "execution_count": 21,
   "metadata": {
    "execution": {
     "iopub.execute_input": "2022-08-02T06:11:04.258252Z",
     "iopub.status.busy": "2022-08-02T06:11:04.257971Z",
     "iopub.status.idle": "2022-08-02T06:12:29.289591Z",
     "shell.execute_reply": "2022-08-02T06:12:29.288926Z",
     "shell.execute_reply.started": "2022-08-02T06:11:04.258217Z"
    }
   },
   "outputs": [
    {
     "name": "stdout",
     "output_type": "stream",
     "text": [
      "4800/4800 [==============================] - 51s 11ms/step\n",
      "Confusion Matrix:\n"
     ]
    },
    {
     "data": {
      "image/png": "[encoded data removed]",
      "text/plain": [
       "<Figure size 432x288 with 2 Axes>"
      ]
     },
     "metadata": {
      "needs_background": "light"
     },
     "output_type": "display_data"
    }
   ],
   "source": [
    "# Load best model from checkpoint folder\n",
    "baseModel = tf.keras.applications.mobilenet.MobileNet(include_top = True, weights = \"imagenet\")\n",
    "TransferLearningFineTuning_MobileNetV1_NORMAL = createApplicationsFineTuningModel(baseModel, trainable = False ,num_classes = 4, IMAGE_SHAPE = (224,224,3), optimizer = tf.keras.optimizers.SGD())\n",
    "checkpointPath = \"TrainedResultsAug/11_TransferLearningFineTuning_MobileNetV1_NORMAL/checkpoint/11_TransferLearningFineTuning_MobileNetV1_NORMAL.ckpt\"\n",
    "loadModel(TransferLearningFineTuning_MobileNetV1_NORMAL,checkpointPath)\n",
    "df_results_09, confusion_matrix_09, y_true_09, predictions_09 = testResults(TransferLearningFineTuning_MobileNetV1_NORMAL, test_data, \"13B_TransferLearningFineTuning_MobileNetV1_NORMAL\" ,\n",
    "                                                                data_class = [\"0_normal\",\n",
    "                                                                              \"1_ulcerative_colitis\",\n",
    "                                                                              \"2_polyps\",\n",
    "                                                                              \"3_esophagitis\"],\n",
    "                                                                location = \"TestResultsAug/13B_TransferLearningFineTuning_MobileNetV1_NORMAL/results/confusionMatrix/13B_TransferLearningFineTuning_MobileNetV1_NORMAL.jpg\")\n",
    "# saveResults_csv(df_results,\"TestResultsAug/13B_TransferLearningFineTuning_MobileNetV1_NORMAL/results/classificationReport/13B_TransferLearningFineTuning_MobileNetV1_NORMAL.csv\")"
   ]
  },
  {
   "cell_type": "markdown",
   "metadata": {},
   "source": [
    "### 13B_TransferLearningFineTuning_MobileNetV2_NORMAL: Transfer Learning with MobileNetV2 model on NORMAL Image"
   ]
  },
  {
   "cell_type": "markdown",
   "metadata": {},
   "source": [
    "#### Loading Checkpoint & Prediction & Results"
   ]
  },
  {
   "cell_type": "code",
   "execution_count": 22,
   "metadata": {
    "execution": {
     "iopub.execute_input": "2022-08-02T06:12:29.292450Z",
     "iopub.status.busy": "2022-08-02T06:12:29.292258Z",
     "iopub.status.idle": "2022-08-02T06:13:40.886746Z",
     "shell.execute_reply": "2022-08-02T06:13:40.885340Z",
     "shell.execute_reply.started": "2022-08-02T06:12:29.292425Z"
    }
   },
   "outputs": [
    {
     "name": "stdout",
     "output_type": "stream",
     "text": [
      "4800/4800 [==============================] - 67s 14ms/step\n",
      "Confusion Matrix:\n"
     ]
    },
    {
     "data": {
      "image/png": "[encoded data removed]",
      "text/plain": [
       "<Figure size 432x288 with 2 Axes>"
      ]
     },
     "metadata": {
      "needs_background": "light"
     },
     "output_type": "display_data"
    }
   ],
   "source": [
    "# Load best model from checkpoint folder\n",
    "baseModel = tf.keras.applications.mobilenet_v2.MobileNetV2(include_top = True, weights = \"imagenet\")\n",
    "TransferLearningFineTuning_MobileNetV2_NORMAL = createApplicationsFineTuningModel(baseModel, trainable = False ,num_classes = 4, IMAGE_SHAPE = (224,224,3), optimizer = tf.keras.optimizers.SGD())\n",
    "checkpointPath = \"TrainedResultsAug/11_TransferLearningFineTuning_MobileNetV2_NORMAL/checkpoint/11_TransferLearningFineTuning_MobileNetV2_NORMAL.ckpt\"\n",
    "loadModel(TransferLearningFineTuning_MobileNetV2_NORMAL,checkpointPath)\n",
    "df_results_10, confusion_matrix_10, y_true_10, predictions_10 = testResults(TransferLearningFineTuning_MobileNetV2_NORMAL, test_data, \"13B_TransferLearningFineTuning_MobileNetV2_NORMAL\" ,\n",
    "                                                                data_class = [\"0_normal\",\n",
    "                                                                              \"1_ulcerative_colitis\",\n",
    "                                                                              \"2_polyps\",\n",
    "                                                                              \"3_esophagitis\"],\n",
    "                                                                location = \"TestResultsAug/13B_TransferLearningFineTuning_MobileNetV2_NORMAL/results/confusionMatrix/13B_TransferLearningFineTuning_MobileNetV2_NORMAL.jpg\")\n",
    "# saveResults_csv(df_results,\"TestResultsAug/13B_TransferLearningFineTuning_MobileNetV2_NORMAL/results/classificationReport/13B_TransferLearningFineTuning_MobileNetV2_NORMAL.csv\")"
   ]
  },
  {
   "cell_type": "code",
   "execution_count": 23,
   "metadata": {
    "execution": {
     "iopub.execute_input": "2022-08-02T06:13:40.889558Z",
     "iopub.status.busy": "2022-08-02T06:13:40.889194Z",
     "iopub.status.idle": "2022-08-02T06:13:40.928334Z",
     "shell.execute_reply": "2022-08-02T06:13:40.926798Z",
     "shell.execute_reply.started": "2022-08-02T06:13:40.889516Z"
    }
   },
   "outputs": [
    {
     "data": {
      "text/plain": [
       "['0_normal',\n",
       " '0_normal',\n",
       " '0_normal',\n",
       " '0_normal',\n",
       " '0_normal',\n",
       " '0_normal',\n",
       " '0_normal',\n",
       " '0_normal',\n",
       " '0_normal',\n",
       " '0_normal',\n",
       " '0_normal',\n",
       " '0_normal',\n",
       " '0_normal',\n",
       " '0_normal',\n",
       " '0_normal',\n",
       " '0_normal',\n",
       " '0_normal',\n",
       " '0_normal',\n",
       " '0_normal',\n",
       " '0_normal',\n",
       " '0_normal',\n",
       " '0_normal',\n",
       " '0_normal',\n",
       " '0_normal',\n",
       " '0_normal',\n",
       " '0_normal',\n",
       " '0_normal',\n",
       " '0_normal',\n",
       " '0_normal',\n",
       " '0_normal',\n",
       " '0_normal',\n",
       " '0_normal',\n",
       " '0_normal',\n",
       " '0_normal',\n",
       " '0_normal',\n",
       " '0_normal',\n",
       " '0_normal',\n",
       " '0_normal',\n",
       " '0_normal',\n",
       " '0_normal',\n",
       " '0_normal',\n",
       " '0_normal',\n",
       " '0_normal',\n",
       " '0_normal',\n",
       " '0_normal',\n",
       " '0_normal',\n",
       " '0_normal',\n",
       " '0_normal',\n",
       " '0_normal',\n",
       " '0_normal',\n",
       " '0_normal',\n",
       " '0_normal',\n",
       " '0_normal',\n",
       " '0_normal',\n",
       " '0_normal',\n",
       " '0_normal',\n",
       " '0_normal',\n",
       " '0_normal',\n",
       " '0_normal',\n",
       " '0_normal',\n",
       " '0_normal',\n",
       " '0_normal',\n",
       " '0_normal',\n",
       " '0_normal',\n",
       " '0_normal',\n",
       " '0_normal',\n",
       " '0_normal',\n",
       " '0_normal',\n",
       " '0_normal',\n",
       " '0_normal',\n",
       " '0_normal',\n",
       " '0_normal',\n",
       " '0_normal',\n",
       " '0_normal',\n",
       " '0_normal',\n",
       " '0_normal',\n",
       " '0_normal',\n",
       " '0_normal',\n",
       " '0_normal',\n",
       " '0_normal',\n",
       " '0_normal',\n",
       " '0_normal',\n",
       " '0_normal',\n",
       " '0_normal',\n",
       " '0_normal',\n",
       " '0_normal',\n",
       " '0_normal',\n",
       " '0_normal',\n",
       " '0_normal',\n",
       " '0_normal',\n",
       " '0_normal',\n",
       " '0_normal',\n",
       " '0_normal',\n",
       " '0_normal',\n",
       " '0_normal',\n",
       " '0_normal',\n",
       " '0_normal',\n",
       " '0_normal',\n",
       " '0_normal',\n",
       " '0_normal',\n",
       " '0_normal',\n",
       " '0_normal',\n",
       " '0_normal',\n",
       " '0_normal',\n",
       " '0_normal',\n",
       " '0_normal',\n",
       " '0_normal',\n",
       " '0_normal',\n",
       " '0_normal',\n",
       " '0_normal',\n",
       " '0_normal',\n",
       " '0_normal',\n",
       " '0_normal',\n",
       " '0_normal',\n",
       " '0_normal',\n",
       " '0_normal',\n",
       " '0_normal',\n",
       " '0_normal',\n",
       " '0_normal',\n",
       " '0_normal',\n",
       " '0_normal',\n",
       " '0_normal',\n",
       " '0_normal',\n",
       " '0_normal',\n",
       " '0_normal',\n",
       " '0_normal',\n",
       " '0_normal',\n",
       " '0_normal',\n",
       " '0_normal',\n",
       " '0_normal',\n",
       " '0_normal',\n",
       " '0_normal',\n",
       " '0_normal',\n",
       " '0_normal',\n",
       " '0_normal',\n",
       " '0_normal',\n",
       " '0_normal',\n",
       " '0_normal',\n",
       " '0_normal',\n",
       " '0_normal',\n",
       " '0_normal',\n",
       " '0_normal',\n",
       " '0_normal',\n",
       " '0_normal',\n",
       " '0_normal',\n",
       " '0_normal',\n",
       " '0_normal',\n",
       " '0_normal',\n",
       " '0_normal',\n",
       " '0_normal',\n",
       " '0_normal',\n",
       " '0_normal',\n",
       " '0_normal',\n",
       " '0_normal',\n",
       " '0_normal',\n",
       " '0_normal',\n",
       " '0_normal',\n",
       " '0_normal',\n",
       " '0_normal',\n",
       " '0_normal',\n",
       " '0_normal',\n",
       " '0_normal',\n",
       " '0_normal',\n",
       " '0_normal',\n",
       " '0_normal',\n",
       " '0_normal',\n",
       " '0_normal',\n",
       " '0_normal',\n",
       " '0_normal',\n",
       " '0_normal',\n",
       " '0_normal',\n",
       " '0_normal',\n",
       " '0_normal',\n",
       " '0_normal',\n",
       " '0_normal',\n",
       " '0_normal',\n",
       " '0_normal',\n",
       " '0_normal',\n",
       " '0_normal',\n",
       " '0_normal',\n",
       " '0_normal',\n",
       " '0_normal',\n",
       " '0_normal',\n",
       " '0_normal',\n",
       " '0_normal',\n",
       " '0_normal',\n",
       " '0_normal',\n",
       " '0_normal',\n",
       " '0_normal',\n",
       " '0_normal',\n",
       " '0_normal',\n",
       " '0_normal',\n",
       " '0_normal',\n",
       " '0_normal',\n",
       " '0_normal',\n",
       " '0_normal',\n",
       " '0_normal',\n",
       " '0_normal',\n",
       " '0_normal',\n",
       " '0_normal',\n",
       " '0_normal',\n",
       " '0_normal',\n",
       " '0_normal',\n",
       " '0_normal',\n",
       " '0_normal',\n",
       " '0_normal',\n",
       " '0_normal',\n",
       " '0_normal',\n",
       " '0_normal',\n",
       " '0_normal',\n",
       " '0_normal',\n",
       " '0_normal',\n",
       " '0_normal',\n",
       " '0_normal',\n",
       " '0_normal',\n",
       " '0_normal',\n",
       " '0_normal',\n",
       " '0_normal',\n",
       " '0_normal',\n",
       " '0_normal',\n",
       " '0_normal',\n",
       " '0_normal',\n",
       " '0_normal',\n",
       " '0_normal',\n",
       " '0_normal',\n",
       " '0_normal',\n",
       " '0_normal',\n",
       " '0_normal',\n",
       " '0_normal',\n",
       " '0_normal',\n",
       " '0_normal',\n",
       " '0_normal',\n",
       " '0_normal',\n",
       " '0_normal',\n",
       " '0_normal',\n",
       " '0_normal',\n",
       " '0_normal',\n",
       " '0_normal',\n",
       " '0_normal',\n",
       " '0_normal',\n",
       " '0_normal',\n",
       " '0_normal',\n",
       " '0_normal',\n",
       " '0_normal',\n",
       " '0_normal',\n",
       " '0_normal',\n",
       " '0_normal',\n",
       " '0_normal',\n",
       " '0_normal',\n",
       " '0_normal',\n",
       " '0_normal',\n",
       " '0_normal',\n",
       " '0_normal',\n",
       " '0_normal',\n",
       " '0_normal',\n",
       " '0_normal',\n",
       " '0_normal',\n",
       " '0_normal',\n",
       " '0_normal',\n",
       " '0_normal',\n",
       " '0_normal',\n",
       " '0_normal',\n",
       " '0_normal',\n",
       " '0_normal',\n",
       " '0_normal',\n",
       " '0_normal',\n",
       " '0_normal',\n",
       " '0_normal',\n",
       " '0_normal',\n",
       " '0_normal',\n",
       " '0_normal',\n",
       " '0_normal',\n",
       " '0_normal',\n",
       " '0_normal',\n",
       " '0_normal',\n",
       " '0_normal',\n",
       " '0_normal',\n",
       " '0_normal',\n",
       " '0_normal',\n",
       " '0_normal',\n",
       " '0_normal',\n",
       " '0_normal',\n",
       " '0_normal',\n",
       " '0_normal',\n",
       " '0_normal',\n",
       " '0_normal',\n",
       " '0_normal',\n",
       " '0_normal',\n",
       " '0_normal',\n",
       " '0_normal',\n",
       " '0_normal',\n",
       " '0_normal',\n",
       " '0_normal',\n",
       " '0_normal',\n",
       " '0_normal',\n",
       " '0_normal',\n",
       " '0_normal',\n",
       " '0_normal',\n",
       " '0_normal',\n",
       " '0_normal',\n",
       " '0_normal',\n",
       " '0_normal',\n",
       " '0_normal',\n",
       " '0_normal',\n",
       " '0_normal',\n",
       " '0_normal',\n",
       " '0_normal',\n",
       " '0_normal',\n",
       " '0_normal',\n",
       " '0_normal',\n",
       " '0_normal',\n",
       " '0_normal',\n",
       " '0_normal',\n",
       " '0_normal',\n",
       " '0_normal',\n",
       " '0_normal',\n",
       " '0_normal',\n",
       " '0_normal',\n",
       " '0_normal',\n",
       " '0_normal',\n",
       " '0_normal',\n",
       " '0_normal',\n",
       " '0_normal',\n",
       " '0_normal',\n",
       " '0_normal',\n",
       " '0_normal',\n",
       " '0_normal',\n",
       " '0_normal',\n",
       " '0_normal',\n",
       " '0_normal',\n",
       " '0_normal',\n",
       " '0_normal',\n",
       " '0_normal',\n",
       " '0_normal',\n",
       " '0_normal',\n",
       " '0_normal',\n",
       " '0_normal',\n",
       " '0_normal',\n",
       " '0_normal',\n",
       " '0_normal',\n",
       " '0_normal',\n",
       " '0_normal',\n",
       " '0_normal',\n",
       " '0_normal',\n",
       " '0_normal',\n",
       " '0_normal',\n",
       " '0_normal',\n",
       " '0_normal',\n",
       " '0_normal',\n",
       " '0_normal',\n",
       " '0_normal',\n",
       " '0_normal',\n",
       " '0_normal',\n",
       " '0_normal',\n",
       " '0_normal',\n",
       " '0_normal',\n",
       " '0_normal',\n",
       " '0_normal',\n",
       " '0_normal',\n",
       " '0_normal',\n",
       " '0_normal',\n",
       " '0_normal',\n",
       " '0_normal',\n",
       " '0_normal',\n",
       " '0_normal',\n",
       " '0_normal',\n",
       " '0_normal',\n",
       " '0_normal',\n",
       " '0_normal',\n",
       " '0_normal',\n",
       " '0_normal',\n",
       " '0_normal',\n",
       " '0_normal',\n",
       " '0_normal',\n",
       " '0_normal',\n",
       " '0_normal',\n",
       " '0_normal',\n",
       " '0_normal',\n",
       " '0_normal',\n",
       " '0_normal',\n",
       " '0_normal',\n",
       " '0_normal',\n",
       " '0_normal',\n",
       " '0_normal',\n",
       " '0_normal',\n",
       " '0_normal',\n",
       " '0_normal',\n",
       " '0_normal',\n",
       " '0_normal',\n",
       " '0_normal',\n",
       " '0_normal',\n",
       " '0_normal',\n",
       " '0_normal',\n",
       " '0_normal',\n",
       " '0_normal',\n",
       " '0_normal',\n",
       " '0_normal',\n",
       " '0_normal',\n",
       " '0_normal',\n",
       " '0_normal',\n",
       " '0_normal',\n",
       " '0_normal',\n",
       " '0_normal',\n",
       " '0_normal',\n",
       " '0_normal',\n",
       " '0_normal',\n",
       " '0_normal',\n",
       " '0_normal',\n",
       " '0_normal',\n",
       " '0_normal',\n",
       " '0_normal',\n",
       " '0_normal',\n",
       " '0_normal',\n",
       " '0_normal',\n",
       " '0_normal',\n",
       " '0_normal',\n",
       " '0_normal',\n",
       " '0_normal',\n",
       " '0_normal',\n",
       " '0_normal',\n",
       " '0_normal',\n",
       " '0_normal',\n",
       " '0_normal',\n",
       " '0_normal',\n",
       " '0_normal',\n",
       " '0_normal',\n",
       " '0_normal',\n",
       " '0_normal',\n",
       " '0_normal',\n",
       " '0_normal',\n",
       " '0_normal',\n",
       " '0_normal',\n",
       " '0_normal',\n",
       " '0_normal',\n",
       " '0_normal',\n",
       " '0_normal',\n",
       " '0_normal',\n",
       " '0_normal',\n",
       " '0_normal',\n",
       " '0_normal',\n",
       " '0_normal',\n",
       " '0_normal',\n",
       " '0_normal',\n",
       " '0_normal',\n",
       " '0_normal',\n",
       " '0_normal',\n",
       " '0_normal',\n",
       " '0_normal',\n",
       " '0_normal',\n",
       " '0_normal',\n",
       " '0_normal',\n",
       " '0_normal',\n",
       " '0_normal',\n",
       " '0_normal',\n",
       " '0_normal',\n",
       " '0_normal',\n",
       " '0_normal',\n",
       " '0_normal',\n",
       " '0_normal',\n",
       " '0_normal',\n",
       " '0_normal',\n",
       " '0_normal',\n",
       " '0_normal',\n",
       " '0_normal',\n",
       " '0_normal',\n",
       " '0_normal',\n",
       " '0_normal',\n",
       " '0_normal',\n",
       " '0_normal',\n",
       " '0_normal',\n",
       " '0_normal',\n",
       " '0_normal',\n",
       " '0_normal',\n",
       " '0_normal',\n",
       " '0_normal',\n",
       " '0_normal',\n",
       " '0_normal',\n",
       " '0_normal',\n",
       " '0_normal',\n",
       " '0_normal',\n",
       " '0_normal',\n",
       " '0_normal',\n",
       " '0_normal',\n",
       " '0_normal',\n",
       " '0_normal',\n",
       " '0_normal',\n",
       " '0_normal',\n",
       " '0_normal',\n",
       " '0_normal',\n",
       " '0_normal',\n",
       " '0_normal',\n",
       " '0_normal',\n",
       " '0_normal',\n",
       " '0_normal',\n",
       " '0_normal',\n",
       " '0_normal',\n",
       " '0_normal',\n",
       " '0_normal',\n",
       " '0_normal',\n",
       " '0_normal',\n",
       " '0_normal',\n",
       " '0_normal',\n",
       " '0_normal',\n",
       " '0_normal',\n",
       " '0_normal',\n",
       " '0_normal',\n",
       " '0_normal',\n",
       " '0_normal',\n",
       " '0_normal',\n",
       " '0_normal',\n",
       " '0_normal',\n",
       " '0_normal',\n",
       " '0_normal',\n",
       " '0_normal',\n",
       " '0_normal',\n",
       " '0_normal',\n",
       " '0_normal',\n",
       " '0_normal',\n",
       " '0_normal',\n",
       " '0_normal',\n",
       " '0_normal',\n",
       " '0_normal',\n",
       " '0_normal',\n",
       " '0_normal',\n",
       " '0_normal',\n",
       " '0_normal',\n",
       " '0_normal',\n",
       " '0_normal',\n",
       " '0_normal',\n",
       " '0_normal',\n",
       " '0_normal',\n",
       " '0_normal',\n",
       " '0_normal',\n",
       " '0_normal',\n",
       " '0_normal',\n",
       " '0_normal',\n",
       " '0_normal',\n",
       " '0_normal',\n",
       " '0_normal',\n",
       " '0_normal',\n",
       " '0_normal',\n",
       " '0_normal',\n",
       " '0_normal',\n",
       " '0_normal',\n",
       " '0_normal',\n",
       " '0_normal',\n",
       " '0_normal',\n",
       " '0_normal',\n",
       " '0_normal',\n",
       " '0_normal',\n",
       " '0_normal',\n",
       " '0_normal',\n",
       " '0_normal',\n",
       " '0_normal',\n",
       " '0_normal',\n",
       " '0_normal',\n",
       " '0_normal',\n",
       " '0_normal',\n",
       " '0_normal',\n",
       " '0_normal',\n",
       " '0_normal',\n",
       " '0_normal',\n",
       " '0_normal',\n",
       " '0_normal',\n",
       " '0_normal',\n",
       " '0_normal',\n",
       " '0_normal',\n",
       " '0_normal',\n",
       " '0_normal',\n",
       " '0_normal',\n",
       " '0_normal',\n",
       " '0_normal',\n",
       " '0_normal',\n",
       " '0_normal',\n",
       " '0_normal',\n",
       " '0_normal',\n",
       " '0_normal',\n",
       " '0_normal',\n",
       " '0_normal',\n",
       " '0_normal',\n",
       " '0_normal',\n",
       " '0_normal',\n",
       " '0_normal',\n",
       " '0_normal',\n",
       " '0_normal',\n",
       " '0_normal',\n",
       " '0_normal',\n",
       " '0_normal',\n",
       " '0_normal',\n",
       " '0_normal',\n",
       " '0_normal',\n",
       " '0_normal',\n",
       " '0_normal',\n",
       " '0_normal',\n",
       " '0_normal',\n",
       " '0_normal',\n",
       " '0_normal',\n",
       " '0_normal',\n",
       " '0_normal',\n",
       " '0_normal',\n",
       " '0_normal',\n",
       " '0_normal',\n",
       " '0_normal',\n",
       " '0_normal',\n",
       " '0_normal',\n",
       " '0_normal',\n",
       " '0_normal',\n",
       " '0_normal',\n",
       " '0_normal',\n",
       " '0_normal',\n",
       " '0_normal',\n",
       " '0_normal',\n",
       " '0_normal',\n",
       " '0_normal',\n",
       " '0_normal',\n",
       " '0_normal',\n",
       " '0_normal',\n",
       " '0_normal',\n",
       " '0_normal',\n",
       " '0_normal',\n",
       " '0_normal',\n",
       " '0_normal',\n",
       " '0_normal',\n",
       " '0_normal',\n",
       " '0_normal',\n",
       " '0_normal',\n",
       " '0_normal',\n",
       " '0_normal',\n",
       " '0_normal',\n",
       " '0_normal',\n",
       " '0_normal',\n",
       " '0_normal',\n",
       " '0_normal',\n",
       " '0_normal',\n",
       " '0_normal',\n",
       " '0_normal',\n",
       " '0_normal',\n",
       " '0_normal',\n",
       " '0_normal',\n",
       " '0_normal',\n",
       " '0_normal',\n",
       " '0_normal',\n",
       " '0_normal',\n",
       " '0_normal',\n",
       " '0_normal',\n",
       " '0_normal',\n",
       " '0_normal',\n",
       " '0_normal',\n",
       " '0_normal',\n",
       " '0_normal',\n",
       " '0_normal',\n",
       " '0_normal',\n",
       " '0_normal',\n",
       " '0_normal',\n",
       " '0_normal',\n",
       " '0_normal',\n",
       " '0_normal',\n",
       " '0_normal',\n",
       " '0_normal',\n",
       " '0_normal',\n",
       " '0_normal',\n",
       " '0_normal',\n",
       " '0_normal',\n",
       " '0_normal',\n",
       " '0_normal',\n",
       " '0_normal',\n",
       " '0_normal',\n",
       " '0_normal',\n",
       " '0_normal',\n",
       " '0_normal',\n",
       " '0_normal',\n",
       " '0_normal',\n",
       " '0_normal',\n",
       " '0_normal',\n",
       " '0_normal',\n",
       " '0_normal',\n",
       " '0_normal',\n",
       " '0_normal',\n",
       " '0_normal',\n",
       " '0_normal',\n",
       " '0_normal',\n",
       " '0_normal',\n",
       " '0_normal',\n",
       " '0_normal',\n",
       " '0_normal',\n",
       " '0_normal',\n",
       " '0_normal',\n",
       " '0_normal',\n",
       " '0_normal',\n",
       " '0_normal',\n",
       " '0_normal',\n",
       " '0_normal',\n",
       " '0_normal',\n",
       " '0_normal',\n",
       " '0_normal',\n",
       " '0_normal',\n",
       " '0_normal',\n",
       " '0_normal',\n",
       " '0_normal',\n",
       " '0_normal',\n",
       " '0_normal',\n",
       " '0_normal',\n",
       " '0_normal',\n",
       " '0_normal',\n",
       " '0_normal',\n",
       " '0_normal',\n",
       " '0_normal',\n",
       " '0_normal',\n",
       " '0_normal',\n",
       " '0_normal',\n",
       " '0_normal',\n",
       " '0_normal',\n",
       " '0_normal',\n",
       " '0_normal',\n",
       " '0_normal',\n",
       " '0_normal',\n",
       " '0_normal',\n",
       " '0_normal',\n",
       " '0_normal',\n",
       " '0_normal',\n",
       " '0_normal',\n",
       " '0_normal',\n",
       " '0_normal',\n",
       " '0_normal',\n",
       " '0_normal',\n",
       " '0_normal',\n",
       " '0_normal',\n",
       " '0_normal',\n",
       " '0_normal',\n",
       " '0_normal',\n",
       " '0_normal',\n",
       " '0_normal',\n",
       " '0_normal',\n",
       " '0_normal',\n",
       " '0_normal',\n",
       " '0_normal',\n",
       " '0_normal',\n",
       " '0_normal',\n",
       " '0_normal',\n",
       " '0_normal',\n",
       " '0_normal',\n",
       " '0_normal',\n",
       " '0_normal',\n",
       " '0_normal',\n",
       " '0_normal',\n",
       " '0_normal',\n",
       " '0_normal',\n",
       " '0_normal',\n",
       " '0_normal',\n",
       " '0_normal',\n",
       " '0_normal',\n",
       " '0_normal',\n",
       " '0_normal',\n",
       " '0_normal',\n",
       " '0_normal',\n",
       " '0_normal',\n",
       " '0_normal',\n",
       " '0_normal',\n",
       " '0_normal',\n",
       " '0_normal',\n",
       " '0_normal',\n",
       " '0_normal',\n",
       " '0_normal',\n",
       " '0_normal',\n",
       " '0_normal',\n",
       " '0_normal',\n",
       " '0_normal',\n",
       " '0_normal',\n",
       " '0_normal',\n",
       " '0_normal',\n",
       " '0_normal',\n",
       " '0_normal',\n",
       " '0_normal',\n",
       " '0_normal',\n",
       " '0_normal',\n",
       " '0_normal',\n",
       " '0_normal',\n",
       " '0_normal',\n",
       " '0_normal',\n",
       " '0_normal',\n",
       " '0_normal',\n",
       " '0_normal',\n",
       " '0_normal',\n",
       " '0_normal',\n",
       " '0_normal',\n",
       " '0_normal',\n",
       " '0_normal',\n",
       " '0_normal',\n",
       " '0_normal',\n",
       " '0_normal',\n",
       " '0_normal',\n",
       " '0_normal',\n",
       " '0_normal',\n",
       " '0_normal',\n",
       " '0_normal',\n",
       " '0_normal',\n",
       " '0_normal',\n",
       " '0_normal',\n",
       " '0_normal',\n",
       " '0_normal',\n",
       " '0_normal',\n",
       " '0_normal',\n",
       " '0_normal',\n",
       " '0_normal',\n",
       " '0_normal',\n",
       " '0_normal',\n",
       " '0_normal',\n",
       " '0_normal',\n",
       " '0_normal',\n",
       " '0_normal',\n",
       " '0_normal',\n",
       " '0_normal',\n",
       " '0_normal',\n",
       " '0_normal',\n",
       " '0_normal',\n",
       " '0_normal',\n",
       " '0_normal',\n",
       " '0_normal',\n",
       " '0_normal',\n",
       " '0_normal',\n",
       " '0_normal',\n",
       " '0_normal',\n",
       " '0_normal',\n",
       " '0_normal',\n",
       " '0_normal',\n",
       " '0_normal',\n",
       " '0_normal',\n",
       " '0_normal',\n",
       " '0_normal',\n",
       " '0_normal',\n",
       " '0_normal',\n",
       " '0_normal',\n",
       " '0_normal',\n",
       " '0_normal',\n",
       " '0_normal',\n",
       " '0_normal',\n",
       " '0_normal',\n",
       " '0_normal',\n",
       " '0_normal',\n",
       " '0_normal',\n",
       " '0_normal',\n",
       " '0_normal',\n",
       " '0_normal',\n",
       " '0_normal',\n",
       " '0_normal',\n",
       " '0_normal',\n",
       " '0_normal',\n",
       " '0_normal',\n",
       " '0_normal',\n",
       " '0_normal',\n",
       " '0_normal',\n",
       " '0_normal',\n",
       " '0_normal',\n",
       " '0_normal',\n",
       " '0_normal',\n",
       " '0_normal',\n",
       " '0_normal',\n",
       " '0_normal',\n",
       " '0_normal',\n",
       " '0_normal',\n",
       " '0_normal',\n",
       " '0_normal',\n",
       " '0_normal',\n",
       " '0_normal',\n",
       " '0_normal',\n",
       " '0_normal',\n",
       " '0_normal',\n",
       " '0_normal',\n",
       " '0_normal',\n",
       " '0_normal',\n",
       " '0_normal',\n",
       " '0_normal',\n",
       " '0_normal',\n",
       " '0_normal',\n",
       " '0_normal',\n",
       " '0_normal',\n",
       " '0_normal',\n",
       " '0_normal',\n",
       " '0_normal',\n",
       " '0_normal',\n",
       " '0_normal',\n",
       " '0_normal',\n",
       " '0_normal',\n",
       " '0_normal',\n",
       " '0_normal',\n",
       " '0_normal',\n",
       " '0_normal',\n",
       " '0_normal',\n",
       " '0_normal',\n",
       " '0_normal',\n",
       " '0_normal',\n",
       " '0_normal',\n",
       " '0_normal',\n",
       " '0_normal',\n",
       " '0_normal',\n",
       " '0_normal',\n",
       " '0_normal',\n",
       " '0_normal',\n",
       " '0_normal',\n",
       " '0_normal',\n",
       " '0_normal',\n",
       " '0_normal',\n",
       " '0_normal',\n",
       " '0_normal',\n",
       " '0_normal',\n",
       " '0_normal',\n",
       " '0_normal',\n",
       " '0_normal',\n",
       " '0_normal',\n",
       " '0_normal',\n",
       " '0_normal',\n",
       " '0_normal',\n",
       " '0_normal',\n",
       " '0_normal',\n",
       " '0_normal',\n",
       " '0_normal',\n",
       " '0_normal',\n",
       " '0_normal',\n",
       " '0_normal',\n",
       " '0_normal',\n",
       " '0_normal',\n",
       " '0_normal',\n",
       " '0_normal',\n",
       " '0_normal',\n",
       " '0_normal',\n",
       " '0_normal',\n",
       " '0_normal',\n",
       " '0_normal',\n",
       " '0_normal',\n",
       " '0_normal',\n",
       " '0_normal',\n",
       " '0_normal',\n",
       " '0_normal',\n",
       " '0_normal',\n",
       " '0_normal',\n",
       " '0_normal',\n",
       " '0_normal',\n",
       " '0_normal',\n",
       " '0_normal',\n",
       " '0_normal',\n",
       " '0_normal',\n",
       " '0_normal',\n",
       " '0_normal',\n",
       " '0_normal',\n",
       " '0_normal',\n",
       " '0_normal',\n",
       " '0_normal',\n",
       " '0_normal',\n",
       " '0_normal',\n",
       " '0_normal',\n",
       " '0_normal',\n",
       " '0_normal',\n",
       " '0_normal',\n",
       " '0_normal',\n",
       " '0_normal',\n",
       " '0_normal',\n",
       " '0_normal',\n",
       " '0_normal',\n",
       " '0_normal',\n",
       " '0_normal',\n",
       " '0_normal',\n",
       " '0_normal',\n",
       " '0_normal',\n",
       " '0_normal',\n",
       " '0_normal',\n",
       " '0_normal',\n",
       " '0_normal',\n",
       " '0_normal',\n",
       " '0_normal',\n",
       " '0_normal',\n",
       " '0_normal',\n",
       " '0_normal',\n",
       " '0_normal',\n",
       " '0_normal',\n",
       " '0_normal',\n",
       " '0_normal',\n",
       " '0_normal',\n",
       " '0_normal',\n",
       " '0_normal',\n",
       " '0_normal',\n",
       " '0_normal',\n",
       " '0_normal',\n",
       " '0_normal',\n",
       " '0_normal',\n",
       " '0_normal',\n",
       " '0_normal',\n",
       " '0_normal',\n",
       " '0_normal',\n",
       " '0_normal',\n",
       " '0_normal',\n",
       " '0_normal',\n",
       " '0_normal',\n",
       " '0_normal',\n",
       " '0_normal',\n",
       " '0_normal',\n",
       " '0_normal',\n",
       " '0_normal',\n",
       " '0_normal',\n",
       " '0_normal',\n",
       " '0_normal',\n",
       " ...]"
      ]
     },
     "execution_count": 23,
     "metadata": {},
     "output_type": "execute_result"
    }
   ],
   "source": [
    "def most_frequent(List):\n",
    "    return max(set(List), key = List.count)\n",
    "\n",
    "finalResults = []\n",
    "for i in range(len(predictions_01)):\n",
    "    tempResultsArray = [predictions_01[i], predictions_02[i], predictions_03[i], predictions_04[i], predictions_05[i],\n",
    "                  predictions_06[i], predictions_07[i], predictions_08[i], predictions_09[i], predictions_10[i]]\n",
    "    \n",
    "    tempResults = most_frequent(tempResultsArray)\n",
    "    finalResults.append(tempResults)\n",
    "finalResults"
   ]
  },
  {
   "cell_type": "code",
   "execution_count": 25,
   "metadata": {
    "execution": {
     "iopub.execute_input": "2022-08-02T06:17:54.209634Z",
     "iopub.status.busy": "2022-08-02T06:17:54.209274Z",
     "iopub.status.idle": "2022-08-02T06:17:55.139345Z",
     "shell.execute_reply": "2022-08-02T06:17:55.137728Z",
     "shell.execute_reply.started": "2022-08-02T06:17:54.209592Z"
    }
   },
   "outputs": [
    {
     "name": "stdout",
     "output_type": "stream",
     "text": [
      "Confusion Matrix:\n"
     ]
    },
    {
     "data": {
      "image/png": "[encoded data removed]",
      "text/plain": [
       "<Figure size 432x288 with 2 Axes>"
      ]
     },
     "metadata": {
      "needs_background": "light"
     },
     "output_type": "display_data"
    }
   ],
   "source": [
    "from sklearn.metrics import confusion_matrix, classification_report\n",
    "data_class = [\"0_normal\", \"1_ulcerative_colitis\", \"2_polyps\", \"3_esophagitis\"]\n",
    "confusionMatrix = confusion_matrix(y_true_01, finalResults,\n",
    "                                       labels=data_class)\n",
    "print(\"Confusion Matrix:\")\n",
    "plt.figure()\n",
    "sns.heatmap(confusionMatrix,\n",
    "            xticklabels=[\"predicted_0_normal\",\n",
    "                         \"predicted_1_ulcerative_colitis\",\n",
    "                         \"predicted_2_polyps\",\n",
    "                         \"predicted_3_esophagitis\"]\n",
    "            , yticklabels=[\"actual_0_normal\",\n",
    "                           \"actual_1_ulcerative_colitis\",\n",
    "                           \"actual_2_polyps\",\n",
    "                           \"actual_3_esophagitis\"]\n",
    "            , annot=True, fmt='.2f')\n",
    "\n",
    "plt.title(\"Confusion Matrix \" + \"AugModelsMaxVoting\")\n",
    "plt.savefig(\"TestResultsAug/13B_AugVotingModels/results/confusionMatrix/13B_AugVotingModels.jpg\",bbox_inches='tight')\n",
    "df = pd.DataFrame(classification_report(y_true_01, finalResults, output_dict=True))\n",
    "df[\"modelName\"] = \"13B_AugVotingModels_TEST\"\n",
    "df[\"modelTag\"] = \"13B\"\n",
    "saveResults_csv(df, location = \"TestResultsAug/13B_AugVotingModels/results/classificationReport/13B_AugVotingModels.csv\")"
   ]
  },
  {
   "cell_type": "code",
   "execution_count": 27,
   "metadata": {
    "execution": {
     "iopub.execute_input": "2022-08-02T06:18:09.720655Z",
     "iopub.status.busy": "2022-08-02T06:18:09.720276Z",
     "iopub.status.idle": "2022-08-02T06:18:09.751667Z",
     "shell.execute_reply": "2022-08-02T06:18:09.750813Z",
     "shell.execute_reply.started": "2022-08-02T06:18:09.720613Z"
    }
   },
   "outputs": [
    {
     "data": {
      "text/html": [
       "<div>\n",
       "<style scoped>\n",
       "    .dataframe tbody tr th:only-of-type {\n",
       "        vertical-align: middle;\n",
       "    }\n",
       "\n",
       "    .dataframe tbody tr th {\n",
       "        vertical-align: top;\n",
       "    }\n",
       "\n",
       "    .dataframe thead th {\n",
       "        text-align: right;\n",
       "    }\n",
       "</style>\n",
       "<table border=\"1\" class=\"dataframe\">\n",
       "  <thead>\n",
       "    <tr style=\"text-align: right;\">\n",
       "      <th></th>\n",
       "      <th>0_normal</th>\n",
       "      <th>1_ulcerative_colitis</th>\n",
       "      <th>2_polyps</th>\n",
       "      <th>3_esophagitis</th>\n",
       "      <th>accuracy</th>\n",
       "      <th>macro avg</th>\n",
       "      <th>weighted avg</th>\n",
       "      <th>modelName</th>\n",
       "      <th>modelTag</th>\n",
       "    </tr>\n",
       "  </thead>\n",
       "  <tbody>\n",
       "    <tr>\n",
       "      <th>precision</th>\n",
       "      <td>0.998336</td>\n",
       "      <td>0.929365</td>\n",
       "      <td>0.976765</td>\n",
       "      <td>0.981952</td>\n",
       "      <td>0.971042</td>\n",
       "      <td>0.971605</td>\n",
       "      <td>0.971605</td>\n",
       "      <td>13B_AugVotingModels_TEST</td>\n",
       "      <td>13B</td>\n",
       "    </tr>\n",
       "    <tr>\n",
       "      <th>recall</th>\n",
       "      <td>1.000000</td>\n",
       "      <td>0.975833</td>\n",
       "      <td>0.910833</td>\n",
       "      <td>0.997500</td>\n",
       "      <td>0.971042</td>\n",
       "      <td>0.971042</td>\n",
       "      <td>0.971042</td>\n",
       "      <td>13B_AugVotingModels_TEST</td>\n",
       "      <td>13B</td>\n",
       "    </tr>\n",
       "    <tr>\n",
       "      <th>f1-score</th>\n",
       "      <td>0.999167</td>\n",
       "      <td>0.952033</td>\n",
       "      <td>0.942648</td>\n",
       "      <td>0.989665</td>\n",
       "      <td>0.971042</td>\n",
       "      <td>0.970878</td>\n",
       "      <td>0.970878</td>\n",
       "      <td>13B_AugVotingModels_TEST</td>\n",
       "      <td>13B</td>\n",
       "    </tr>\n",
       "    <tr>\n",
       "      <th>support</th>\n",
       "      <td>1200.000000</td>\n",
       "      <td>1200.000000</td>\n",
       "      <td>1200.000000</td>\n",
       "      <td>1200.000000</td>\n",
       "      <td>0.971042</td>\n",
       "      <td>4800.000000</td>\n",
       "      <td>4800.000000</td>\n",
       "      <td>13B_AugVotingModels_TEST</td>\n",
       "      <td>13B</td>\n",
       "    </tr>\n",
       "  </tbody>\n",
       "</table>\n",
       "</div>"
      ],
      "text/plain": [
       "              0_normal  1_ulcerative_colitis     2_polyps  3_esophagitis  \\\n",
       "precision     0.998336              0.929365     0.976765       0.981952   \n",
       "recall        1.000000              0.975833     0.910833       0.997500   \n",
       "f1-score      0.999167              0.952033     0.942648       0.989665   \n",
       "support    1200.000000           1200.000000  1200.000000    1200.000000   \n",
       "\n",
       "           accuracy    macro avg  weighted avg                 modelName  \\\n",
       "precision  0.971042     0.971605      0.971605  13B_AugVotingModels_TEST   \n",
       "recall     0.971042     0.971042      0.971042  13B_AugVotingModels_TEST   \n",
       "f1-score   0.971042     0.970878      0.970878  13B_AugVotingModels_TEST   \n",
       "support    0.971042  4800.000000   4800.000000  13B_AugVotingModels_TEST   \n",
       "\n",
       "          modelTag  \n",
       "precision      13B  \n",
       "recall         13B  \n",
       "f1-score       13B  \n",
       "support        13B  "
      ]
     },
     "execution_count": 27,
     "metadata": {},
     "output_type": "execute_result"
    }
   ],
   "source": [
    "df"
   ]
  },
  {
   "cell_type": "code",
   "execution_count": null,
   "metadata": {},
   "outputs": [],
   "source": []
  },
  {
   "cell_type": "code",
   "execution_count": null,
   "metadata": {},
   "outputs": [],
   "source": []
  },
  {
   "cell_type": "code",
   "execution_count": null,
   "metadata": {},
   "outputs": [],
   "source": []
  },
  {
   "cell_type": "code",
   "execution_count": null,
   "metadata": {},
   "outputs": [],
   "source": []
  },
  {
   "cell_type": "code",
   "execution_count": null,
   "metadata": {},
   "outputs": [],
   "source": []
  },
  {
   "cell_type": "code",
   "execution_count": null,
   "metadata": {},
   "outputs": [],
   "source": []
  },
  {
   "cell_type": "code",
   "execution_count": null,
   "metadata": {},
   "outputs": [],
   "source": []
  },
  {
   "cell_type": "code",
   "execution_count": null,
   "metadata": {},
   "outputs": [],
   "source": []
  }
 ],
 "metadata": {
  "colab": {
   "collapsed_sections": [],
   "name": "01_BaseModel1.ipynb",
   "provenance": [],
   "toc_visible": true
  },
  "kernelspec": {
   "display_name": "Python 3 (ipykernel)",
   "language": "python",
   "name": "python3"
  },
  "language_info": {
   "codemirror_mode": {
    "name": "ipython",
    "version": 3
   },
   "file_extension": ".py",
   "mimetype": "text/x-python",
   "name": "python",
   "nbconvert_exporter": "python",
   "pygments_lexer": "ipython3",
   "version": "3.8.10"
  }
 },
 "nbformat": 4,
 "nbformat_minor": 4
}
